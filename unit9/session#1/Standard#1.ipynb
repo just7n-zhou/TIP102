{
 "cells": [
  {
   "cell_type": "code",
   "execution_count": 7,
   "id": "bb55ee96",
   "metadata": {},
   "outputs": [],
   "source": [
    "# Print tree function\n",
    "from collections import deque \n",
    "\n",
    "# Tree Node class\n",
    "class TreeNode:\n",
    "    def __init__(self, value, left=None, right=None):\n",
    "        self.val = value\n",
    "        self.left = left\n",
    "        self.right = right\n",
    "\n",
    "def print_tree(root):\n",
    "    if not root:\n",
    "        return \"Empty\"\n",
    "    result = []\n",
    "    queue = deque([root])\n",
    "    while queue:\n",
    "        node = queue.popleft()\n",
    "        if node:\n",
    "            result.append(node.val)\n",
    "            queue.append(node.left)\n",
    "            queue.append(node.right)\n",
    "        else:\n",
    "            result.append(None)\n",
    "    while result and result[-1] is None:\n",
    "        result.pop()\n",
    "    print(result)"
   ]
  },
  {
   "cell_type": "code",
   "execution_count": 8,
   "id": "b22254fb",
   "metadata": {},
   "outputs": [],
   "source": [
    "# Build Tree Function\n",
    "from collections import deque \n",
    "\n",
    "# Tree Node class\n",
    "class TreeNode:\n",
    "  def __init__(self, value, key=None, left=None, right=None):\n",
    "      self.key = key\n",
    "      self.val = value\n",
    "      self.left = left\n",
    "      self.right = right\n",
    "\n",
    "def build_tree(values):\n",
    "  if not values:\n",
    "      return None\n",
    "\n",
    "  def get_key_value(item):\n",
    "      if isinstance(item, tuple):\n",
    "          return item[0], item[1]\n",
    "      else:\n",
    "          return None, item\n",
    "\n",
    "  key, value = get_key_value(values[0])\n",
    "  root = TreeNode(value, key)\n",
    "  queue = deque([root])\n",
    "  index = 1\n",
    "\n",
    "  while queue:\n",
    "      node = queue.popleft()\n",
    "      if index < len(values) and values[index] is not None:\n",
    "          left_key, left_value = get_key_value(values[index])\n",
    "          node.left = TreeNode(left_value, left_key)\n",
    "          queue.append(node.left)\n",
    "      index += 1\n",
    "      if index < len(values) and values[index] is not None:\n",
    "          right_key, right_value = get_key_value(values[index])\n",
    "          node.right = TreeNode(right_value, right_key)\n",
    "          queue.append(node.right)\n",
    "      index += 1\n",
    "\n",
    "  return root"
   ]
  },
  {
   "cell_type": "markdown",
   "id": "0b615a67",
   "metadata": {},
   "source": [
    "Problem 1: Merging Cookie Orders\n",
    "You run a local bakery and are given the roots of two binary trees order1 and order2 where each node in the binary tree represents the number of a certain cookie type the customer has ordered. To maximize efficiency, you want to bake enough of each type of cookie for both orders together.\n",
    "\n",
    "Given order1 and order2, merge the order together into one tree and return the root of the merged tree. To merge the orders, imagine that when place one tree on top of the other, some nodes of the two trees are overlapped while others are not. If two nodes overlap, then sum node values up as the new value of the merged node. Otherwise, the not None node will be used as the node of the new tree.\n",
    "\n",
    "Start the merging process from the root of both orders.\n",
    "\n",
    "Evaluate the time complexity of your function. Define your variables and provide a rationale for why you believe your solution has the stated time complexity. Assume the input tree is balanced when calculating time complexity."
   ]
  },
  {
   "cell_type": "code",
   "execution_count": null,
   "id": "0ea22e23",
   "metadata": {},
   "outputs": [
    {
     "name": "stdout",
     "output_type": "stream",
     "text": [
      "[3, 4, 5, 5, 4, None, 7]\n"
     ]
    }
   ],
   "source": [
    "class TreeNode():\n",
    "     def __init__(self, quantity, left=None, right=None):\n",
    "        self.val = quantity\n",
    "        self.left = left\n",
    "        self.right = right\n",
    "\n",
    "def merge_orders(order1, order2):\n",
    "    # Base case: if either node is None, return the other node\n",
    "    if not order1:\n",
    "        return order2\n",
    "    if not order2:\n",
    "        return order1\n",
    "    \n",
    "    # Merge the nodes\n",
    "    merged = TreeNode(order1.val + order2.val)\n",
    "    \n",
    "    # Recursively merge the left and right children\n",
    "    merged.left = merge_orders(order1.left, order2.left)\n",
    "    merged.right = merge_orders(order1.right, order2.right)\n",
    "    \n",
    "    return merged\n",
    "        \n",
    "\n",
    "\"\"\"\n",
    "     1             2         \n",
    "    /  \\         /   \\       \n",
    "   3    2       1     3   \n",
    " /               \\      \\   \n",
    "5                 4      7   \n",
    "\"\"\"\n",
    "# Using build_tree() function included at top of page\n",
    "cookies1 = [1, 3, 2, 5]\n",
    "cookies2 = [2, 1, 3, None, 4, None, 7]\n",
    "order1 = build_tree(cookies1)\n",
    "order2 = build_tree(cookies2)\n",
    "\n",
    "# Using print_tree() function included at top of page\n",
    "print_tree(merge_orders(order1, order2))\n",
    "\n",
    "# [3, 4, 5, 5, 4, None, 7]\n",
    "# Explanation:\n",
    "# Merged Tree:\n",
    "#      3\n",
    "#     /  \\      \n",
    "#   4     5  \n",
    "#  / \\      \\\n",
    "# 5   4      7"
   ]
  },
  {
   "cell_type": "markdown",
   "id": "d727bcc3",
   "metadata": {},
   "source": [
    "Problem 2: Croquembouche\n",
    "You are designing a delicious croquembouche (a French dessert composed of a cone-shaped tower of cream puffs 😋), for a couple's wedding. They want the cream puffs to have a variety of flavors. You've finished your design and want to send it to the couple for review.\n",
    "\n",
    "Given a root of a binary tree design where each node in the tree represents a cream puff in the croquembouche, that prints a list of the flavors (vals) of each cream puff in level order (i.e., from left to right, level by level)."
   ]
  },
  {
   "cell_type": "code",
   "execution_count": 2,
   "id": "6d95c2c6",
   "metadata": {},
   "outputs": [
    {
     "data": {
      "text/plain": [
       "['Vanilla', 'Chocolate', 'Strawberry', 'Vanilla', 'Matcha']"
      ]
     },
     "execution_count": 2,
     "metadata": {},
     "output_type": "execute_result"
    }
   ],
   "source": [
    "from collections import deque\n",
    "class Puff():\n",
    "     def __init__(self, flavor, left=None, right=None):\n",
    "        self.val = flavor\n",
    "        self.left = left\n",
    "        self.right = right\n",
    "\n",
    "def print_design(design):\n",
    "    if not design:\n",
    "        return []\n",
    "\n",
    "    queue = deque([design])\n",
    "    res = []\n",
    "    while queue:\n",
    "        for _ in range(len(queue)):\n",
    "            node = queue.popleft()\n",
    "            res.append(node.val)\n",
    "            if node.left:\n",
    "                queue.append(node.left)\n",
    "            if node.right:\n",
    "                queue.append(node.right)\n",
    "    \n",
    "    return res\n",
    "\n",
    "\"\"\"\n",
    "            Vanilla\n",
    "           /       \\\n",
    "      Chocolate   Strawberry\n",
    "      /     \\\n",
    "  Vanilla   Matcha  \n",
    "\"\"\"\n",
    "croquembouche = Puff(\"Vanilla\", \n",
    "                    Puff(\"Chocolate\", Puff(\"Vanilla\"), Puff(\"Matcha\")), \n",
    "                    Puff(\"Strawberry\"))\n",
    "print_design(croquembouche)\n",
    "\n",
    "# ['Vanilla', 'Chocolate', 'Strawberry', 'Vanilla', 'Matcha']"
   ]
  },
  {
   "cell_type": "markdown",
   "id": "26dfd953",
   "metadata": {},
   "source": [
    "Problem 3: Maximum Tiers in Cake\n",
    "You have entered your bakery into a cake baking competition and for your entry have decided build a complicated pyramid shape cake, where different sections have different numbers of tiers. Given the root of a binary tree cake where each node represents a different section of your cake, return the maximum number of tiers in your cake.\n",
    "\n",
    "The maximum number of tiers is the number of nodes along the longest path from the root node down to the farthest leaf node.\n",
    "\n",
    "Evaluate the time complexity of your function. Define your variables and provide a rationale for why you believe your solution has the stated time complexity. Assume the input tree is balanced when calculating time complexity."
   ]
  },
  {
   "cell_type": "code",
   "execution_count": 10,
   "id": "4fe7a686",
   "metadata": {},
   "outputs": [
    {
     "name": "stdout",
     "output_type": "stream",
     "text": [
      "3\n"
     ]
    }
   ],
   "source": [
    "from collections import deque \n",
    "class TreeNode():\n",
    "     def __init__(self, value, left=None, right=None):\n",
    "        self.val = value\n",
    "        self.left = left\n",
    "        self.right = right\n",
    "\n",
    "def max_tiers(cake):\n",
    "    if not cake:\n",
    "        return 0 \n",
    "\n",
    "    depth = 0 \n",
    "    queue = deque([cake])\n",
    "    while queue:\n",
    "        depth += 1\n",
    "        for _ in range(len(queue)):\n",
    "            node = queue.popleft()\n",
    "            if node.left:\n",
    "                queue.append(node.left)\n",
    "            if node.right:\n",
    "                queue.append(node.right)\n",
    "    \n",
    "    return depth \n",
    "\n",
    "\"\"\"\n",
    "        Chocolate\n",
    "        /        \\\n",
    "    Vanilla    Strawberry\n",
    "                /     \\\n",
    "         Chocolate    Coffee\n",
    "\"\"\"\n",
    "# Using build_tree() function included at top of page\n",
    "cake_sections = [\"Chocolate\", \"Vanilla\", \"Strawberry\", None, None, \"Chocolate\", \"Coffee\"]\n",
    "cake = build_tree(cake_sections)\n",
    "\n",
    "print(max_tiers(cake))\n",
    "\n",
    "#3\n"
   ]
  },
  {
   "cell_type": "code",
   "execution_count": null,
   "id": "9e950318",
   "metadata": {},
   "outputs": [],
   "source": []
  }
 ],
 "metadata": {
  "kernelspec": {
   "display_name": "base",
   "language": "python",
   "name": "python3"
  },
  "language_info": {
   "codemirror_mode": {
    "name": "ipython",
    "version": 3
   },
   "file_extension": ".py",
   "mimetype": "text/x-python",
   "name": "python",
   "nbconvert_exporter": "python",
   "pygments_lexer": "ipython3",
   "version": "3.11.3"
  }
 },
 "nbformat": 4,
 "nbformat_minor": 5
}
