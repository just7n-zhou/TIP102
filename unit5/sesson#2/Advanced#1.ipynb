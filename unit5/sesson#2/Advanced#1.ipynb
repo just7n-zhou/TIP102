{
 "cells": [
  {
   "cell_type": "markdown",
   "id": "2b478c18",
   "metadata": {},
   "source": [
    "Problem 1: Array to Linked List\n",
    "Write a function arr_to_ll() that accepts an array of Player instances arr and converts arr into a linked list. The function should return the head of the linked list. If arr is empty, return None.\n",
    "\n",
    "A function print_linked_list() is provided, which accepts the head, or first element, of a linked list and prints the character attribute of each Player in the linked list for testing purposes.\n",
    "\n",
    "Evaluate the time and space complexity of your solution. Define your variables and provide a rationale for why you believe your solution has the stated time and space complexity."
   ]
  },
  {
   "cell_type": "code",
   "execution_count": 2,
   "id": "79bd148f",
   "metadata": {},
   "outputs": [
    {
     "name": "stdout",
     "output_type": "stream",
     "text": [
      "Mario -> Luigi -> Peach\n",
      "Peach\n"
     ]
    }
   ],
   "source": [
    "class Player:\n",
    "    def __init__(self, character, kart):\n",
    "        self.character = character\n",
    "        self.kart = kart\n",
    "        self.items = []\n",
    "\n",
    "class Node:\n",
    "    def __init__(self, value, next=None):\n",
    "        self.value = value\n",
    "        self.next = next\n",
    "\n",
    "# For testing\n",
    "def print_linked_list(head):\n",
    "    current = head\n",
    "    while current:\n",
    "        print(current.value.character, end=\" -> \" if current.next else \"\\n\")\n",
    "        current = current.next\n",
    "\n",
    "def arr_to_ll(arr):\n",
    "    if not arr:\n",
    "        return None \n",
    "    \n",
    "    head = Node(arr[0])\n",
    "    current = head\n",
    "    for player in arr[1:]:\n",
    "        current.next = Node(player)\n",
    "        current = current.next\n",
    "    \n",
    "    return head\n",
    "\n",
    "mario = Player(\"Mario\", \"Mushmellow\")\n",
    "luigi = Player(\"Luigi\", \"Standard LG\")\n",
    "peach = Player(\"Peach\", \"Bumble V\")\n",
    "\n",
    "print_linked_list(arr_to_ll([mario, luigi, peach]))\n",
    "print_linked_list(arr_to_ll([peach]))\n",
    "\n",
    "# Mario -> Luigi -> Peach \n",
    "# Peach"
   ]
  },
  {
   "cell_type": "markdown",
   "id": "4a096266",
   "metadata": {},
   "source": [
    "Problem 2: Get it Out of Here!\n",
    "The following code incorrectly implements the function remove_by_value(). When implemented correctly, remove_by_value() accepts the head of a singly linked list and a value val, and removes the first node in the linked list with the value val. It should return the head of the modified list.\n",
    "\n",
    "Step 1: Copy this code into Replit.\n",
    "\n",
    "Step 2: Create your own test cases to run the code against, and use print statements, print_linked_list(), and the stack trace to identify and fix any bug(s) so that the function correctly removes a node by value from the list."
   ]
  },
  {
   "cell_type": "code",
   "execution_count": 8,
   "id": "9d4a20c6",
   "metadata": {},
   "outputs": [
    {
     "name": "stdout",
     "output_type": "stream",
     "text": [
      "Current: Daisy\n",
      "Current Next: Mario\n",
      "Current: Mario\n",
      "Current Next: Waluigi\n",
      "New Current Next: Baby Peach\n",
      "Daisy -> Mario -> Baby Peach\n"
     ]
    }
   ],
   "source": [
    "class Node:\n",
    "    def __init__(self, value=None, next=None):\n",
    "        self.value = value\n",
    "        self.next = next\n",
    "\n",
    "# For testing\n",
    "def print_linked_list(head):\n",
    "    current = head\n",
    "    while current:\n",
    "        print(current.value, end=\" -> \" if current.next else \"\\n\")\n",
    "        current = current.next\n",
    "\n",
    "def remove_by_value(head, val):\n",
    "    if not head:\n",
    "        return None\n",
    "    if head.value == val:\n",
    "        return head.next  \n",
    "\n",
    "    current = head\n",
    "    while current.next:\n",
    "        print(f\"Current: {current.value}\")\n",
    "        print(f\"Current Next: {current.next.value}\")\n",
    "        if current.next.value == val:\n",
    "            current.next = current.next.next  # FIX: change from incorrect \"current = current.next.next\"\n",
    "            print(f\"New Current Next: {current.next.value}\")\n",
    "            return head  \n",
    "        current = current.next\n",
    "\n",
    "    return head\n",
    "\n",
    "head = Node(\"Daisy\", Node(\"Mario\", Node(\"Waluigi\", Node(\"Baby Peach\"))))\n",
    "\n",
    "print_linked_list(remove_by_value(head, \"Waluigi\"))\n",
    "\n",
    "# Daisy -> Mario -> Baby Peach\n"
   ]
  },
  {
   "cell_type": "markdown",
   "id": "4b7fb5ba",
   "metadata": {},
   "source": [
    "Problem 3: Partition List Around Value\n",
    "Given the head of a linked list with integer values and a value val, write a function partition() that partitions the linked list around val such that all nodes with values less than val come before nodes with values greater than or equal to val.\n",
    "\n",
    "Evaluate the time and space complexity of your solution. Define your variables and provide a rationale for why you believe your solution has the stated time and space complexity."
   ]
  },
  {
   "cell_type": "code",
   "execution_count": 9,
   "id": "864295d4",
   "metadata": {},
   "outputs": [
    {
     "name": "stdout",
     "output_type": "stream",
     "text": [
      "1 -> 2 -> 2 -> 4 -> 3 -> 5\n"
     ]
    }
   ],
   "source": [
    "class Node:\n",
    "    def __init__(self, value, next=None):\n",
    "        self.value = value\n",
    "        self.next = next\n",
    "\n",
    "# For testing\n",
    "def print_linked_list(head):\n",
    "    current = head\n",
    "    while current:\n",
    "        print(current.value, end=\" -> \" if current.next else \"\\n\")\n",
    "        current = current.next\n",
    "\n",
    "def partition(head, val):\n",
    "    # Create two temp heads to start the less and greater lists\n",
    "    less_head = Node(0)\n",
    "    greater_head = Node(0)\n",
    "    \n",
    "    # These pointers will be used to add nodes to the less and greater lists\n",
    "    less = less_head\n",
    "    greater = greater_head\n",
    "    \n",
    "    # Traverse the original list\n",
    "    current = head\n",
    "    while current:\n",
    "        if current.value < val:\n",
    "            less.next = current\n",
    "            less = less.next\n",
    "        else:\n",
    "            greater.next = current\n",
    "            greater = greater.next\n",
    "        \n",
    "        current = current.next\n",
    "    \n",
    "    # Important: end the greater list to prevent cycles\n",
    "    greater.next = None\n",
    "    \n",
    "    # Attach the end of the less list to the start of the greater list\n",
    "    # Important: Skip the temp head\n",
    "    less.next = greater_head.next\n",
    "    \n",
    "    return less_head.next\n",
    "\n",
    "head = Node(1, Node(4, Node(3, Node(2, Node(5, Node(2))))))\n",
    "\n",
    "print_linked_list(partition(head, 3))\n",
    "\n",
    "# 1 -> 2 -> 2 -> 4 -> 3 -> 5\n",
    "# Explanation: There are multiple possible solutions.\n",
    "# E.g. 2 -> 2 -> 1 -> 5 -> 4 -> 3"
   ]
  },
  {
   "cell_type": "markdown",
   "id": "1fc26593",
   "metadata": {},
   "source": [
    "Problem 4: Middle Match\n",
    "A variation of the two-pointer technique introduced earlier in the course is to have a slow and a fast pointer that increment at different rates. Given the head of a linked list, and a value val, use the slow-fast pointer technique to determine if val matches the middle node of the list. If there are two middle nodes, return True if the second middle node matches the value val.\n",
    "\n",
    "Evaluate the time and space complexity of your solution. Define your variables and provide a rationale for why you believe your solution has the stated time and space complexity."
   ]
  },
  {
   "cell_type": "code",
   "execution_count": 11,
   "id": "e93d07a5",
   "metadata": {},
   "outputs": [
    {
     "name": "stdout",
     "output_type": "stream",
     "text": [
      "True\n",
      "False\n"
     ]
    }
   ],
   "source": [
    "class Node:\n",
    "    def __init__(self, value, next=None):\n",
    "        self.value = value\n",
    "        self.next = next\n",
    "\n",
    "# For testing\n",
    "def print_linked_list(head):\n",
    "    current = head\n",
    "    while current:\n",
    "        print(current.value, end=\" -> \" if current.next else \"\\n\")\n",
    "        current = current.next\n",
    "\n",
    "def middle_match(head, val):\n",
    "    if not head:\n",
    "        return False  # Return False as there's no node to match with val\n",
    "\n",
    "    slow = fast = head\n",
    "    while fast and fast.next:\n",
    "        slow = slow.next\n",
    "        fast = fast.next.next\n",
    "    return slow.value == val  # Check if the middle node's value matches val\n",
    "\n",
    "kart_choices = Node(\"Bullet Bike\", Node(\"Wild Wing\", Node(\"Pirahna Prowler\")))\n",
    "tournament_tracks = Node(\"Rainbow Road\", Node(\"Bowser Castle\", Node(\"Sherbet Land\", Node(\"Yoshi Valley\"))))\n",
    "\n",
    "print(middle_match(kart_choices, \"Wild Wing\"))\n",
    "print(middle_match(tournament_tracks, \"Bowser Castle\"))\n",
    "\n",
    "# True\n",
    "# False"
   ]
  },
  {
   "cell_type": "markdown",
   "id": "beba7f94",
   "metadata": {},
   "source": [
    "Problem 5: Put it in Reverse\n",
    "Given the head of a singly linked list, reverse the list, and return the head of the reversed list. You must reverse the list in place. Return the head of the reversed list.\n",
    "\n",
    "Evaluate the time and space complexity of your solution. Define your variables and provide a rationale for why you believe your solution has the stated time and space complexity."
   ]
  },
  {
   "cell_type": "code",
   "execution_count": 13,
   "id": "c4f77fe5",
   "metadata": {},
   "outputs": [
    {
     "name": "stdout",
     "output_type": "stream",
     "text": [
      "Pirahna Prowler -> Wild Wing -> Bullet Bike\n"
     ]
    }
   ],
   "source": [
    "class Node:\n",
    "    def __init__(self, value, next=None):\n",
    "        self.value = value\n",
    "        self.next = next\n",
    "\n",
    "# For testing\n",
    "def print_linked_list(head):\n",
    "    current = head\n",
    "    while current:\n",
    "        print(current.value, end=\" -> \" if current.next else \"\\n\")\n",
    "        current = current.next\n",
    "\n",
    "\n",
    "def reverse(head):\n",
    "    prev = None \n",
    "    current = head \n",
    "    while current:\n",
    "        next_node = current.next \n",
    "        current.next = prev \n",
    "        prev = current\n",
    "        current = next_node \n",
    "\n",
    "    return prev\n",
    "\n",
    "kart_choices = Node(\"Bullet Bike\", Node(\"Wild Wing\", Node(\"Pirahna Prowler\")))\n",
    "\n",
    "print_linked_list(reverse(kart_choices))\n",
    "\n",
    "# Pirahna Prowler -> Wild Wing -> Bullet Bike"
   ]
  },
  {
   "cell_type": "markdown",
   "id": "37048cd3",
   "metadata": {},
   "source": [
    "Problem 6: Symmetrical\n",
    "Given the head of a singly linked list, return True if the values of the linked list nodes read the same forwards and backwards. Otherwise, return False. Use the two-pointer technique in your solution.\n",
    "\n",
    "Evaluate the time and space complexity of your solution. Define your variables and provide a rationale for why you believe your solution has the stated time and space complexity."
   ]
  },
  {
   "cell_type": "code",
   "execution_count": 14,
   "id": "3a335193",
   "metadata": {},
   "outputs": [
    {
     "name": "stdout",
     "output_type": "stream",
     "text": [
      "True\n",
      "False\n"
     ]
    }
   ],
   "source": [
    "class Node:\n",
    "    def __init__(self, value, next=None):\n",
    "        self.value = value\n",
    "        self.next = next\n",
    "\n",
    "# For testing\n",
    "def print_linked_list(head):\n",
    "    current = head\n",
    "    while current:\n",
    "        print(current.value, end=\" -> \" if current.next else \"\\n\")\n",
    "        current = current.next\n",
    "\n",
    "def is_symmetric(head):\n",
    "    if head is None or head.next is None:\n",
    "        return True  # A list with 0 or 1 element is symmetric\n",
    "\n",
    "    # Find the middle of the list\n",
    "    slow = fast = head\n",
    "    while fast and fast.next:\n",
    "        slow = slow.next\n",
    "        fast = fast.next.next\n",
    "    \n",
    "    # Reverse the second half of the list\n",
    "    prev = None\n",
    "    while slow:\n",
    "        next_node = slow.next\n",
    "        slow.next = prev\n",
    "        prev = slow\n",
    "        slow = next_node\n",
    "    \n",
    "    # Compare the first half and the reversed second half\n",
    "    left, right = head, prev\n",
    "    while right:  # Only need to compare till the end of the second half\n",
    "        if left.value != right.value:\n",
    "            return False\n",
    "        left = left.next\n",
    "        right = right.next\n",
    "    \n",
    "    return True\n",
    "\n",
    "head1 = Node(\"Bitterling\", Node(\"Crawfish\", Node(\"Bitterling\")))\n",
    "head2 = Node(\"Bitterling\", Node(\"Carp\", Node(\"Koi\")))\n",
    "\n",
    "print(is_symmetric(head1))\n",
    "print(is_symmetric(head2))\n",
    "\n",
    "# True\n",
    "# False"
   ]
  },
  {
   "cell_type": "code",
   "execution_count": null,
   "id": "f96d65ee",
   "metadata": {},
   "outputs": [],
   "source": []
  }
 ],
 "metadata": {
  "kernelspec": {
   "display_name": "base",
   "language": "python",
   "name": "python3"
  },
  "language_info": {
   "codemirror_mode": {
    "name": "ipython",
    "version": 3
   },
   "file_extension": ".py",
   "mimetype": "text/x-python",
   "name": "python",
   "nbconvert_exporter": "python",
   "pygments_lexer": "ipython3",
   "version": "3.11.3"
  }
 },
 "nbformat": 4,
 "nbformat_minor": 5
}
