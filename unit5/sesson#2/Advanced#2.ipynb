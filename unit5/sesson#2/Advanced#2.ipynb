{
 "cells": [
  {
   "cell_type": "markdown",
   "id": "e3b2e2f4",
   "metadata": {},
   "source": [
    "Problem 1: Greatest Node\n",
    "Write a function find_max() that takes in the head of a linked list and returns the maximum value in the linked list. You can assume the linked list will contain only numeric values.\n",
    "\n",
    "Evaluate the time and space complexity of your solution. Define your variables and provide a rationale for why you believe your solution has the stated time and space complexity."
   ]
  },
  {
   "cell_type": "code",
   "execution_count": 7,
   "id": "1f3d730d",
   "metadata": {},
   "outputs": [
    {
     "name": "stdout",
     "output_type": "stream",
     "text": [
      "8\n",
      "8\n"
     ]
    }
   ],
   "source": [
    "class Node:\n",
    "    def __init__(self, value, next=None):\n",
    "        self.value = value\n",
    "        self.next = next\n",
    "\n",
    "# For testing\n",
    "def print_linked_list(head):\n",
    "    current = head\n",
    "    while current:\n",
    "        print(current.value, end=\" -> \" if current.next else \"\\n\")\n",
    "        current = current.next\n",
    "\n",
    "def find_max(head):\n",
    "    if not head:\n",
    "        return None \n",
    "\n",
    "    max_number = float(\"-inf\")\n",
    "\n",
    "    current = head \n",
    "    while current:\n",
    "        max_number = max(max_number, current.value)\n",
    "        current = current.next\n",
    "\n",
    "    return max_number   \n",
    "\n",
    "head1 = Node(5, Node(6, Node(7, Node(8))))\n",
    "\n",
    "# Linked List: 5 -> 6 -> 7 -> 8\n",
    "print(find_max(head1))\n",
    "\n",
    "head2 = Node(5, Node(8, Node(6, Node(7))))\n",
    "\n",
    "# Linked List: 5 -> 8 -> 6 -> 7\n",
    "print(find_max(head2))\n",
    "\n",
    "# 8\n",
    "# 8\n"
   ]
  },
  {
   "cell_type": "markdown",
   "id": "781f4a33",
   "metadata": {},
   "source": [
    "Problem 2: Remove Tail\n",
    "The following code incorrectly implements the function remove_tail(). When correctly implemented, remove_tail() accepts the head of a singly linked list and removes the last node (the tail) in the list. The function should return the head of the modified list.\n",
    "\n",
    "Step 1: Copy this code into Replit.\n",
    "\n",
    "Step 2: Create your own test cases to run the code against. Use print statements, print_linked_list(), and the stack trace to identify and fix any bugs so that the function correctly removes the last node from the list."
   ]
  },
  {
   "cell_type": "code",
   "execution_count": null,
   "id": "f0ca5cf2",
   "metadata": {},
   "outputs": [
    {
     "name": "stdout",
     "output_type": "stream",
     "text": [
      "Isabelle -> Alfonso\n"
     ]
    }
   ],
   "source": [
    "class Node:\n",
    "    def __init__(self, value=None, next=None):\n",
    "        self.value = value\n",
    "        self.next = next\n",
    "        \n",
    "# For testing\n",
    "def print_linked_list(head):\n",
    "    current = head\n",
    "    while current:\n",
    "        print(current.value, end=\" -> \" if current.next else \"\\n\")\n",
    "        current = current.next\n",
    "\n",
    "def remove_tail(head):\n",
    "    if head is None:\n",
    "        return None\n",
    "    if head.next is None:\n",
    "        return None \n",
    "        \n",
    "    current = head\n",
    "    while current.next.next: # Stop at the second-to-last node\n",
    "        current = current.next\n",
    "\n",
    "    current.next = None \n",
    "    return head\n",
    "\n",
    "head = Node(\"Isabelle\", Node(\"Alfonso\", Node(\"Cyd\")))\n",
    "\n",
    "# Linked List: Isabelle -> Alfonso -> Cyd\n",
    "print_linked_list(remove_tail(head))\n",
    "\n",
    "# Isabelle -> Alfonso"
   ]
  },
  {
   "cell_type": "markdown",
   "id": "d5815075",
   "metadata": {},
   "source": [
    "Problem 3: Delete Duplicates in a Linked List\n",
    "Given the head of a sorted linked list, delete all elements that occur more than once in the list (not just the duplicates). The resulting list should maintain sorted order. Return the head of the linked list.\n",
    "\n",
    "Evaluate the time and space complexity of your solution. Define your variables and provide a rationale for why you believe your solution has the stated time and space complexity."
   ]
  },
  {
   "cell_type": "code",
   "execution_count": 12,
   "id": "b108145e",
   "metadata": {},
   "outputs": [
    {
     "name": "stdout",
     "output_type": "stream",
     "text": [
      "1 -> 2 -> 4 -> 5\n"
     ]
    }
   ],
   "source": [
    "class Node:\n",
    "    def __init__(self, value, next=None):\n",
    "        self.value = value\n",
    "        self.next = next\n",
    "\n",
    "# For testing\n",
    "def print_linked_list(head):\n",
    "    current = head\n",
    "    while current:\n",
    "        print(current.value, end=\" -> \" if current.next else \"\\n\")\n",
    "        current = current.next\n",
    "\n",
    "def delete_dupes(head):\n",
    "    # Use a temp node to simplify head operations\n",
    "    temp = Node(0)\n",
    "    temp.next = head\n",
    "\n",
    "    # `prev` is the last node before the current sequence of duplicates or unique values\n",
    "    prev = temp\n",
    "    current = head\n",
    "\n",
    "    while current:\n",
    "        # Move current to skip over all duplicates\n",
    "        while current.next and current.value == current.next.value:\n",
    "            current = current.next\n",
    "\n",
    "        # If `prev.next` is `current`, no duplicates were found between `prev` and `current`\n",
    "        if prev.next == current:\n",
    "            prev = prev.next\n",
    "        else:\n",
    "            # Otherwise, skip all duplicates\n",
    "            prev.next = current.next\n",
    "\n",
    "        # Move current to the next distinct value\n",
    "        current = current.next\n",
    "\n",
    "    return temp.next\n",
    "\n",
    "head = Node(1, Node(2, Node(3, Node(3, Node(4, Node(5))))))\n",
    "\n",
    "# Linked List: 1 -> 2 -> 3 -> 3 -> 4 -> 5\n",
    "print_linked_list(delete_dupes(head))\n",
    "\n",
    "# 1 -> 2 -> 4 -> 5\n"
   ]
  },
  {
   "cell_type": "markdown",
   "id": "41a7d72b",
   "metadata": {},
   "source": [
    "Problem 4: Does it Cycle?\n",
    "A variation of the two-pointer technique introduced earlier in the course is to have a slow and a fast pointer that increment at different rates. Given the head of a linked list, use the slow-fast pointer technique to write a function has_cycle() that returns True if the list has a cycle in it and False otherwise. A linked list has a cycle if at some point in the list, the node’s next pointer points back to a previous node in the list.\n",
    "\n",
    "Evaluate the time and space complexity of your solution. Define your variables and provide a rationale for why you believe your solution has the stated time and space complexity."
   ]
  },
  {
   "cell_type": "code",
   "execution_count": 13,
   "id": "0fa996dc",
   "metadata": {},
   "outputs": [
    {
     "name": "stdout",
     "output_type": "stream",
     "text": [
      "True\n"
     ]
    }
   ],
   "source": [
    "class Node:\n",
    "    def __init__(self, value, next=None):\n",
    "        self.value = value\n",
    "        self.next = next\n",
    "\n",
    "def has_cycle(head):\n",
    "    slow = fast = head\n",
    "\n",
    "    while fast.next:\n",
    "        if fast == slow:\n",
    "            return True\n",
    "\n",
    "        fast = fast.next.next \n",
    "        slow = slow.next\n",
    "    \n",
    "    return False \n",
    "\n",
    "peach = Node(\"Peach\", Node(\"Luigi\", Node(\"Mario\", Node(\"Toad\"))))\n",
    "\n",
    "# Toad.next = Luigi\n",
    "peach.next.next.next = peach.next\n",
    "\n",
    "print(has_cycle(peach))\n",
    "\n",
    "# True"
   ]
  },
  {
   "cell_type": "markdown",
   "id": "1f2ca188",
   "metadata": {},
   "source": [
    "Problem 5: Remove Nth Node From End of List\n",
    "Given the head of a linked list and an integer n, write a function remove_nth_from_end() that removes the nth node from the end of the list. The function should return the head of the modified list.\n",
    "\n",
    "Evaluate the time and space complexity of your solution. Define your variables and provide a rationale for why you believe your solution has the stated time and space complexity."
   ]
  },
  {
   "cell_type": "code",
   "execution_count": null,
   "id": "04094619",
   "metadata": {},
   "outputs": [],
   "source": [
    "class Node:\n",
    "    def __init__(self, value, next=None):\n",
    "        self.value = value\n",
    "        self.next = next\n",
    "\n",
    "# For testing\n",
    "def print_linked_list(head):\n",
    "    current = head\n",
    "    while current:\n",
    "        print(current.value, end=\" -> \" if current.next else \"\\n\")\n",
    "        current = current.next\n",
    "\n",
    "def remove_nth_from_end(head, n):\n",
    "    # Create a temp node and attach it to the head of the input list.\n",
    "    temp = Node(val=0, next=head)\n",
    "    \n",
    "    # Initialize 2 pointers, first and second, to point to the temp node.\n",
    "    first = temp\n",
    "    second = temp\n",
    "    \n",
    "    # Advances first pointer so that the gap between first and second is n nodes apart\n",
    "    for i in range(n+1):\n",
    "        first = first.next\n",
    "        \n",
    "    # While the first pointer does not equal null, move both first and second to maintain the gap\n",
    "    while first is not None:\n",
    "        first = first.next\n",
    "        second = second.next\n",
    "    \n",
    "    # Delete the node being pointed to by second.\n",
    "    second.next = second.next.next\n",
    "    \n",
    "    # Return temp.next\n",
    "    return temp.next\n",
    "head1 = Node(\"apple\", Node(\"cherry\", Node(\"orange\", Node(\"peach\", Node(\"pear\")))))\n",
    "head2 = Node(\"Rainbow Trout\", Node(\"Ray\"))\n",
    "head3 = Node(\"Rainbow Stag\")\n",
    "\n",
    "\n",
    "print_linked_list(remove_nth_from_end(head1, 2))\n",
    "print_linked_list(remove_nth_from_end(head2, 1))\n",
    "print_linked_list(remove_nth_from_end(head3, 1))\n",
    "\n",
    "#apple -> cherry -> orange -> pear\n",
    "#Rainbow Trout\n",
    "\n",
    "# Example 3 Explanation: The last example returns an empty list."
   ]
  },
  {
   "cell_type": "markdown",
   "id": "d1f12eb4",
   "metadata": {},
   "source": [
    "Problem 6: Careful Reverse\n",
    "Given the head of a singly linked list and an integer k, reverse the first k elements of the linked list. Return the new head of the linked list. If k is larger than the length of the list, reverse the entire list.\n",
    "\n",
    "Evaluate the time and space complexity of your solution. Define your variables and provide a rationale for why you believe your solution has the stated time and space complexity."
   ]
  },
  {
   "cell_type": "code",
   "execution_count": 16,
   "id": "101bb69e",
   "metadata": {},
   "outputs": [
    {
     "name": "stdout",
     "output_type": "stream",
     "text": [
      "orange -> cherry -> apple -> peach -> pear\n"
     ]
    }
   ],
   "source": [
    "class Node:\n",
    "\tdef __init__(self, value, next=None):\n",
    "\t\tself.value = value\n",
    "\t\tself.next = next\n",
    "\n",
    "# For testing\n",
    "def print_linked_list(head):\n",
    "    current = head\n",
    "    while current:\n",
    "        print(current.value, end=\" -> \" if current.next else \"\\n\")\n",
    "        current = current.next\n",
    "        \n",
    "def reverse_first_k(head, k):\n",
    "    if not head or k <= 1:\n",
    "        return head\n",
    "    \n",
    "    current = head\n",
    "    prev = None\n",
    "    next_node = None\n",
    "    count = 0\n",
    "    \n",
    "    # Reverse the first k nodes\n",
    "    while current and count < k:\n",
    "        next_node = current.next\n",
    "        current.next = prev\n",
    "        prev = current\n",
    "        current = next_node\n",
    "        count += 1\n",
    "    \n",
    "    # Connect the reversed part with the rest of the list\n",
    "    if head:\n",
    "        head.next = current\n",
    "    \n",
    "    return prev  # New head of the list is the last node of the reversed part\n",
    "\n",
    "head = Node(\"apple\", Node(\"cherry\", Node(\"orange\", Node(\"peach\", Node(\"pear\")))))\n",
    "\n",
    "print_linked_list(reverse_first_k(head, 3))\n",
    "\n",
    "# orange -> cherry -> apple -> peach -> pear"
   ]
  },
  {
   "cell_type": "code",
   "execution_count": null,
   "id": "494d120e",
   "metadata": {},
   "outputs": [],
   "source": []
  }
 ],
 "metadata": {
  "kernelspec": {
   "display_name": "base",
   "language": "python",
   "name": "python3"
  },
  "language_info": {
   "codemirror_mode": {
    "name": "ipython",
    "version": 3
   },
   "file_extension": ".py",
   "mimetype": "text/x-python",
   "name": "python",
   "nbconvert_exporter": "python",
   "pygments_lexer": "ipython3",
   "version": "3.11.3"
  }
 },
 "nbformat": 4,
 "nbformat_minor": 5
}
