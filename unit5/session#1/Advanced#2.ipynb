{
 "cells": [
  {
   "cell_type": "markdown",
   "id": "8fcf57d3",
   "metadata": {},
   "source": [
    "Problem 1: Player Class II\n",
    "A class constructor is a special method or function that is used to create and initialize a new object from a class. Define the class constructor __init__() for a new class Player that represents Mario Kart players. The constructor accepts two required arguments: strings character and kart. The constructor should define three properties for a Player:\n",
    "\n",
    "character, a string initialized to the argument character\n",
    "kart, a string initialized to the argument kart\n",
    "items, a list initialized to an empty list"
   ]
  },
  {
   "cell_type": "code",
   "execution_count": 1,
   "id": "2d954cdd",
   "metadata": {},
   "outputs": [
    {
     "name": "stdout",
     "output_type": "stream",
     "text": [
      "Yoshi\n",
      "Super Blooper\n",
      "[]\n"
     ]
    }
   ],
   "source": [
    "class Player:\n",
    "    def __init__(self, character: str, kart: str, items: list):\n",
    "        self.character = character\n",
    "        self.kart = kart\n",
    "        self.items = items\n",
    "\n",
    "player_one = Player(\"Yoshi\", \"Super Blooper\", [])\n",
    "print(player_one.character)\n",
    "print(player_one.kart) \n",
    "print(player_one.items)\n",
    "\n",
    "# Yoshi\n",
    "# Super Blooper\n",
    "# []"
   ]
  },
  {
   "cell_type": "markdown",
   "id": "46503151",
   "metadata": {},
   "source": [
    "Problem 2: Add Special Item\n",
    "Players can pick up special items as they race.\n",
    "\n",
    "Update the Player class with a new method add_item() that takes in one parameter, item_name.\n",
    "\n",
    "The method should validate the item_name.\n",
    "\n",
    "If the item is valid, add item_name to the player’s items attribute.\n",
    "The method does not need to return any values.\n",
    "item_name is valid if it has one of the following values: \"banana\", \"green shell\", \"red shell\", \"bob-omb\", \"super star\", \"lightning\", \"bullet bill\"."
   ]
  },
  {
   "cell_type": "code",
   "execution_count": 2,
   "id": "e1bf3e5c",
   "metadata": {},
   "outputs": [
    {
     "name": "stdout",
     "output_type": "stream",
     "text": [
      "[]\n",
      "['red shell']\n",
      "['red shell', 'super star']\n",
      "['red shell', 'super star']\n"
     ]
    }
   ],
   "source": [
    "class Player:\n",
    "    def __init__(self, character, kart):\n",
    "        self.character = character\n",
    "        self.kart = kart\n",
    "        self.items = []\n",
    "        \n",
    "    def add_item(self, item_name) -> None:\n",
    "        valid_names = [\"banana\", \"green shell\", \"red shell\", \"bob-omb\", \"super star\", \"lightning\", \"bullet bill\"]\n",
    "        if item_name in valid_names:\n",
    "            self.items.append(item_name)\n",
    "            \n",
    "\n",
    "player_one = Player(\"Yoshi\", \"Dolphin Dasher\")\n",
    "print(player_one.items)\n",
    "\n",
    "player_one.add_item(\"red shell\")\n",
    "print(player_one.items)\n",
    "\n",
    "player_one.add_item(\"super star\")\n",
    "print(player_one.items)\n",
    "\n",
    "player_one.add_item(\"super smash\")\n",
    "print(player_one.items)\n",
    "\n",
    "# []\n",
    "# ['red shell']\n",
    "# ['red shell', 'super star']\n",
    "# ['red shell', 'super star']"
   ]
  },
  {
   "cell_type": "markdown",
   "id": "11ee134d",
   "metadata": {},
   "source": [
    "Problem 3: Race Results\n",
    "Given a list race_results of Player objects where the first player in the list came first in the race, the second player in the list came second, etc., write a function print_results() that prints the players in place."
   ]
  },
  {
   "cell_type": "code",
   "execution_count": 3,
   "id": "d851e912",
   "metadata": {},
   "outputs": [
    {
     "name": "stdout",
     "output_type": "stream",
     "text": [
      "0. Peach\n",
      "1. Mario\n",
      "2. Luigi\n"
     ]
    }
   ],
   "source": [
    "class Player:\n",
    "    def __init__(self, character, kart):\n",
    "        self.character = character\n",
    "        self.kart = kart\n",
    "        self.items = []\n",
    "\n",
    "def print_results(race_results):\n",
    "    for i, racer in enumerate(race_results):\n",
    "        print(f\"{i}. {racer.character}\")\n",
    "\n",
    "peach = Player(\"Peach\", \"Daytripper\")\n",
    "mario = Player(\"Mario\", \"Standard Kart M\")\n",
    "luigi = Player(\"Luigi\", \"Super Blooper\")\n",
    "race_one = [peach, mario, luigi]\n",
    "\n",
    "print_results(race_one)\n",
    "\n",
    "# 1. Peach\n",
    "# 2. Mario\n",
    "# 3. Luigi"
   ]
  },
  {
   "cell_type": "markdown",
   "id": "a1d93f25",
   "metadata": {},
   "source": [
    "Problem 4: Get Rank\n",
    "The Player class has been updated below with a new attribute ahead to represent the player currently directly ahead of them in the race.\n",
    "\n",
    "Write a function get_place() that accepts a Player object my_player and returns their current place number in the race."
   ]
  },
  {
   "cell_type": "code",
   "execution_count": 6,
   "id": "5979ad8d",
   "metadata": {},
   "outputs": [
    {
     "name": "stdout",
     "output_type": "stream",
     "text": [
      "3\n",
      "1\n",
      "2\n"
     ]
    }
   ],
   "source": [
    "class Player:\n",
    "    def __init__(self, character, kart, opponent=None):\n",
    "        self.character = character\n",
    "        self.kart = kart\n",
    "        self.items = []\n",
    "        self.ahead = opponent\n",
    "\n",
    "def get_place(my_player):\n",
    "    place = 1 \n",
    "    current = my_player\n",
    "    while current.ahead:\n",
    "        place += 1\n",
    "        current = current.ahead\n",
    "\n",
    "    return place\n",
    "\n",
    "peach = Player(\"Peach\", \"Daytripper\")\n",
    "mario = Player(\"Mario\", \"Standard Kart M\", peach)\n",
    "luigi = Player(\"Luigi\", \"Super Blooper\", mario)\n",
    "\n",
    "player1_rank = get_place(luigi)\n",
    "player2_rank = get_place(peach)\n",
    "player3_rank = get_place(mario)\n",
    "\n",
    "print(player1_rank)\n",
    "print(player2_rank)\n",
    "print(player3_rank)\n",
    "\n",
    "# 3\n",
    "# 1\n",
    "# 2\n"
   ]
  },
  {
   "cell_type": "markdown",
   "id": "f1a6e17f",
   "metadata": {},
   "source": [
    "A linked list is a new data type that, similar to a normal list or array, allows us to store pieces of data sequentially. The difference between a linked list and a normal list lies in how each element is stored in a computer’s memory.\n",
    "\n",
    "In a normal list, individual elements of the list are stored in adjacent memory locations according to the order they appear in the list. If we know where the first element of the list is stored, it’s really easy to find any other element in the list.\n",
    "\n",
    "In a linked list, the individual elements called nodes are not stored in sequential memory locations. Each node may be stored in an unrelated memory location. To connect nodes together into a sequential list, each node stores a reference or pointer to the next node in the list.\n",
    "\n",
    "Connect the provided node instances below to create the linked list daisy -> peach -> luigi -> mario.\n",
    "\n",
    "A function print_linked_list() which accepts the head, or first element, of a linked list has also been provided for testing purposes."
   ]
  },
  {
   "cell_type": "code",
   "execution_count": 7,
   "id": "c994bb83",
   "metadata": {},
   "outputs": [
    {
     "name": "stdout",
     "output_type": "stream",
     "text": [
      "Daisy -> Peach -> Luigi -> Mario\n"
     ]
    }
   ],
   "source": [
    "class Node:\n",
    "    def __init__(self, value, next=None):\n",
    "        self.value = value\n",
    "        self.next = next\n",
    "\n",
    "# For testing\n",
    "def print_linked_list(head):\n",
    "    current = head\n",
    "    while current:\n",
    "        print(current.value, end=\" -> \" if current.next else \"\\n\")\n",
    "        current = current.next\n",
    "\n",
    "daisy = Node(\"Daisy\")\n",
    "peach = Node(\"Peach\")\n",
    "luigi = Node(\"Luigi\")\n",
    "mario = Node(\"Mario\")\n",
    "\n",
    "# Add code here to link the above nodes\n",
    "daisy.next = peach\n",
    "peach.next = luigi\n",
    "luigi.next = mario\n",
    "\n",
    "print_linked_list(daisy)\n",
    "\n",
    "# Daisy -> Peach -> Luigi -> Mario"
   ]
  },
  {
   "cell_type": "markdown",
   "id": "02ba89f8",
   "metadata": {},
   "source": [
    "Problem 6: Count Racers\n",
    "Imagine a linked list used to track the order in which Mario Kart players finished in a race. The head of the list represents the first place finisher, and the tail or last node in the list represents the last place finisher.\n",
    "\n",
    "Write a function count_racers() that accepts the head of the list and returns the number of players who participated in the race."
   ]
  },
  {
   "cell_type": "code",
   "execution_count": 10,
   "id": "676dd78d",
   "metadata": {},
   "outputs": [
    {
     "name": "stdout",
     "output_type": "stream",
     "text": [
      "4\n",
      "1\n",
      "0\n"
     ]
    }
   ],
   "source": [
    "class Node:\n",
    "    def __init__(self, player, next=None):\n",
    "        self.player_name = player\n",
    "        self.next = next\n",
    "\n",
    "# For testing\n",
    "def print_linked_list(head):\n",
    "    current = head\n",
    "    while current:\n",
    "        print(current.player_name, end=\" -> \" if current.next else \"\\n\")\n",
    "        current = current.next\n",
    "\n",
    "def count_racers(head):\n",
    "    if not head:\n",
    "        return 0 \n",
    "    \n",
    "    count = 0\n",
    "    current = head\n",
    "    while current.next:\n",
    "        count += 1\n",
    "        current = current.next\n",
    "\n",
    "    return count + 1\n",
    "\n",
    "racers1 = Node(\"Mario\", Node(\"Peach\", Node(\"Luigi\", Node(\"Daisy\"))))\n",
    "racers2 = Node(\"Mario\")\n",
    "\n",
    "print(count_racers(racers1))\n",
    "print(count_racers(racers2))\n",
    "print(count_racers(None))\n",
    "\n",
    "# 4\n",
    "# 1\n",
    "# 0"
   ]
  },
  {
   "cell_type": "markdown",
   "id": "8b75e0e9",
   "metadata": {},
   "source": [
    "Problem 7: Last Place\n",
    "Imagine a linked list used to track the order in which Mario Kart players finished in a race. The head of the list represents the first place finisher, and the tail or last node in the list represents the last place finisher.\n",
    "\n",
    "Given the head of the list, write a function last_place() that returns the player_name of the player that finished last in the race. If the list is empty, return None."
   ]
  },
  {
   "cell_type": "code",
   "execution_count": 15,
   "id": "4f6fcc61",
   "metadata": {},
   "outputs": [
    {
     "name": "stdout",
     "output_type": "stream",
     "text": [
      "Daisy\n",
      "Mario\n",
      "None\n"
     ]
    }
   ],
   "source": [
    "class Node:\n",
    "    def __init__(self, player, next=None):\n",
    "        self.player_name = player\n",
    "        self.next = next\n",
    "\n",
    "# For testing\n",
    "def print_linked_list(head):\n",
    "    current = head\n",
    "    while current:\n",
    "        print(current.player_name, end=\" -> \" if current.next else \"\\n\")\n",
    "        current = current.next\n",
    "\n",
    "def last_place(head):\n",
    "    if not head:\n",
    "        return None \n",
    "    \n",
    "    current = head\n",
    "    while current.next:\n",
    "        current = current.next\n",
    "\n",
    "    return current.player_name\n",
    "\n",
    "racers1 = Node(\"Mario\", Node(\"Peach\", Node(\"Luigi\", Node(\"Daisy\"))))\n",
    "racers2 = Node(\"Mario\")\n",
    "\n",
    "print(last_place(racers1)) \n",
    "print(last_place(racers2)) \n",
    "print(last_place(None))\n",
    "\n",
    "# Daisy\n",
    "# Mario\n",
    "# None"
   ]
  },
  {
   "cell_type": "markdown",
   "id": "e20e9c7b",
   "metadata": {},
   "source": [
    "Problem 8: Update Rankings\n",
    "A 1-indexed linked list is used to track the overall standings of players in a Mario Kart tournament. Write a function increment_rank() that accepts the head of the list and an index target. The function should swap the order of the nodes at index target and index target - 1. If target is the first node in the list, return the original list. Otherwise, return the head of the modified list."
   ]
  },
  {
   "cell_type": "code",
   "execution_count": 17,
   "id": "33f0ba1c",
   "metadata": {},
   "outputs": [
    {
     "name": "stdout",
     "output_type": "stream",
     "text": [
      "Mario -> Luigi -> Peach -> Daisy\n",
      "Mario -> Luigi\n"
     ]
    }
   ],
   "source": [
    "class Node:\n",
    "  def __init__(self, player, next=None):\n",
    "      self.player = player\n",
    "      self.next = next\n",
    "\n",
    "# For testing\n",
    "def print_linked_list(head):\n",
    "  current = head\n",
    "  while current:\n",
    "      print(current.player, end=\" -> \" if current.next else \"\\n\")\n",
    "      current = current.next\n",
    "\n",
    "def increment_rank(head, target):\n",
    "  if target <= 1 or head is None or head.next is None:\n",
    "      return head\n",
    "\n",
    "  index = 1\n",
    "  prev = None\n",
    "  current = head\n",
    "\n",
    "  # Traverse the list to the target index\n",
    "  while index < target:\n",
    "      prev = current\n",
    "      current = current.next\n",
    "      index += 1\n",
    "\n",
    "  # Swap the values between the node at target-1 and the node at target\n",
    "  temp = prev.player\n",
    "  prev.player = current.player\n",
    "  current.player = temp\n",
    "\n",
    "  return head \n",
    "\n",
    "\n",
    "racers1 = Node(\"Mario\", Node(\"Peach\", Node(\"Luigi\", Node(\"Daisy\"))))\n",
    "racers2 = Node(\"Mario\", Node(\"Luigi\"))\n",
    "\n",
    "print_linked_list(increment_rank(racers1, 3))\n",
    "print_linked_list(increment_rank(racers2, 1)) \n",
    "print_linked_list(increment_rank(None, 1)) \n",
    "\n",
    "# Mario -> Luigi -> Peach -> Daisy\n",
    "# Mario -> Luigi\n",
    "# None"
   ]
  },
  {
   "cell_type": "code",
   "execution_count": null,
   "id": "8e62cf64",
   "metadata": {},
   "outputs": [],
   "source": []
  }
 ],
 "metadata": {
  "kernelspec": {
   "display_name": "base",
   "language": "python",
   "name": "python3"
  },
  "language_info": {
   "codemirror_mode": {
    "name": "ipython",
    "version": 3
   },
   "file_extension": ".py",
   "mimetype": "text/x-python",
   "name": "python",
   "nbconvert_exporter": "python",
   "pygments_lexer": "ipython3",
   "version": "3.11.3"
  }
 },
 "nbformat": 4,
 "nbformat_minor": 5
}
