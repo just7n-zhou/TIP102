{
 "cells": [
  {
   "cell_type": "markdown",
   "id": "06df7522",
   "metadata": {},
   "source": [
    "Problem 1: Villager Class\n",
    "A class constructor is a special method or function that is used to create and initialize a new object from a class. Define the class constructor __init__() for a new class Villager that represents characters in the game Animal Crossing. The constructor accepts three required arguments: strings name, species, and catchphrase. The constructor defines four properties for a Villager:\n",
    "\n",
    "name, a string initialized to the argument name\n",
    "species, a string initialized to the argument species\n",
    "catchphrase, a string initialized to the argument catchphrase\n",
    "furniture, a list initialized to an empty list"
   ]
  },
  {
   "cell_type": "code",
   "execution_count": null,
   "id": "4d84fa4e",
   "metadata": {},
   "outputs": [],
   "source": [
    "class Villager:\n",
    "    def __init__(self, name, species, catchphrase):\n",
    "        self.name = name\n",
    "        self.species = species\n",
    "        self.catchphrase = catchphrase\n",
    "        self.furniture = []\n",
    "\n",
    "apollo = Villager(\"Apollo\", \"Eagle\", \"pah\")\n",
    "print(apollo.name)\n",
    "print(apollo.species) \n",
    "print(apollo.catchphrase)\n",
    "print(apollo.furniture)\n",
    "\n",
    "# Apollo\n",
    "# Eagle\n",
    "# pah\n",
    "# []\n"
   ]
  },
  {
   "cell_type": "markdown",
   "id": "3a452093",
   "metadata": {},
   "source": [
    "Problem 2: Add Furniture\n",
    "Players and villagers in Animal Crossing can add furniture to their inventory to decorate their house.\n",
    "\n",
    "Update the Villager class with a new method add_item() that takes in one parameter, item_name.\n",
    "\n",
    "The method should validate the item_name.\n",
    "\n",
    "If the item is valid, add item_name to the villager’s furniture attribute.\n",
    "The method does not need to return any values.\n",
    "item_name is valid if it has one of the following values: \"acoustic guitar\", \"ironwood kitchenette\", \"rattan armchair\", \"kotatsu\", or \"cacao tree\"."
   ]
  },
  {
   "cell_type": "code",
   "execution_count": 1,
   "id": "c2078a72",
   "metadata": {},
   "outputs": [
    {
     "name": "stdout",
     "output_type": "stream",
     "text": [
      "[]\n",
      "['acoustic guitar']\n",
      "['acoustic guitar', 'cacao tree']\n",
      "['acoustic guitar', 'cacao tree']\n"
     ]
    }
   ],
   "source": [
    "class Villager:\n",
    "    def __init__(self, name, species, catchphrase):\n",
    "        self.name = name\n",
    "        self.species = species\n",
    "        self.catchphrase = catchphrase\n",
    "        self.furniture = []\n",
    "\n",
    "    def add_item(self, item_name):\n",
    "        valid_names = [\"acoustic guitar\", \"ironwood kitchenette\", \"rattan armchair\", \"kotatsu\", \"cacao tree\"]\n",
    "        if item_name in valid_names:\n",
    "            self.furniture.append(item_name)\n",
    "\n",
    "alice = Villager(\"Alice\", \"Koala\", \"guvnor\")\n",
    "print(alice.furniture)\n",
    "\n",
    "alice.add_item(\"acoustic guitar\")\n",
    "print(alice.furniture)\n",
    "\n",
    "alice.add_item(\"cacao tree\")\n",
    "print(alice.furniture)\n",
    "\n",
    "alice.add_item(\"nintendo switch\")\n",
    "print(alice.furniture)\n",
    "\n",
    "# []\n",
    "# [\"acoustic guitar\"]\n",
    "# [\"acoustic guitar\", \"cacao tree\"]\n",
    "# [\"acoustic guitar\", \"cacao tree\"]\n"
   ]
  },
  {
   "cell_type": "markdown",
   "id": "f3fdbe1e",
   "metadata": {},
   "source": [
    "Problem 3: Group by Personality\n",
    "The Villager class has been updated below to include the new string attribute personality representing the character's personality type.\n",
    "\n",
    "Outside of the Villager class, write a function of_personality_type(). Given a list of Villager instances townies and a string personality_type as parameters, return a list containing the names of all villagers in townies with personality personality_type. Return the names in any order."
   ]
  },
  {
   "cell_type": "code",
   "execution_count": 5,
   "id": "f1b0447e",
   "metadata": {},
   "outputs": [
    {
     "name": "stdout",
     "output_type": "stream",
     "text": [
      "['Bob', 'Stitches']\n",
      "[]\n"
     ]
    }
   ],
   "source": [
    "class Villager:\n",
    "    def __init__(self, name, species, personality, catchphrase):\n",
    "        self.name = name\n",
    "        self.species = species\n",
    "        self.personality = personality\n",
    "        self.catchphrase = catchphrase\n",
    "        self.furniture = []\n",
    "    # ... methods from previous problems\n",
    "    def add_item(self, item_name):\n",
    "        valid_names = [\"acoustic guitar\", \"ironwood kitchenette\", \"rattan armchair\", \"kotatsu\", \"cacao tree\"]\n",
    "        if item_name in valid_names:\n",
    "            self.furniture.append(item_name)\n",
    "    \n",
    "def of_personality_type(townies, personality_type):\n",
    "    match_persons = []\n",
    "    for person in townies:\n",
    "        if person.personality == personality_type:\n",
    "            match_persons.append(person.name)\n",
    "\n",
    "    return match_persons\n",
    "\n",
    "isabelle = Villager(\"Isabelle\", \"Dog\", \"Normal\", \"what's up?\")\n",
    "bob = Villager(\"Bob\", \"Cat\", \"Lazy\", \"pthhhpth\")\n",
    "stitches = Villager(\"Stitches\", \"Cub\", \"Lazy\", \"stuffin'\")\n",
    "\n",
    "print(of_personality_type([isabelle, bob, stitches], \"Lazy\"))\n",
    "print(of_personality_type([isabelle, bob, stitches], \"Cranky\"))\n",
    "\n",
    "# ['Bob', 'Stitches']\n",
    "# []"
   ]
  },
  {
   "cell_type": "markdown",
   "id": "7ab0b9bf",
   "metadata": {},
   "source": [
    "Problem 4: Telephone\n",
    "The Villager constructor has been updated to include an additional attribute neighbor. A villager's neighbor is another Villager instance and represents their closest neighbor. By default, a Villager's neighbor is set to None.\n",
    "\n",
    "Given two Villager instances start_villager and target_villager, write a function message_received() that returns True if you can pass a message from the start_villager to the target_villager through a series of neighbors and False otherwise."
   ]
  },
  {
   "cell_type": "code",
   "execution_count": 6,
   "id": "ce545177",
   "metadata": {},
   "outputs": [
    {
     "name": "stdout",
     "output_type": "stream",
     "text": [
      "True\n",
      "False\n"
     ]
    }
   ],
   "source": [
    "class Villager:\n",
    "    def __init__(self, name, species, personality, catchphrase, neighbor=None):\n",
    "        self.name = name\n",
    "        self.species = species\n",
    "        self.personality = personality\n",
    "        self.catchphrase = catchphrase\n",
    "        self.furniture = []\n",
    "        self.neighbor = neighbor\n",
    "    # ... methods from previous problems\n",
    "\t\n",
    "def message_received(start_villager, target_villager):\n",
    "    current = start_villager\n",
    "    while current.neighbor:\n",
    "        if current.neighbor.name == target_villager.name:\n",
    "            return True \n",
    "        current = current.neighbor\n",
    "    \n",
    "    return False \n",
    "\n",
    "isabelle = Villager(\"Isabelle\", \"Dog\", \"Normal\", \"what's up?\")\n",
    "tom_nook = Villager(\"Tom Nook\", \"Raccoon\", \"Cranky\", \"yes, yes\")\n",
    "kk_slider = Villager(\"K.K. Slider\", \"Dog\", \"Lazy\", \"dig it\")\n",
    "isabelle.neighbor = tom_nook\n",
    "tom_nook.neighbor = kk_slider\n",
    "\n",
    "print(message_received(isabelle, kk_slider))\n",
    "print(message_received(kk_slider, isabelle))\n",
    "\n",
    "# True\n",
    "# Example 1 Explanation: Isabelle can pass a message to her neighbor, Tom Nook. Tom Nook can then pass the \n",
    "# message to his neighbor, KK Slider. KK Slider is the target, therefore the function should return True.\n",
    "# \n",
    "# False\n",
    "# Example 2 Explanation: KK Slider doesn't have a neighbor, so you cannot pass a message to Isabelle from \n",
    "# KK Slider. \n"
   ]
  },
  {
   "cell_type": "markdown",
   "id": "cfa6c583",
   "metadata": {},
   "source": [
    "Problem 5: Linked Up\n",
    "A linked list is a new data type that, similar to a normal list or array, allows us to store pieces of data sequentially. The difference between a linked list and a normal list lies in how each element is stored in a computer’s memory.\n",
    "\n",
    "In a normal list, individual elements of the list are stored in adjacent memory locations according to the order they appear in the list. If we know where the first element of the list is stored, it’s really easy to find any other element in the list.\n",
    "\n",
    "In a linked list, the individual elements called nodes are not stored in sequential memory locations. Each node may be stored in an unrelated memory location. To connect nodes together into a sequential list, each node stores a reference or pointer to the next node in the list.\n",
    "\n",
    "Connect the provided node instances below to create the linked list kk_slider -> harriet -> saharah -> isabelle.\n",
    "\n",
    "A function print_linked_list() which accepts the head, or first element, of a linked list and prints the values of the list has also been provided for testing purposes."
   ]
  },
  {
   "cell_type": "code",
   "execution_count": 7,
   "id": "a81d7f2b",
   "metadata": {},
   "outputs": [
    {
     "name": "stdout",
     "output_type": "stream",
     "text": [
      "K.K. Slider -> Harriet -> Saharah -> Isabelle\n"
     ]
    }
   ],
   "source": [
    "class Node:\n",
    "    def __init__(self, value, next=None):\n",
    "        self.value = value\n",
    "        self.next = next\n",
    "\n",
    "# For testing\n",
    "def print_linked_list(head):\n",
    "    current = head\n",
    "    while current:\n",
    "        print(current.value, end=\" -> \" if current.next else \"\\n\")\n",
    "        current = current.next\n",
    "\n",
    "kk_slider = Node(\"K.K. Slider\")\n",
    "harriet = Node(\"Harriet\")\n",
    "saharah = Node(\"Saharah\")\n",
    "isabelle = Node(\"Isabelle\")\n",
    "\n",
    "kk_slider.next = harriet\n",
    "harriet.next = saharah\n",
    "saharah.next = isabelle\n",
    "\n",
    "print_linked_list(kk_slider)\n",
    "\n",
    "# K.K. Slider -> Harriet -> Saharah -> Isabelle"
   ]
  },
  {
   "cell_type": "markdown",
   "id": "cedd5d9c",
   "metadata": {},
   "source": [
    "Problem 6: Got One!\n",
    "Imagine that behind the scenes, Animal Crossing uses a linked list to represent the order fish will appear to a player who is fishing in the river. The head of the list represents the next fish that a player will catch if they keep fishing.\n",
    "\n",
    "Write a function catch_fish() that accepts the head of a list. The function should:\n",
    "\n",
    "Print the name of the fish in the head node using the format \"I caught a <fish name>!\".\n",
    "Remove the first node in the list.\n",
    "The function should return the new head of the list. If the list is empty, print \"Aw! Better luck next time!\" and return None.\n",
    "\n",
    "A function print_linked_list() which accepts the head, or first element, of a linked list and prints the list data has also been provided for testing purposes."
   ]
  },
  {
   "cell_type": "code",
   "execution_count": null,
   "id": "a56f658b",
   "metadata": {},
   "outputs": [],
   "source": [
    "class Node:\n",
    "    def __init__(self, fish_name, next=None):\n",
    "        self.fish_name = fish_name\n",
    "        self.next = next\n",
    "\n",
    "# For testing\n",
    "def print_linked_list(head):\n",
    "    current = head\n",
    "    while current:\n",
    "        print(current.fish_name, end=\" -> \" if current.next else \"\\n\")\n",
    "        current = current.next\n",
    "\n",
    "def catch_fish(head):\n",
    "    if head is None:\n",
    "        print(\"Aw! Better luck next time!\")\n",
    "        return None\n",
    "    else:\n",
    "        print(f\"I caught a {head.fish_name}!\")\n",
    "        return head.next\n",
    "\n",
    "\n",
    "fish_list = Node(\"Carp\", Node(\"Dace\", Node(\"Cherry Salmon\")))\n",
    "empty_list = None\n",
    "\n",
    "print_linked_list(fish_list)\n",
    "print_linked_list(catch_fish(fish_list))\n",
    "\n",
    "print(catch_fish(empty_list))\n",
    "\n",
    "# Carp -> Dace -> Cherry Salmon\n",
    "# I caught a Carp!\n",
    "# Dace -> Cherry Salmon\n",
    "\n",
    "# Aw! Better luck next time!\n",
    "# None"
   ]
  },
  {
   "cell_type": "markdown",
   "id": "41565eda",
   "metadata": {},
   "source": [
    "Problem 7: Fishing Probability\n",
    "Imagine that Animal Crossing is still using a linked list to represent the order fish will appear to a player who is fishing in the river! The head of the list represents the next fish that a player will catch if they keep fishing.\n",
    "\n",
    "Write a function fish_chances() that accepts the head of a list and a string fish_name. Return the probability rounded down to the nearest hundredth that the player will catch a fish of type fish_name.\n",
    "\n",
    "A function print_linked_list() which accepts the head, or first element, of a linked list and prints the list data has also been provided for testing purposes."
   ]
  },
  {
   "cell_type": "code",
   "execution_count": 8,
   "id": "b7ade5c5",
   "metadata": {},
   "outputs": [
    {
     "name": "stdout",
     "output_type": "stream",
     "text": [
      "0.33\n",
      "0.0\n"
     ]
    }
   ],
   "source": [
    "class Node:\n",
    "    def __init__(self, fish_name, next=None):\n",
    "        self.fish_name = fish_name\n",
    "        self.next = next\n",
    "\n",
    "# For testing\n",
    "def print_linked_list(head):\n",
    "    current = head\n",
    "    while current:\n",
    "        print(current.fish_name, end=\" -> \" if current.next else \"\\n\")\n",
    "        current = current.next\n",
    "\n",
    "def fish_chances(head, fish_name):\n",
    "    total = 0 \n",
    "    fish_freq = 0 \n",
    "    while head:\n",
    "        if head.fish_name == fish_name:\n",
    "            fish_freq += 1\n",
    "            total += 1\n",
    "        else:\n",
    "            total += 1 \n",
    "        head = head.next\n",
    "\n",
    "    prop = round(fish_freq / total, 2)\n",
    "    return prop\n",
    "\n",
    "fish_list = Node(\"Carp\", Node(\"Dace\", Node(\"Cherry Salmon\")))\n",
    "print(fish_chances(fish_list, \"Dace\"))\n",
    "print(fish_chances(fish_list, \"Rainbow Trout\"))\n",
    "\n",
    "# 0.33\n",
    "# 0.00"
   ]
  },
  {
   "cell_type": "markdown",
   "id": "c8b84166",
   "metadata": {},
   "source": [
    "Problem 8: Restocking the Lake\n",
    "Imagine that Animal Crossing is still using a linked list to represent the order fish will appear to a player who is fishing! The head of the list represents the next fish that a player will catch if they keep fishing.\n",
    "\n",
    "Write a function restock() that accepts the head of a linked list and a string new_fish, and adds a Node with the fish_name new_fish to the end of the list. Return the head of the modified list.\n",
    "\n",
    "A function print_linked_list() which accepts the head, or first element, of a linked list and prints the list data has also been provided for testing purposes."
   ]
  },
  {
   "cell_type": "code",
   "execution_count": 10,
   "id": "08ffaea3",
   "metadata": {},
   "outputs": [
    {
     "name": "stdout",
     "output_type": "stream",
     "text": [
      "Carp -> Dace -> Cherry Salmon -> Rainbow Trout\n"
     ]
    }
   ],
   "source": [
    "class Node:\n",
    "    def __init__(self, fish_name, next=None):\n",
    "        self.fish_name = fish_name\n",
    "        self.next = next\n",
    "\n",
    "# For testing\n",
    "def print_linked_list(head):\n",
    "    current = head\n",
    "    while current:\n",
    "        print(current.fish_name, end=\" -> \" if current.next else \"\\n\")\n",
    "        current = current.next\n",
    "\n",
    "def restock(head, new_fish):\n",
    "    new_node = Node(new_fish)\n",
    "    \n",
    "    if head is None:\n",
    "        return new_node\n",
    "    \n",
    "    current = head\n",
    "    while current.next:\n",
    "        current = current.next\n",
    "    \n",
    "    current.next = new_node\n",
    "    return head\n",
    "\n",
    "fish_list = Node(\"Carp\", Node(\"Dace\", Node(\"Cherry Salmon\")))\n",
    "print_linked_list(restock(fish_list, \"Rainbow Trout\"))\n",
    "# \n",
    "# Carp -> Dace -> Cherry Salmon -> Rainbow Trout"
   ]
  }
 ],
 "metadata": {
  "kernelspec": {
   "display_name": "base",
   "language": "python",
   "name": "python3"
  },
  "language_info": {
   "codemirror_mode": {
    "name": "ipython",
    "version": 3
   },
   "file_extension": ".py",
   "mimetype": "text/x-python",
   "name": "python",
   "nbconvert_exporter": "python",
   "pygments_lexer": "ipython3",
   "version": "3.11.3"
  }
 },
 "nbformat": 4,
 "nbformat_minor": 5
}
