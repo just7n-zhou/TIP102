{
 "cells": [
  {
   "cell_type": "markdown",
   "id": "f0f64217",
   "metadata": {},
   "source": [
    "Problem 1: Measuring Loop Length\n",
    "As a trail worker, you've been tasked with measuring the length of a loop trail that circles back to its starting point. Given the head of a linked list trailhead where each node represents a trail marker and the last marker points back to the first marker, return the length of the trail. Assume the length of the trail is equal to the number of markers.\n",
    "\n",
    "Evaluate the time and space complexity of your solution. Define your variables and provide a rationale for why you believe your solution has the stated time and space complexity."
   ]
  },
  {
   "cell_type": "code",
   "execution_count": 2,
   "id": "5ad4177a",
   "metadata": {},
   "outputs": [
    {
     "name": "stdout",
     "output_type": "stream",
     "text": [
      "3\n"
     ]
    }
   ],
   "source": [
    "class Node:\n",
    "    def __init__(self, value, next=None):\n",
    "        self.value = value\n",
    "        self.next = next\n",
    "\n",
    "def trail_length(trailhead):\n",
    "    # count = 0 \n",
    "    # current = head \n",
    "    # while current:\n",
    "    #   if current == head:\n",
    "    #      return count\n",
    "    #   count += 1\n",
    "    count = 1 \n",
    "    current = trailhead.next \n",
    "    while current:\n",
    "        if current == trailhead:\n",
    "            return count\n",
    "        count += 1 \n",
    "        current = current.next\n",
    "\n",
    "\n",
    "\n",
    "marker1 = Node(\"Marker 1\")\n",
    "marker2 = Node(\"Marker 2\")\n",
    "marker3 = Node(\"Marker 3\")\n",
    "marker1.next = marker2\n",
    "marker2.next = marker3\n",
    "marker3.next = marker1\n",
    "\n",
    "print(trail_length(marker1))\n",
    "\n",
    "# 3"
   ]
  },
  {
   "cell_type": "markdown",
   "id": "3c387a7c",
   "metadata": {},
   "source": [
    "Problem 2: Clearing the Path\n",
    "While maintaining a trail, you discover that some parts of the path loop back on themselves, creating confusing detours. Given the head of a linked list that may contain cycles trailhead, wite a function that removes any loops/cycles in the trail ensuring a clear, straightforward path. Return the head of the cleared trail.\n",
    "\n",
    "Evaluate the time and space complexity of your solution. Define your variables and provide a rationale for why you believe your solution has the stated time and space complexity."
   ]
  },
  {
   "cell_type": "code",
   "execution_count": 5,
   "id": "7cb5b7b3",
   "metadata": {},
   "outputs": [
    {
     "name": "stdout",
     "output_type": "stream",
     "text": [
      "Trailhead -> Trail Fork -> The Falls -> Peak\n"
     ]
    }
   ],
   "source": [
    "class Node:\n",
    "    def __init__(self, value, next=None):\n",
    "        self.value = value\n",
    "        self.next = next\n",
    "\n",
    "# For testing - careful this will cause an infinite loop when used on a list w/cycles\n",
    "def print_linked_list(head):\n",
    "    current = head\n",
    "    while current:\n",
    "        print(current.value, end=\" -> \" if current.next else \"\\n\")\n",
    "        current = current.next\n",
    "\n",
    "def clear_trail(trailhead):\n",
    "    # current = trailhead \n",
    "    # seen = set()\n",
    "\n",
    "    # while current:\n",
    "    #     if current in seen:\n",
    "    #         current.next = None\n",
    "    #     else:\n",
    "    #         seen.add(current)\n",
    "        \n",
    "    #     current = current.next \n",
    "\n",
    "    # return trailhead\n",
    "    if not trailhead:\n",
    "        return None\n",
    "\n",
    "    slow = trailhead\n",
    "    fast = trailhead\n",
    "\n",
    "    # Step 1: Detect cycle using Floyd's Cycle Detection Algorithm\n",
    "    while fast and fast.next:\n",
    "        slow = slow.next\n",
    "        fast = fast.next.next\n",
    "        if slow == fast:\n",
    "            break\n",
    "    else:\n",
    "        # No cycle detected\n",
    "        return trailhead\n",
    "\n",
    "    # Step 2: Find the start of the cycle\n",
    "    slow = trailhead\n",
    "    while slow != fast:\n",
    "        slow = slow.next\n",
    "        fast = fast.next\n",
    "\n",
    "    # Step 3: Remove the cycle\n",
    "    while fast.next != slow:\n",
    "        fast = fast.next\n",
    "    fast.next = None\n",
    "\n",
    "    return trailhead\n",
    "\n",
    "marker1 = Node(\"Trailhead\")\n",
    "marker2 = Node(\"Trail Fork\")\n",
    "marker3 = Node(\"The Falls\")\n",
    "marker4 = Node(\"Peak\")\n",
    "marker1.next = marker2\n",
    "marker2.next = marker3\n",
    "marker3.next = marker4\n",
    "marker4.next = marker2\n",
    "\n",
    "print_linked_list(clear_trail(marker1))\n",
    "\n",
    "# Trailhead -> Trail Fork -> The Falls -> Peak\n"
   ]
  },
  {
   "cell_type": "markdown",
   "id": "ae7bbde7",
   "metadata": {},
   "source": [
    "Problem 3: Removing Duplicate Markers\n",
    "When clearing an old trail, you notice some markers have been placed more than once, confusing hikers. Given the head of a sorted linked list of numbered trail markers, trailhead, write a function that removes all duplicate markers, keeping only the unique ones. Return the head of the updated trail."
   ]
  },
  {
   "cell_type": "code",
   "execution_count": null,
   "id": "f919dc38",
   "metadata": {},
   "outputs": [
    {
     "name": "stdout",
     "output_type": "stream",
     "text": [
      "1 -> 2 -> 3 -> 3 -> 4\n"
     ]
    }
   ],
   "source": [
    "class Node:\n",
    "    def __init__(self, value, next=None):\n",
    "        self.value = value\n",
    "        self.next = next\n",
    "\n",
    "# For testing\n",
    "def print_linked_list(head):\n",
    "    current = head\n",
    "    while current:\n",
    "        print(current.value, end=\" -> \" if current.next else \"\\n\")\n",
    "        current = current.next\n",
    "\n",
    "def remove_duplicate_markers(trailhead):\n",
    "    current = trailhead \n",
    "    seen = set()\n",
    "\n",
    "    while current.next:\n",
    "        if current.next.value in seen:\n",
    "            current.next = current.n\n",
    "        current = current.next\n",
    "        set.add(current.value)\n",
    "\n",
    "trailhead = Node(1, Node(2, Node(3, Node(3, Node(4)))))\n",
    "\n",
    "print_linked_list(remove_duplicate_markers(trailhead))\n",
    "\n",
    "# 1 -> 2 -> 4\n",
    "# Explanation: 3 appears more than once so it is deleted from the list"
   ]
  }
 ],
 "metadata": {
  "kernelspec": {
   "display_name": "base",
   "language": "python",
   "name": "python3"
  },
  "language_info": {
   "codemirror_mode": {
    "name": "ipython",
    "version": 3
   },
   "file_extension": ".py",
   "mimetype": "text/x-python",
   "name": "python",
   "nbconvert_exporter": "python",
   "pygments_lexer": "ipython3",
   "version": "3.11.3"
  }
 },
 "nbformat": 4,
 "nbformat_minor": 5
}
