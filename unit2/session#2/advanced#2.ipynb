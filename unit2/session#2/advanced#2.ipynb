{
 "cells": [
  {
   "cell_type": "markdown",
   "id": "eac4374b",
   "metadata": {},
   "source": [
    "## Problem 1: Cook Off\n",
    "## In a reality TV show, contestants are challenged to do the best recreation of a meal cooked by an all-star judge using limited resources. The meal they must recreate is represented by the string target_meal. The contestants are given a collection of ingredients represented by the string ingredients.\n",
    "## \n",
    "## Help the contestants by writing a function max_attempts() that returns the maximum number of copies of target_meal they can create using the given ingredients. You can take some letters from ingredients and rearrange them to form new strings."
   ]
  },
  {
   "cell_type": "code",
   "execution_count": null,
   "id": "42cd5bff",
   "metadata": {},
   "outputs": [
    {
     "name": "stdout",
     "output_type": "stream",
     "text": [
      "2\n",
      "3\n",
      "1\n"
     ]
    }
   ],
   "source": [
    "def max_attempts(ingredients, target_meal):\n",
    "    meal_map = {}\n",
    "\n",
    "    for char in ingredients:\n",
    "        meal_map[char] = meal_map.get(char, 0) + 1\n",
    "\n",
    "    min_count = float('inf')\n",
    "    for char in target_meal:\n",
    "        min_count = min(min_count, meal_map[char])\n",
    "    \n",
    "    return min_count \n",
    "\n",
    "# Time: O(n)\n",
    "# Space: O(n)\n",
    "\n",
    "ingredients1 = \"aabbbcccc\"\n",
    "target_meal1 = \"abc\"\n",
    "\n",
    "ingredients2 = \"ppppqqqrrr\"\n",
    "target_meal2 = \"pqr\"\n",
    "\n",
    "ingredients3 = \"ingredientsforcooking\"\n",
    "target_meal3 = \"cooking\"\n",
    "\n",
    "print(max_attempts(ingredients1, target_meal1))\n",
    "print(max_attempts(ingredients2, target_meal2))\n",
    "print(max_attempts(ingredients3, target_meal3))\n",
    "\n",
    "\n",
    "# 2\n",
    "# 3\n",
    "# 1"
   ]
  },
  {
   "cell_type": "markdown",
   "id": "857bc44a",
   "metadata": {},
   "source": [
    "Problem 2: Dialogue Similarity\n",
    "Watching a reality TV show, you notice a lot of contestants talk similarly. We want to determine if two contestants have similar speech patterns.\n",
    "\n",
    "We can represent a sentence as an array of words, for example, the sentence \"I've got a text!\" can be represented as sentence = [\"I've\", \"got\", \"a\", \"text\"].\n",
    "\n",
    "You are given two sentences from different contestants sentence1 and sentence2 each represented as a string array and given an array of string pairs similar_pairs where similar_pairs[i] = [xi, yi] indicates that the two words xi and yi are similar. Write a function is_similar() that returns True if sentence1 and sentence2 are similar, and False if they are not similar.\n",
    "\n",
    "Two sentences are similar if:\n",
    "\n",
    "They have the same length (i.e., the same number of words)\n",
    "sentence1[i] and sentence2[i] are similar\n",
    "Notice that a word is always similar to itself, also notice that the similarity relation is not transitive. For example, if the words a and b are similar, and the words b and c are similar, a and c are not necessarily similar."
   ]
  },
  {
   "cell_type": "code",
   "execution_count": null,
   "id": "c82b327d",
   "metadata": {},
   "outputs": [],
   "source": [
    "def is_similar(sentence1, sentence2, similar_pairs):\n",
    "    pass\n",
    "\n",
    "sentence1 = [\"my\", \"type\", \"on\", \"paper\"]\n",
    "sentence2 = [\"my\", \"type\", \"in\", \"theory\"]\n",
    "similar_pairs = [ [\"on\", \"in\"], [\"paper\", \"theory\"]]\n",
    "\n",
    "sentence3 = [\"no\", \"tea\", \"no\", \"shade\"]\n",
    "sentence4 = [\"no\", \"offense\"]\n",
    "similar_pairs2 = [[\"shade\", \"offense\"]]\n",
    "\n",
    "print(is_similar(sentence1, sentence2, similar_pairs))\n",
    "print(is_similar(sentence3, sentence4, similar_pairs2))\n",
    "\n",
    "# True\n",
    "# Example 1 Explanation: \"my\" and \"type\" are similar to themselves. The words at \n",
    "# indices 2 and 3 of sentence1 are similar to words at indices 2 and 3 of \n",
    "# sentence2 according to the similar_pairs array. \n",
    "# \n",
    "# False\n",
    "# Example 2 Explanation: Sentences are of different length."
   ]
  },
  {
   "cell_type": "code",
   "execution_count": null,
   "id": "daf55ba4",
   "metadata": {},
   "outputs": [
    {
     "name": "stdout",
     "output_type": "stream",
     "text": [
      "True\n",
      "False\n"
     ]
    }
   ],
   "source": [
    "def is_similar(sentence1, sentence2, similar_pairs):\n",
    "    if(len(sentence1) != len(sentence2)):\n",
    "        return False\n",
    "    for i in range(len(sentence1)):\n",
    "        if [sentence1[i], sentence2[i]] in similar_pairs:\n",
    "            continue\n",
    "        elif sentence1[i] == sentence2[i]:\n",
    "            continue\n",
    "        else:\n",
    "            return False \n",
    "    \n",
    "    return True\n",
    "\n",
    "# Time: O(N)\n",
    "# SpaceL O(N)\n",
    "\n",
    "sentence1 = [\"my\", \"type\", \"on\", \"paper\"]\n",
    "sentence2 = [\"my\", \"type\", \"in\", \"theory\"]\n",
    "similar_pairs = [ [\"on\", \"in\"], [\"paper\", \"theory\"]]\n",
    "\n",
    "sentence3 = [\"no\", \"tea\", \"no\", \"shade\"]\n",
    "sentence4 = [\"no\", \"offense\"]\n",
    "similar_pairs2 = [[\"shade\", \"offense\"]]\n",
    "\n",
    "print(is_similar(sentence1, sentence2, similar_pairs))\n",
    "print(is_similar(sentence3, sentence4, similar_pairs2))\n",
    "\n",
    "# True\n",
    "# Example 1 Explanation: \"my\" and \"type\" are similar to themselves. The words at \n",
    "# indices 2 and 3 of sentence1 are similar to words at indices 2 and 3 of \n",
    "# sentence2 according to the similar_pairs array. \n",
    "# \n",
    "# False\n",
    "# Example 2 Explanation: Sentences are of different length.\n"
   ]
  },
  {
   "cell_type": "markdown",
   "id": "f932c6f0",
   "metadata": {},
   "source": [
    "Problem 3: Cows and Bulls\n",
    "In a reality TV show, contestants play a mini-game called Bulls and Cows for a prize. The objective is to guess a secret number within a limited number of attempts. You, as the host, need to provide hints to the contestants based on their guesses.\n",
    "\n",
    "When a contestant makes a guess, you provide a hint with the following information:\n",
    "\n",
    "The number of \"bulls,\" which are digits in the guess that are in the correct position.\n",
    "The number of \"cows,\" which are digits in the guess that are in the secret number but are located in the wrong position.\n",
    "Given the secret number secret and the contestant's guess guess, return the hint for their guess.\n",
    "\n",
    "The hint should be formatted as \"xAyB\", where x is the number of bulls and y is the number of cows. Note that both secret and guess may contain duplicate digits."
   ]
  },
  {
   "cell_type": "code",
   "execution_count": null,
   "id": "12c6e55a",
   "metadata": {},
   "outputs": [
    {
     "name": "stdout",
     "output_type": "stream",
     "text": [
      "{0: ('1', '7'), 1: ('8', '8'), 2: ('0', '1'), 3: ('7', '0')}\n",
      "None\n",
      "{0: ('1', '0'), 1: ('1', '1'), 2: ('2', '1'), 3: ('3', '1')}\n",
      "None\n"
     ]
    }
   ],
   "source": [
    "def get_hint(secret, guess):\n",
    "    bulls = 0\n",
    "    cows = 0\n",
    "    \n",
    "    # Manually count the frequency of each character in secret and guess\n",
    "    secret_count = {}\n",
    "    guess_count = {}\n",
    "    \n",
    "    # First pass to count bulls and populate the dictionaries\n",
    "    for i in range(len(secret)):\n",
    "        if secret[i] == guess[i]:\n",
    "            bulls += 1\n",
    "        else:\n",
    "            # Update the count for the character in secret\n",
    "            if secret[i] in secret_count:\n",
    "                secret_count[secret[i]] += 1\n",
    "            else:\n",
    "                secret_count[secret[i]] = 1\n",
    "            \n",
    "            # Update the count for the character in guess\n",
    "            if guess[i] in guess_count:\n",
    "                guess_count[guess[i]] += 1\n",
    "            else:\n",
    "                guess_count[guess[i]] = 1\n",
    "    \n",
    "    # Second pass to count cows\n",
    "    for char in guess_count:\n",
    "        if char in secret_count:\n",
    "            cows += min(secret_count[char], guess_count[char])\n",
    "    \n",
    "    return f\"{bulls}A{cows}B\"\n",
    "\n",
    "\n",
    "secret1 = \"1807\"\n",
    "guess1 = \"7810\"\n",
    "\n",
    "secret2 = \"1123\"\n",
    "guess2 = \"0111\"\n",
    "\n",
    "print(get_hint(secret1, guess1))\n",
    "print(get_hint(secret2, guess2))\n",
    "\n",
    "# 1A3B\n",
    "# Example 1 Explanation: \n",
    "# Bulls are connected with a '|' and cows are marked with an asterisk:\n",
    "# \"1807\"\n",
    "#   |\n",
    "# \"7810\"\n",
    "#  * **\n",
    "# \n",
    "# 1A1B\n",
    "# Example 2 Explanation:\n",
    "# Bulls are connected with a '|' and cows are marked with an asterisk:\n",
    "# \"1123\"        \"1123\"\n",
    "#   |      or     |\n",
    "# \"0111\"        \"0111\"\n",
    "#    *              *\n",
    "# Note that only one of the two unmatched 1s is counted as a cow since the \n",
    "# non-bull digits can only be rearranged to allow one 1 to be a bull."
   ]
  },
  {
   "cell_type": "markdown",
   "id": "d2cae78f",
   "metadata": {},
   "source": [
    "Problem 4: Count Winning Pairings\n",
    "In a popular reality TV show, contestants pair up for various challenges. The pairing is considered winning if the sum of their \"star power\" is a power of two.\n",
    "\n",
    "You are given an array of integers star_power where star_power[i] represents the star power of the i-th contestant. Return the number of different winning pairings you can make from this list, modulo 10^9 + 7.\n",
    "\n",
    "Note that contestants with different indices are considered different even if they have the same star power."
   ]
  },
  {
   "cell_type": "code",
   "execution_count": 11,
   "id": "926d74f9",
   "metadata": {},
   "outputs": [
    {
     "name": "stdout",
     "output_type": "stream",
     "text": [
      "4\n",
      "15\n"
     ]
    }
   ],
   "source": [
    "def count_winning_pairings(star_power):\n",
    "    target = []\n",
    "    for i in range(9):\n",
    "        target.append(2**i)\n",
    "\n",
    "    count = 0 \n",
    "    for i in range(len(star_power)):\n",
    "        for j in range(i + 1, len(star_power)):\n",
    "            if (star_power[i] + star_power[j]) in target:\n",
    "                #print(star_power[i], star_power[j])\n",
    "                count += 1\n",
    "    \n",
    "    return count\n",
    "\n",
    "\n",
    "\n",
    "\n",
    "star_power1 = [1, 3, 5, 7, 9]\n",
    "print(count_winning_pairings(star_power1))\n",
    "\n",
    "star_power2 = [1, 1, 1, 3, 3, 3, 7]\n",
    "print(count_winning_pairings(star_power2))\n",
    "\n",
    "# 4\n",
    "# 15"
   ]
  }
 ],
 "metadata": {
  "kernelspec": {
   "display_name": "base",
   "language": "python",
   "name": "python3"
  },
  "language_info": {
   "codemirror_mode": {
    "name": "ipython",
    "version": 3
   },
   "file_extension": ".py",
   "mimetype": "text/x-python",
   "name": "python",
   "nbconvert_exporter": "python",
   "pygments_lexer": "ipython3",
   "version": "3.11.3"
  }
 },
 "nbformat": 4,
 "nbformat_minor": 5
}
