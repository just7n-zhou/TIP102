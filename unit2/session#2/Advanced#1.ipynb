{
 "cells": [
  {
   "cell_type": "markdown",
   "id": "76214e1e",
   "metadata": {},
   "source": [
    "### Problem 1: Balanced Art Collection\n",
    "### As the curator of an art gallery, you are organizing a new exhibition. You must ensure the collection of art pieces are balanced to attract the right range of buyers. A balanced collection is one where the difference between the maximum and minimum value of the art pieces is exactly 1.\n",
    "### \n",
    "### Given an integer array art_pieces representing the value of each art piece, write a function find_balanced_subsequence() that returns the length of the longest balanced subsequence.\n",
    "### \n",
    "### A subsequence is a sequence derived from the array by deleting some or no elements without changing the order of the remaining elements."
   ]
  },
  {
   "cell_type": "code",
   "execution_count": null,
   "id": "9d65e3b3",
   "metadata": {},
   "outputs": [],
   "source": [
    "def find_balanced_subsequence(art_pieces):\n",
    "    \n",
    "\n",
    "art_pieces1 = [1,3,2,2,5,2,3,7]\n",
    "art_pieces2 = [1,2,3,4]\n",
    "art_pieces3 = [1,1,1,1]\n",
    "\n",
    "print(find_balanced_subsequence(art_pieces1))\n",
    "print(find_balanced_subsequence(art_pieces2))\n",
    "print(find_balanced_subsequence(art_pieces3))\n",
    "\n",
    "# 5\n",
    "# Example 1 Explanation:  The longest balanced subsequence is [3,2,2,2,3].\n",
    "\n",
    "# 2\n",
    "# 0"
   ]
  }
 ],
 "metadata": {
  "kernelspec": {
   "display_name": "base",
   "language": "python",
   "name": "python3"
  },
  "language_info": {
   "name": "python",
   "version": "3.11.3"
  }
 },
 "nbformat": 4,
 "nbformat_minor": 5
}
