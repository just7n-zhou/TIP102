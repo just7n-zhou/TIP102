{
 "cells": [
  {
   "cell_type": "markdown",
   "id": "1c3d4fe8",
   "metadata": {},
   "source": [
    "### Problem 1: Most Endangered Species\n",
    "### Imagine you are working on a wildlife conservation database. Write a function named most_endangered() that returns the species with the highest conservation priority based on its population.\n",
    "### \n",
    "### The function should take in a list of dictionaries named species_list as a parameter. Each dictionary represents data associated with a species, including its name, habitat, and wild population. The function should return the name of the species with the lowest population.\n",
    "### \n",
    "### If there are multiple species with the lowest population, return the species with the lowest index."
   ]
  },
  {
   "cell_type": "code",
   "execution_count": null,
   "id": "b6d2d310",
   "metadata": {},
   "outputs": [
    {
     "name": "stdout",
     "output_type": "stream",
     "text": [
      "Vaquita\n"
     ]
    }
   ],
   "source": [
    "def most_endangered(species_list):\n",
    "    min_population = float('inf')\n",
    "    min_specie = \"\"\n",
    "\n",
    "    for specie in species_list:\n",
    "        if specie['population'] < min_population:\n",
    "            min_population = specie['population']\n",
    "            min_specie = specie['name']\n",
    "    \n",
    "    return min_specie\n",
    "\n",
    "# Time: O()\n",
    "\n",
    "species_list = [\n",
    "    {\"name\": \"Amur Leopard\",\n",
    "     \"habitat\": \"Temperate forests\",\n",
    "     \"population\": 84\n",
    "    },\n",
    "    {\"name\": \"Javan Rhino\",\n",
    "     \"habitat\": \"Tropical forests\",\n",
    "     \"population\": 72\n",
    "    },\n",
    "    {\"name\": \"Vaquita\",\n",
    "     \"habitat\": \"Marine\",\n",
    "     \"population\": 10\n",
    "    }\n",
    "]\n",
    "\n",
    "print(most_endangered(species_list))\n",
    "\n",
    "# Vaquita\n"
   ]
  },
  {
   "cell_type": "markdown",
   "id": "d2b49511",
   "metadata": {},
   "source": [
    "### Problem 2: Identifying Endangered Species\n",
    "### As part of conservation efforts, certain species are considered endangered and are represented by the string endangered_species. Each character in this string denotes a different endangered species. You also have a record of all observed species in a particular region, represented by the string observed_species. Each character in observed_species denotes a species observed in the region.\n",
    "### \n",
    "### Your task is to determine how many instances of the observed species are also considered endangered.\n",
    "### \n",
    "### Note: Species are case-sensitive, so \"a\" is considered a different species from \"A\".\n",
    "### \n",
    "### Write a function to count the number of endangered species observed."
   ]
  },
  {
   "cell_type": "code",
   "execution_count": 7,
   "id": "7e3145af",
   "metadata": {},
   "outputs": [
    {
     "name": "stdout",
     "output_type": "stream",
     "text": [
      "3\n",
      "0\n"
     ]
    }
   ],
   "source": [
    "def count_endangered_species(endangered_species, observed_species):\n",
    "    count = 0 \n",
    "\n",
    "    for char in observed_species:\n",
    "        if char in endangered_species:\n",
    "            count += 1\n",
    "    \n",
    "    return count\n",
    "\n",
    "\n",
    "endangered_species1 = \"aA\"\n",
    "observed_species1 = \"aAAbbbb\"\n",
    "\n",
    "endangered_species2 = \"z\"\n",
    "observed_species2 = \"ZZ\"\n",
    "\n",
    "print(count_endangered_species(endangered_species1, observed_species1)) \n",
    "print(count_endangered_species(endangered_species2, observed_species2))  \n",
    "\n",
    "# 3  since `a` and `A` are endangered species. `a` appears once, and `A` twice.\n",
    "# 0"
   ]
  },
  {
   "cell_type": "markdown",
   "id": "d92f863c",
   "metadata": {},
   "source": [
    "### Problem 3: Navigating the Research Station\n",
    "### In a wildlife research station, each letter of the alphabet represents a different observation point laid out in a single row. Given a string station_layout of length 26 indicating the layout of these observation points (indexed from 0 to 25), you start your journey at the first observation point (index 0). To make observations in a specific order represented by a string observations, you need to move from one point to another.\n",
    "### \n",
    "### The time taken to move from one observation point to another is the absolute difference between their indices, |i - j|.\n",
    "### \n",
    "### Write a function that returns the total time it takes to visit all the required observation points in the given order with one movement."
   ]
  },
  {
   "cell_type": "code",
   "execution_count": null,
   "id": "0e5d6067",
   "metadata": {},
   "outputs": [
    {
     "name": "stdout",
     "output_type": "stream",
     "text": [
      "45\n",
      "4\n"
     ]
    }
   ],
   "source": [
    "def navigate_research_station(station_layout, observations):\n",
    "    # Use a dictionary to map the index of each station \n",
    "    station_map = {}\n",
    "    for i, station in enumerate(station_layout):\n",
    "        station_map[station] = i \n",
    "    \n",
    "    # iterate through each observation to locate its index\n",
    "    # To get to the first observation requires traveling by len of its index\n",
    "    travel = station_map[observations[0]]\n",
    "    # for each remaining observation find the distance between it and its next observation\n",
    "    for i in range(len(observations) - 1):\n",
    "        travel += abs(station_map[observations[i + 1]] - station_map[observations[i]])\n",
    "\n",
    "    # return the final traveled distance\n",
    "    return travel\n",
    "\n",
    "        \n",
    "\n",
    "station_layout1 = \"pqrstuvwxyzabcdefghijklmno\"\n",
    "observations1 = \"wildlife\"\n",
    "\n",
    "station_layout2 = \"abcdefghijklmnopqrstuvwxyz\"\n",
    "observations2 = \"cba\"\n",
    "\n",
    "print(navigate_research_station(station_layout1, observations1))  \n",
    "print(navigate_research_station(station_layout2, observations2))\n",
    "\n",
    "# 45\n",
    "# 4\n",
    "# Example 2 explanation: The index moves from 0 to 2 to observe 'c', then to 1 for\n",
    "# 'b', then to 0 again for 'a'.\n",
    "# Total time = 2 + 1 + 1 = 4."
   ]
  },
  {
   "cell_type": "markdown",
   "id": "d8ca4ccf",
   "metadata": {},
   "source": [
    "### Problem 4: Prioritizing Endangered Species Observations\n",
    "### In your work with a wildlife conservation database, you have two lists: observed_species and priority_species. The elements of priority_species are distinct, and all elements in priority_species are also in observed_species.\n",
    "### \n",
    "### Write a function prioritize_observations() that sorts the elements of observed_species such that the relative ordering of items in observed_species matches that of priority_species. Species that do not appear in priority_species should be placed at the end of observed_species in ascending order. "
   ]
  },
  {
   "cell_type": "code",
   "execution_count": 16,
   "id": "9c8f754c",
   "metadata": {},
   "outputs": [
    {
     "name": "stdout",
     "output_type": "stream",
     "text": [
      "['🐯', '🐯', '🐯', '🦌', '🐘', '🦁', '🦁', '🐍', '🐻', '🐼', '🦑']\n",
      "['cardinal', 'sparrow', 'bluejay', 'crow', 'robin']\n"
     ]
    },
    {
     "data": {
      "text/plain": [
       "['cardinal', 'sparrow', 'bluejay', 'crow', 'robin']"
      ]
     },
     "execution_count": 16,
     "metadata": {},
     "output_type": "execute_result"
    }
   ],
   "source": [
    "def prioritize_observations(observed_species, priority_species):\n",
    "    specie_count = {}\n",
    "    for specie in observed_species:\n",
    "        if specie in specie_count:\n",
    "            specie_count[specie] += 1\n",
    "        else:\n",
    "            specie_count[specie] = 1\n",
    "    \n",
    "    res = []\n",
    "    for priority in priority_species:\n",
    "        res.extend([priority] * specie_count[priority])\n",
    "        specie_count.pop(priority)\n",
    "\n",
    "    remaining = list(specie_count.keys())\n",
    "    remaining.sort()\n",
    "    res.extend(remaining)\n",
    "        \n",
    "    return res\n",
    "\n",
    "\n",
    "\n",
    "\n",
    "observed_species1 = [\"🐯\", \"🦁\", \"🦌\", \"🦁\", \"🐯\", \"🐘\", \"🐍\", \"🦑\", \"🐻\", \"🐯\", \"🐼\"]\n",
    "priority_species1 = [\"🐯\", \"🦌\", \"🐘\", \"🦁\"]  \n",
    "\n",
    "observed_species2 = [\"bluejay\", \"sparrow\", \"cardinal\", \"robin\", \"crow\"]\n",
    "priority_species2 = [\"cardinal\", \"sparrow\", \"bluejay\"]\n",
    "\n",
    "print(prioritize_observations(observed_species1, priority_species1))\n",
    "print(prioritize_observations(observed_species2, priority_species2)) \n",
    "\n",
    "[\"🐯\", \"🐯\", \"🐯\", \"🦌\", \"🐘\", \"🦁\", \"🦁\", \"🐻\", \"🦑\", \"🐼\", \"🐍\"]\n",
    "[\"cardinal\", \"sparrow\", \"bluejay\", \"crow\", \"robin\"]"
   ]
  },
  {
   "cell_type": "markdown",
   "id": "3e2a01b4",
   "metadata": {},
   "source": [
    "### Problem 5: Calculating Conservation Statistics\n",
    "### You are given a 0-indexed integer array species_populations of even length, where each element represents the population of a particular species in a wildlife reserve.\n",
    "### \n",
    "### As long as species_populations is not empty, you must repetitively:\n",
    "### \n",
    "### Find the species with the minimum population and remove it.\n",
    "### Find the species with the maximum population and remove it.\n",
    "### Calculate the average population of the two removed species.\n",
    "### The average of two numbers a and b is (a+b)/2.\n",
    "### \n",
    "### For example, the average of 200 and 300 is (200+300)/2=250.\n",
    "### \n",
    "### Return the number of distinct averages calculated using the above process.\n",
    "### \n",
    "### Note that when there is a tie for a minimum or maximum population, any can be removed."
   ]
  },
  {
   "cell_type": "code",
   "execution_count": 23,
   "id": "f7e35879",
   "metadata": {},
   "outputs": [
    {
     "name": "stdout",
     "output_type": "stream",
     "text": [
      "2\n",
      "1\n"
     ]
    }
   ],
   "source": [
    "def distinct_averages(species_populations):\n",
    "    species_populations.sort()\n",
    "    distinct_averages = set()\n",
    "\n",
    "    while species_populations:\n",
    "        min_pop = species_populations.pop(0)\n",
    "        max_pop = species_populations.pop(-1)\n",
    "        average = (min_pop + max_pop) / 2\n",
    "        distinct_averages.add(average) \n",
    "    \n",
    "    return len(distinct_averages)\n",
    "\n",
    "species_populations1 = [4,1,4,0,3,5]\n",
    "species_populations2 = [1,100]\n",
    "\n",
    "print(distinct_averages(species_populations1))\n",
    "print(distinct_averages(species_populations2)) \n",
    "\n",
    "# 2\n",
    "# Example 1 Explanation:\n",
    "# 1. Remove 0 and 5, and the average is (0 + 5) / 2 = 2.5. Now, nums = [4,1,4,3].\n",
    "# 2. Remove 1 and 4. The average is (1 + 4) / 2 = 2.5, and nums = [4,3].\n",
    "# 3. Remove 3 and 4, and the average is (3 + 4) / 2 = 3.5.\n",
    "# Since there are 2 distinct numbers among 2.5, 2.5, and 3.5, we return 2.\n",
    "# \n",
    "# 1\n",
    "# Example 2 Explanation:\n",
    "# There is only one average to be calculated after removing 1 and 100, \n",
    "# so we return 1."
   ]
  },
  {
   "cell_type": "markdown",
   "id": "dadd5317",
   "metadata": {},
   "source": [
    "## Problem 6: Wildlife Reintroduction\n",
    "## As a conservationist, your research center has been raising multiple endangered species and is now ready to reintroduce them into their native habitats. You are given two 0-indexed strings raised_species and target_species. The string raised_species represents the list of species available to release into the wild at your center, where each character represents a different species. The string target_speciesrepresents a specific sequence of species you want to form and release together.\n",
    "## \n",
    "## You can take some species from raised_species and rearrange them to form new sequences.\n",
    "## \n",
    "## Return the maximum number of copies of target_species that can be formed by taking species from raised_species and rearranging them."
   ]
  },
  {
   "cell_type": "code",
   "execution_count": 25,
   "id": "9188e7cc",
   "metadata": {},
   "outputs": [
    {
     "name": "stdout",
     "output_type": "stream",
     "text": [
      "1\n",
      "2\n"
     ]
    }
   ],
   "source": [
    "def max_species_copies(raised_species, target_species):\n",
    "    specie_map = {}\n",
    "    for specie in raised_species:\n",
    "        specie_map[specie] = specie_map.get(specie, 0) + 1\n",
    "    \n",
    "    min_target = float('inf')\n",
    "    for target in target_species:\n",
    "        count = specie_map.get(target, 0)\n",
    "        min_target = min(min_target, count)\n",
    "    \n",
    "    return min_target\n",
    "\n",
    "\n",
    "# Time: O(n)\n",
    "# Space: O(k) num of unique char\n",
    "\n",
    "raised_species1 = \"abcba\"\n",
    "target_species1 = \"abc\"\n",
    "print(max_species_copies(raised_species1, target_species1))  # Output: 1\n",
    "\n",
    "raised_species2 = \"aaaaabbbbcc\"\n",
    "target_species2 = \"abc\"\n",
    "print(max_species_copies(raised_species2, target_species2)) # Output: 2\n",
    "\n",
    "# 1\n",
    "# Example 1 Explanation:\n",
    "# We can make one copy of \"abc\" by taking the letters at indices 0, 1, and 2.\n",
    "# We can make at most one copy of \"abc\", so we return 1.\n",
    "# Note that while there is an extra 'a' and 'b' at indices 3 and 4, we cannot \n",
    "# reuse the letter 'c' at index 2, so we cannot make a second copy of \"abc\".\n",
    "# \n",
    "# 2\n",
    "# Example 2 Explanation:\n",
    "# We can make one copy of \"abc\" by taking the letters at indices 0, 5, and 9.\n",
    "# We can make a second copy of \"abc\" by taking the letters at indices 1, 6, and 10\n",
    "# At this point we are out of the letter \"c\" and cannot make additional copies. "
   ]
  },
  {
   "cell_type": "markdown",
   "id": "ad576602",
   "metadata": {},
   "source": [
    "### Problem 7: Count Unique Species\n",
    "### You are given a string ecosystem_data that consists of digits and lowercase English letters. The digits represent the observed counts of various species in a protected ecosystem.\n",
    "### \n",
    "### You will replace every non-digit character with a space. For example, \"f123de34g8hi34\" will become \" 123 34 8 34\". Notice that you are left with some species counts that are separated by at least one space: \"123\", \"34\", \"8\", and \"34\".\n",
    "### \n",
    "### Return the number of unique species counts after performing the replacement operations on ecosystem_data.\n",
    "### \n",
    "### Two species counts are considered different if their decimal representations without any leading zeros are different."
   ]
  },
  {
   "cell_type": "code",
   "execution_count": null,
   "id": "313d05af",
   "metadata": {},
   "outputs": [
    {
     "name": "stdout",
     "output_type": "stream",
     "text": [
      "3\n",
      "2\n",
      "1\n"
     ]
    }
   ],
   "source": [
    "def count_unique_species(ecosystem_data):\n",
    "    i, j = 0, 0 \n",
    "    numeric_set = set()\n",
    "    while j < len(ecosystem_data):\n",
    "        if ecosystem_data[i].isnumeric():\n",
    "            j = i\n",
    "            while j < len(ecosystem_data) and ecosystem_data[j].isnumeric():\n",
    "                j += 1\n",
    "            num = int(ecosystem_data[i:j])\n",
    "            numeric_set.add(num)\n",
    "            i = j\n",
    "        else:\n",
    "            i += 1\n",
    "    \n",
    "    return len(numeric_set)\n",
    "\n",
    "# Time: O(n)\n",
    "# Space : O(k), num of unique num, but worst case O(n)\n",
    "\n",
    "ecosystem_data1 = \"f123de34g8hi34\"\n",
    "ecosystem_data2 = \"species1234forest234\"\n",
    "ecosystem_data3 = \"x1y01z001\"\n",
    "\n",
    "print(count_unique_species(ecosystem_data1))\n",
    "print(count_unique_species(ecosystem_data2))\n",
    "print(count_unique_species(ecosystem_data3))\n",
    "\n",
    "# 3\n",
    "# 2 \n",
    "# 1"
   ]
  },
  {
   "cell_type": "markdown",
   "id": "d1670ca5",
   "metadata": {},
   "source": [
    "### Problem 8: Equivalent Species Pairs\n",
    "### In an effort to understand species diversity in different habitats, researchers are analyzing species pairs observed in various regions. Each pair is represented by a list [a, b] where a and b represent two species observed together.\n",
    "### \n",
    "### A species pair [a, b] is considered equivalent to another pair [c, d] if and only if either (a == c and b == d) or (a == d and b == c). This means that the order of species in a pair does not matter.\n",
    "### \n",
    "### Your task is to determine the number of equivalent species pairs in the list of observed species pairs."
   ]
  },
  {
   "cell_type": "code",
   "execution_count": null,
   "id": "e7cfc733",
   "metadata": {},
   "outputs": [
    {
     "name": "stdout",
     "output_type": "stream",
     "text": [
      "1\n",
      "3\n"
     ]
    }
   ],
   "source": [
    "def num_equiv_species_pairs(species_pairs):\n",
    "    pair_map = {}\n",
    "    for pair in species_pairs:\n",
    "        pair.sort()\n",
    "        key_pair = tuple(pair)\n",
    "        if key_pair in pair_map.keys():\n",
    "            pair_map[key_pair] += 1\n",
    "        else:\n",
    "            pair_map[key_pair] = 1\n",
    "    \n",
    "    count = 0\n",
    "    for freq in pair_map.values():\n",
    "        if freq > 1:\n",
    "            count += freq *  (freq - 1) // 2\n",
    "    \n",
    "    return count\n",
    "\n",
    "# Time: O(n)\n",
    "# Space: O(n)\n",
    "\n",
    "# Hint: For a species pair that appears n times, the number of equivalent pairs that can be formed is given by the formula the formula : c * (c - 1) // 2\n",
    "\n",
    "species_pairs1 = [[1,2],[2,1],[3,4],[5,6]]\n",
    "species_pairs2 = [[1,2],[1,2],[1,1],[1,2],[2,2]]\n",
    "\n",
    "print(num_equiv_species_pairs(species_pairs1))\n",
    "print(num_equiv_species_pairs(species_pairs2))\n",
    "\n",
    "# 1\n",
    "# 3"
   ]
  }
 ],
 "metadata": {
  "kernelspec": {
   "display_name": "base",
   "language": "python",
   "name": "python3"
  },
  "language_info": {
   "codemirror_mode": {
    "name": "ipython",
    "version": 3
   },
   "file_extension": ".py",
   "mimetype": "text/x-python",
   "name": "python",
   "nbconvert_exporter": "python",
   "pygments_lexer": "ipython3",
   "version": "3.11.3"
  }
 },
 "nbformat": 4,
 "nbformat_minor": 5
}
