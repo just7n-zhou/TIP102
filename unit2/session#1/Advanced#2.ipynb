{
 "cells": [
  {
   "cell_type": "markdown",
   "id": "26d88b32",
   "metadata": {},
   "source": [
    "#### Problem 1: The Library of Alexandria\n",
    "#### In the ancient Library of Alexandria, a temporal rift has scattered several important scrolls across different rooms. You are given a dictionary library_catalog that maps room names to the number of scrolls that room should have and a second dictionary actual_distribution that maps room names to the number of scrolls found in that room after the temporal rift.\n",
    "#### \n",
    "#### Write a function analyze_library() that determines if any room has more or fewer scrolls than it should. The function should return a dictionary where the keys are the room names and the values are the differences in the number of scrolls (actual number of scrolls - expected number of scrolls). You must loop over the dictionaries to compute the differences."
   ]
  },
  {
   "cell_type": "code",
   "execution_count": null,
   "id": "e6040e0e",
   "metadata": {},
   "outputs": [
    {
     "name": "stdout",
     "output_type": "stream",
     "text": [
      "{'Room A': 0, 'Room B': -10, 'Room C': 10, 'Room D': 0}\n"
     ]
    }
   ],
   "source": [
    "def analyze_library(library_catalog, actual_distribution):\n",
    "    if len(library_catalog.keys()) != len(actual_distribution.keys()) or len(library_catalog.keys()) == 0:\n",
    "        return []\n",
    "\n",
    "    for name, num in library_catalog.items():\n",
    "        actual_distribution[name] = actual_distribution[name] - num\n",
    "    \n",
    "    return actual_distribution\n",
    "\n",
    "library_catalog = {\n",
    "    \"Room A\": 150,\n",
    "    \"Room B\": 200,\n",
    "    \"Room C\": 250,\n",
    "    \"Room D\": 300\n",
    "}\n",
    "\n",
    "actual_distribution = {\n",
    "    \"Room A\": 150,\n",
    "    \"Room B\": 190,\n",
    "    \"Room C\": 260,\n",
    "    \"Room D\": 300\n",
    "}\n",
    "\n",
    "\n",
    "print(analyze_library(library_catalog, actual_distribution))\n",
    "\n",
    "#{'Room A': 0, 'Room B': -10, 'Room C': 10, 'Room D': 0}\n",
    "# Time: O(n)\n",
    "# Space: O(1)\n"
   ]
  },
  {
   "cell_type": "markdown",
   "id": "bac582f1",
   "metadata": {},
   "source": [
    "### Problem 4: Time Portals\n",
    "### In your time travel adventures, you are given an array of digit strings portals and a digit string destination. Return the number of pairs of indices (i, j) (where i != j) such that the concatenation of portals[i] + portals[j] equals destination.\n",
    "### \n",
    "### Note: For index values i and j, the pairs (i, j) and (j, i) are considered different - order matters."
   ]
  },
  {
   "cell_type": "code",
   "execution_count": 7,
   "id": "72758fd6",
   "metadata": {},
   "outputs": [
    {
     "name": "stdout",
     "output_type": "stream",
     "text": [
      "4\n",
      "2\n",
      "6\n"
     ]
    }
   ],
   "source": [
    "def num_of_time_portals(portals, destination):\n",
    "    portal_count = {}\n",
    "\n",
    "    for portal in portals:\n",
    "        if portal in portal_count:\n",
    "            portal_count[portal] += 1\n",
    "        else:\n",
    "            portal_count[portal] = 1\n",
    "\n",
    "    count = 0\n",
    "\n",
    "    for portal in portals:\n",
    "        concaten = destination[len(portal):]\n",
    "\n",
    "        if concaten in portal_count:\n",
    "            if portal == concaten:\n",
    "                count += portal_count[concaten] - 1\n",
    "            else:\n",
    "                count += portal_count[concaten]\n",
    "\n",
    "    \n",
    "    return count\n",
    "\n",
    "\n",
    "portals1 = [\"777\", \"7\", \"77\", \"77\"]\n",
    "destination1 = \"7777\"\n",
    "portals2 = [\"123\", \"4\", \"12\", \"34\"]\n",
    "destination2 = \"1234\"\n",
    "portals3 = [\"1\", \"1\", \"1\"]\n",
    "destination3 = \"11\"\n",
    "\n",
    "print(num_of_time_portals(portals1, destination1))\n",
    "print(num_of_time_portals(portals2, destination2))\n",
    "print(num_of_time_portals(portals3, destination3))\n",
    "\n",
    "# 4\n",
    "# 2\n",
    "# 6"
   ]
  },
  {
   "cell_type": "code",
   "execution_count": null,
   "id": "f244678a",
   "metadata": {},
   "outputs": [],
   "source": []
  },
  {
   "cell_type": "code",
   "execution_count": null,
   "id": "03d20f78",
   "metadata": {},
   "outputs": [],
   "source": []
  }
 ],
 "metadata": {
  "kernelspec": {
   "display_name": "base",
   "language": "python",
   "name": "python3"
  },
  "language_info": {
   "codemirror_mode": {
    "name": "ipython",
    "version": 3
   },
   "file_extension": ".py",
   "mimetype": "text/x-python",
   "name": "python",
   "nbconvert_exporter": "python",
   "pygments_lexer": "ipython3",
   "version": "3.11.3"
  }
 },
 "nbformat": 4,
 "nbformat_minor": 5
}
