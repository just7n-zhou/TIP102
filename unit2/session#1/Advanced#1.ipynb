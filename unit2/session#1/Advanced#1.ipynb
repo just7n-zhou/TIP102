{
 "cells": [
  {
   "cell_type": "markdown",
   "id": "3ba7dc7a",
   "metadata": {},
   "source": [
    "Long Term Goal: Being able to solve medium leetcode problem within 20 min\n",
    "Short Term Goal: Finish neetcode 150 by end of June "
   ]
  },
  {
   "cell_type": "markdown",
   "id": "6e6609d3",
   "metadata": {},
   "source": [
    "#### Problem 1: Counting Treasure\n",
    "#### Captain Blackbeard has a treasure map with several clues that point to different locations on an island. Each clue is associated with a specific location and the number of treasures buried there. Given a dictionary treasure_map where keys are location names and values are integers representing the number of treasures buried at those locations, write a function total_treasures() that returns the total number of treasures buried on the island."
   ]
  },
  {
   "cell_type": "code",
   "execution_count": 2,
   "id": "065be675",
   "metadata": {},
   "outputs": [
    {
     "name": "stdout",
     "output_type": "stream",
     "text": [
      "15\n",
      "50\n"
     ]
    }
   ],
   "source": [
    "def total_treasures(treasure_map):\n",
    "    return sum(list(treasure_map.values()))\n",
    "\n",
    "treasure_map1 = {\n",
    "    \"Cove\": 3,\n",
    "    \"Beach\": 7,\n",
    "    \"Forest\": 5\n",
    "}\n",
    "\n",
    "treasure_map2 = {\n",
    "    \"Shipwreck\": 10,\n",
    "    \"Cave\": 20,\n",
    "    \"Lagoon\": 15,\n",
    "    \"Island Peak\": 5\n",
    "}\n",
    "\n",
    "print(total_treasures(treasure_map1)) \n",
    "print(total_treasures(treasure_map2)) \n",
    "\n",
    "#15\n",
    "#50"
   ]
  },
  {
   "cell_type": "markdown",
   "id": "fea66166",
   "metadata": {},
   "source": [
    "#### Problem 2: Pirate Message Check\n",
    "#### Taken captive, Captain Anne Bonny has been smuggled a secret message from her crew. She will know she can trust the message if it contains all of the letters in the alphabet. Given a string message containing only lowercase English letters and whitespace, write a function can_trust_message() that returns True if the message contains every letter of the English alphabet at least once, and False otherwise."
   ]
  },
  {
   "cell_type": "code",
   "execution_count": 5,
   "id": "c42dabe6",
   "metadata": {},
   "outputs": [
    {
     "name": "stdout",
     "output_type": "stream",
     "text": [
      "True\n",
      "False\n"
     ]
    }
   ],
   "source": [
    "def can_trust_message(message):\n",
    "    letter_set = set()\n",
    "    for char in message:\n",
    "        if char == \" \":\n",
    "            continue \n",
    "        letter_set.add(char)\n",
    "    \n",
    "    if len(letter_set) == 26:\n",
    "        return True\n",
    "    \n",
    "    return False\n",
    "\n",
    "\n",
    "message1 = \"sphinx of black quartz judge my vow\"\n",
    "message2 = \"trust me\"\n",
    "\n",
    "print(can_trust_message(message1))\n",
    "print(can_trust_message(message2))"
   ]
  },
  {
   "cell_type": "markdown",
   "id": "e547a2d3",
   "metadata": {},
   "source": [
    "### Problem 3: Find All Duplicate Treasure Chests in an Array\n",
    "### Captain Blackbeard has an integer array chests of length n where all the integers in chests are in the range [1, n] and each integer appears once or twice. Return an array of all the integers that appear twice, representing the treasure chests that have duplicates."
   ]
  },
  {
   "cell_type": "code",
   "execution_count": 8,
   "id": "7c7b3273",
   "metadata": {},
   "outputs": [
    {
     "name": "stdout",
     "output_type": "stream",
     "text": [
      "[2, 3]\n",
      "[1]\n",
      "[]\n"
     ]
    }
   ],
   "source": [
    "def find_duplicate_chests(chests):\n",
    "    unique = set(chests)\n",
    "\n",
    "    for num in unique:\n",
    "        chests.remove(num)\n",
    "    \n",
    "    return chests\n",
    "\n",
    "chests1 = [4, 3, 2, 7, 8, 2, 3, 1]\n",
    "chests2 = [1, 1, 2]\n",
    "chests3 = [1]\n",
    "\n",
    "print(find_duplicate_chests(chests1))\n",
    "print(find_duplicate_chests(chests2))\n",
    "print(find_duplicate_chests(chests3))\n",
    "\n",
    "#[2, 3]\n",
    "#[1]\n",
    "#[]"
   ]
  },
  {
   "cell_type": "markdown",
   "id": "9b91a4f4",
   "metadata": {},
   "source": [
    "### Problem 4: Booby Trap\n",
    "### Captain Feathersword has found another pirate's buried treasure, but they suspect it's booby-trapped. The treasure chest has a secret code written in pirate language, and Captain Feathersword believes the trap can be disarmed if the code can be balanced. A balanced code is one where the frequency of every letter present in the code is equal. To disable the trap, Captain Feathersword must remove exactly one letter from the message. Help Captain Feathersword determine if it's possible to remove one letter to balance the pirate code.\n",
    "### \n",
    "### Given a 0-indexed string code consisting of only lowercase English letters, write a function is_balanced() that returns True if it's possible to remove one letter so that the frequency of all remaining letters is equal, and False otherwise."
   ]
  },
  {
   "cell_type": "code",
   "execution_count": 12,
   "id": "1a77f74b",
   "metadata": {},
   "outputs": [
    {
     "name": "stdout",
     "output_type": "stream",
     "text": [
      "True\n",
      "False\n"
     ]
    }
   ],
   "source": [
    "def is_balanced(code):\n",
    "    unique_code = set(code)\n",
    "    if len(unique_code) == len(code) - 1:\n",
    "        return True \n",
    "\n",
    "    return False\n",
    "\n",
    "\n",
    "code1 = \"arghh\"\n",
    "code2 = \"haha\"\n",
    "\n",
    "print(is_balanced(code1)) \n",
    "print(is_balanced(code2)) \n",
    "\n",
    "# True\n",
    "# Explanation: Select index 4 and delete it: word becomes \"argh\" and each character has a frequency of 1.\n",
    "\n",
    "# False\n",
    "# Explanation: They must delete a character, so either the frequency of \"h\" is 1 and the frequency of \"a\" is 2, or vice versa. \n",
    "# It is impossible to make all present letters have equal frequency.\n"
   ]
  },
  {
   "cell_type": "markdown",
   "id": "109b3057",
   "metadata": {},
   "source": [
    "### Problem 5: Overflowing With Gold\n",
    "### Captain Feathersword and their crew has discovered a list of gold amounts at various hidden locations on an island. Each number on the map corresponds to the amount of gold at a specific location. Captain Feathersword already has plenty of loot, and their ship is nearly full. They want to find two distinct locations on the map such that the sum of the gold amounts at these two locations is exactly equal to the amount of space left on their ship.\n",
    "### \n",
    "### Given an array of integers gold_amounts representing the amount of gold at each location and an integer target, return the indices of the two locations whose gold amounts add up to the target.\n",
    "### \n",
    "### Assume that each input has exactly one solution, and you may not use the same location twice. You can return the answer in any order."
   ]
  },
  {
   "cell_type": "code",
   "execution_count": 15,
   "id": "c309e95c",
   "metadata": {},
   "outputs": [
    {
     "name": "stdout",
     "output_type": "stream",
     "text": [
      "[0, 1]\n",
      "[1, 2]\n",
      "[0, 1]\n"
     ]
    }
   ],
   "source": [
    "def find_treasure_indices(gold_amounts, target):\n",
    "    seen = {}\n",
    "    for i, num in enumerate(gold_amounts):\n",
    "        compliment = target - num \n",
    "        if compliment in seen:\n",
    "            return [seen[compliment], i]\n",
    "        seen[num] = i\n",
    "    return []\n",
    "\n",
    "\n",
    "gold_amounts1 = [2, 7, 11, 15]\n",
    "target1 = 9\n",
    "\n",
    "gold_amounts2 = [3, 2, 4]\n",
    "target2 = 6\n",
    "\n",
    "gold_amounts3 = [3, 3]\n",
    "target3 = 6\n",
    "\n",
    "print(find_treasure_indices(gold_amounts1, target1))  \n",
    "print(find_treasure_indices(gold_amounts2, target2))  \n",
    "print(find_treasure_indices(gold_amounts3, target3))  \n",
    "\n",
    "# [0, 1]\n",
    "# [1, 2]\n",
    "# [0, 1]"
   ]
  },
  {
   "cell_type": "markdown",
   "id": "c303333f",
   "metadata": {},
   "source": [
    "### Problem 6: Organize the Pirate Crew\n",
    "### Captain Blackbeard needs to organize his pirate crew into different groups for a treasure hunt. Each pirate has a unique ID from 0 to n - 1.\n",
    "### \n",
    "### You are given an integer array group_sizes, where group_sizes[i] is the size of the group that pirate i should be in. For example, if group_sizes[1] = 3, then pirate 1 must be in a group of size 3.\n",
    "### \n",
    "### Return a list of groups such that each pirate i is in a group of size group_sizes[i].\n",
    "### \n",
    "### Each pirate should appear in exactly one group, and every pirate must be in a group. If there are multiple answers, return any of them. It is guaranteed that there will be at least one valid solution for the given input."
   ]
  },
  {
   "cell_type": "code",
   "execution_count": 16,
   "id": "99102b94",
   "metadata": {},
   "outputs": [
    {
     "name": "stdout",
     "output_type": "stream",
     "text": [
      "[[0, 1, 2], [3, 4, 6], [5]]\n",
      "[[0, 5], [1], [2, 3, 4]]\n"
     ]
    }
   ],
   "source": [
    "def organize_pirate_crew(group_sizes):\n",
    "    # Step 1: Initialize the dictionary\n",
    "    size_to_pirates = {}\n",
    "    \n",
    "    # Step 2: Fill the dictionary with group sizes\n",
    "    for pirate, size in enumerate(group_sizes):\n",
    "        if size not in size_to_pirates:\n",
    "            size_to_pirates[size] = []\n",
    "        size_to_pirates[size].append(pirate)\n",
    "    \n",
    "    # Step 3: Initialize the result list\n",
    "    result = []\n",
    "    \n",
    "    # Step 4: Form groups\n",
    "    for size, pirates in size_to_pirates.items():\n",
    "        for i in range(0, len(pirates), size):\n",
    "            result.append(pirates[i:i + size])\n",
    "    \n",
    "    return result\n",
    "\n",
    "group_sizes1 = [3, 3, 3, 3, 3, 1, 3]\n",
    "group_sizes2 = [2, 1, 3, 3, 3, 2]\n",
    "\n",
    "print(organize_pirate_crew(group_sizes1))\n",
    "print(organize_pirate_crew(group_sizes2)) \n",
    "\n",
    "# [[5], [0, 1, 2], [3, 4, 6]]\n",
    "# [1], [0, 5], [2, 3, 4]]"
   ]
  }
 ],
 "metadata": {
  "kernelspec": {
   "display_name": "base",
   "language": "python",
   "name": "python3"
  },
  "language_info": {
   "codemirror_mode": {
    "name": "ipython",
    "version": 3
   },
   "file_extension": ".py",
   "mimetype": "text/x-python",
   "name": "python",
   "nbconvert_exporter": "python",
   "pygments_lexer": "ipython3",
   "version": "3.11.3"
  }
 },
 "nbformat": 4,
 "nbformat_minor": 5
}
