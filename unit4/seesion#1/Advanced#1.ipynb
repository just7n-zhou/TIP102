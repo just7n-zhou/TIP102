{
 "cells": [
  {
   "cell_type": "markdown",
   "id": "541182f2",
   "metadata": {},
   "source": [
    "Problem 1: Brand Filter\n",
    "You're tasked with filtering out brands that are not sustainable from a list of fashion brands. A sustainable brand is defined as one that meets a specific criterion, such as using eco-friendly materials, ethical labor practices, or being carbon-neutral.\n",
    "\n",
    "Write the filter_sustainable_brands() function, which takes a list of brands and a criterion, then returns a list of brands that meet the criterion.\n",
    "\n",
    "Evaluate the time and space complexity of your solution. Define your variables and provide a rationale for why you believe your solution has the stated time and space complexity."
   ]
  },
  {
   "cell_type": "code",
   "execution_count": null,
   "id": "cfb6110f",
   "metadata": {},
   "outputs": [
    {
     "name": "stdout",
     "output_type": "stream",
     "text": [
      "['EcoWear', 'GreenThreads']\n",
      "['Earthly']\n",
      "['GreenLife']\n"
     ]
    }
   ],
   "source": [
    "def filter_sustainable_brands(brands, criterion):\n",
    "    res = []\n",
    "    # iterate through brands\n",
    "    for brand in brands: # Time: O(N)\n",
    "        # if the target criterion is in the brand's criteria, append to res\n",
    "        if criterion in brand[\"criteria\"]: # Time: O(M)\n",
    "            res.append(brand[\"name\"])\n",
    "    # return res\n",
    "    return res\n",
    "\n",
    "# Time: O(N * M)\n",
    "# Space: O(N)\n",
    "\n",
    "brands = [\n",
    "    {\"name\": \"EcoWear\", \"criteria\": [\"eco-friendly\", \"ethical labor\"]},\n",
    "    {\"name\": \"FastFashion\", \"criteria\": [\"cheap materials\", \"fast production\"]},\n",
    "    {\"name\": \"GreenThreads\", \"criteria\": [\"eco-friendly\", \"carbon-neutral\"]},\n",
    "    {\"name\": \"TrendyStyle\", \"criteria\": [\"trendy designs\"]}\n",
    "]\n",
    "\n",
    "brands_2 = [\n",
    "    {\"name\": \"Earthly\", \"criteria\": [\"ethical labor\", \"fair wages\"]},\n",
    "    {\"name\": \"FastStyle\", \"criteria\": [\"mass production\"]},\n",
    "    {\"name\": \"NatureWear\", \"criteria\": [\"eco-friendly\"]},\n",
    "    {\"name\": \"GreenFit\", \"criteria\": [\"recycled materials\", \"eco-friendly\"]}\n",
    "]\n",
    "\n",
    "brands_3 = [\n",
    "    {\"name\": \"OrganicThreads\", \"criteria\": [\"organic cotton\", \"fair trade\"]},\n",
    "    {\"name\": \"GreenLife\", \"criteria\": [\"recycled materials\", \"carbon-neutral\"]},\n",
    "    {\"name\": \"FastCloth\", \"criteria\": [\"cheap production\"]}\n",
    "]\n",
    "\n",
    "print(filter_sustainable_brands(brands, \"eco-friendly\"))\n",
    "print(filter_sustainable_brands(brands_2, \"ethical labor\"))\n",
    "print(filter_sustainable_brands(brands_3, \"carbon-neutral\"))\n",
    "\n",
    "# ['EcoWear', 'GreenThreads']\n",
    "# ['Earthly']\n",
    "# ['GreenLife']"
   ]
  },
  {
   "cell_type": "markdown",
   "id": "c600f026",
   "metadata": {},
   "source": [
    "Problem 2: Eco-Friendly Materials\n",
    "Certain materials are recognized as eco-friendly due to their low environmental impact. You need to track which materials are used by various brands and count how many times each material appears across all brands. This will help identify the most commonly used eco-friendly materials.\n",
    "\n",
    "Write the count_material_usage() function, which takes a list of brands (each with a list of materials) and returns the material names and the number of times each material appears across all brands.\n",
    "\n",
    "Evaluate the time and space complexity of your solution. Define your variables and provide a rationale for why you believe your solution has the stated time and space complexity."
   ]
  },
  {
   "cell_type": "code",
   "execution_count": null,
   "id": "00e2a7e5",
   "metadata": {},
   "outputs": [
    {
     "name": "stdout",
     "output_type": "stream",
     "text": [
      "{'organic cotton': 2, 'recycled polyester': 2, 'bamboo': 2}\n",
      "{'hemp': 2, 'linen': 2, 'organic cotton': 1, 'recycled wool': 1}\n",
      "{'organic cotton': 1, 'recycled polyester': 2, 'hemp': 1, 'bamboo': 1}\n"
     ]
    }
   ],
   "source": [
    "def count_material_usage(brands):\n",
    "    # use freq map to keep track of material\n",
    "    mapping = {} # Space: O(K)), K = num of unique materials, worst case every material is unique O(N * M)\n",
    "    # iterate through each brand\n",
    "    for brand in brands: # Time: O(N)\n",
    "        # iterate through the brand's material list\n",
    "        for material in brand[\"materials\"]: # Time:O(M)\n",
    "            # add a new material to map if not seen before\n",
    "            if material not in mapping:\n",
    "                mapping[material] = 1 \n",
    "            # else add one to existing material\n",
    "            else:\n",
    "                mapping[material] += 1\n",
    "\n",
    "    # return the freq map\n",
    "    return mapping \n",
    "\n",
    "# Time: O(N * M)\n",
    "# Space: O(K), worst case O(N * M)\n",
    "brands = [\n",
    "    {\"name\": \"EcoWear\", \"materials\": [\"organic cotton\", \"recycled polyester\"]},\n",
    "    {\"name\": \"GreenThreads\", \"materials\": [\"organic cotton\", \"bamboo\"]},\n",
    "    {\"name\": \"SustainableStyle\", \"materials\": [\"bamboo\", \"recycled polyester\"]}\n",
    "]\n",
    "\n",
    "brands_2 = [\n",
    "    {\"name\": \"NatureWear\", \"materials\": [\"hemp\", \"linen\"]},\n",
    "    {\"name\": \"Earthly\", \"materials\": [\"organic cotton\", \"hemp\"]},\n",
    "    {\"name\": \"GreenFit\", \"materials\": [\"linen\", \"recycled wool\"]}\n",
    "]\n",
    "\n",
    "brands_3 = [\n",
    "    {\"name\": \"OrganicThreads\", \"materials\": [\"organic cotton\"]},\n",
    "    {\"name\": \"EcoFashion\", \"materials\": [\"recycled polyester\", \"hemp\"]},\n",
    "    {\"name\": \"GreenLife\", \"materials\": [\"recycled polyester\", \"bamboo\"]}\n",
    "]\n",
    "\n",
    "print(count_material_usage(brands))\n",
    "print(count_material_usage(brands_2))\n",
    "print(count_material_usage(brands_3))\n",
    "\n",
    "# {'organic cotton': 2, 'recycled polyester': 2, 'bamboo': 2}\n",
    "# {'hemp': 2, 'linen': 2, 'organic cotton': 1, 'recycled wool': 1}\n",
    "# {'organic cotton': 1, 'recycled polyester': 2, 'hemp': 1, 'bamboo': 1}"
   ]
  },
  {
   "cell_type": "markdown",
   "id": "244f5312",
   "metadata": {},
   "source": [
    "Problem 3: Fashion Trends\n",
    "In the fast-changing world of fashion, certain materials and practices become trending based on how frequently they are adopted by brands. You want to identify which materials and practices are trending. A material or practice is considered \"trending\" if it appears in the dataset more than once.\n",
    "\n",
    "Write the find_trending_materials() function, which takes a list of brands (each with a list of materials or practices) and returns a list of materials or practices that are trending (i.e., those that appear more than once across all brands).\n",
    "\n",
    "Evaluate the time and space complexity of your solution. Define your variables and provide a rationale for why you believe your solution has the stated time and space complexity."
   ]
  },
  {
   "cell_type": "code",
   "execution_count": null,
   "id": "a651ca5f",
   "metadata": {},
   "outputs": [
    {
     "name": "stdout",
     "output_type": "stream",
     "text": [
      "['organic cotton', 'recycled polyester', 'bamboo']\n",
      "['hemp', 'linen']\n",
      "['recycled polyester']\n"
     ]
    }
   ],
   "source": [
    "def find_trending_materials(brands):\n",
    "    material_count = {}  # Space O(M)\n",
    "    trending_materials = [] # Space O(M) worst case \n",
    "\n",
    "    for brand in brands: # Time O(N)\n",
    "        for material in brand[\"materials\"]: # Time O(M)\n",
    "            if material in material_count:\n",
    "                material_count[material] += 1\n",
    "            else:\n",
    "                material_count[material] = 1\n",
    "\n",
    "    for material, count in material_count.items():\n",
    "        if count > 1:\n",
    "            trending_materials.append(material)\n",
    "\n",
    "    return trending_materials\n",
    "\n",
    "# Time: O(N * M)\n",
    "# Space: O(2M)\n",
    "brands = [\n",
    "    {\"name\": \"EcoWear\", \"materials\": [\"organic cotton\", \"recycled polyester\"]},\n",
    "    {\"name\": \"GreenThreads\", \"materials\": [\"organic cotton\", \"bamboo\"]},\n",
    "    {\"name\": \"SustainableStyle\", \"materials\": [\"bamboo\", \"recycled polyester\"]}\n",
    "]\n",
    "\n",
    "brands_2 = [\n",
    "    {\"name\": \"NatureWear\", \"materials\": [\"hemp\", \"linen\"]},\n",
    "    {\"name\": \"Earthly\", \"materials\": [\"organic cotton\", \"hemp\"]},\n",
    "    {\"name\": \"GreenFit\", \"materials\": [\"linen\", \"recycled wool\"]}\n",
    "]\n",
    "\n",
    "brands_3 = [\n",
    "    {\"name\": \"OrganicThreads\", \"materials\": [\"organic cotton\"]},\n",
    "    {\"name\": \"EcoFashion\", \"materials\": [\"recycled polyester\", \"hemp\"]},\n",
    "    {\"name\": \"GreenLife\", \"materials\": [\"recycled polyester\", \"bamboo\"]}\n",
    "]\n",
    "\n",
    "print(find_trending_materials(brands))\n",
    "print(find_trending_materials(brands_2))\n",
    "print(find_trending_materials(brands_3))\n",
    "\n",
    "# ['organic cotton', 'recycled polyester', 'bamboo']\n",
    "# ['hemp', 'linen']\n",
    "# ['recycled polyester']\n"
   ]
  },
  {
   "cell_type": "markdown",
   "id": "88b4ec20",
   "metadata": {},
   "source": [
    "Problem 4: Fabric Pairing\n",
    "You want to find pairs of fabrics that, when combined, maximize eco-friendliness while staying within a budget. Each fabric has a cost associated with it, and your goal is to identify the pair of fabrics whose combined cost is the highest possible without exceeding the budget.\n",
    "\n",
    "Write the find_best_fabric_pair() function, which takes a list of fabrics (each with a name and cost) and a budget. The function should return the names of the two fabrics whose combined cost is the closest to the budget without exceeding it.\n",
    "\n",
    "Evaluate the time and space complexity of your solution. Define your variables and provide a rationale for why you believe your solution has the stated time and space complexity."
   ]
  },
  {
   "cell_type": "code",
   "execution_count": null,
   "id": "fafa9605",
   "metadata": {},
   "outputs": [
    {
     "name": "stdout",
     "output_type": "stream",
     "text": [
      "('Hemp', 'Organic Cotton')\n",
      "('Tencel', 'Recycled Wool')\n",
      "('Bamboo', 'Linen')\n"
     ]
    }
   ],
   "source": [
    "def find_best_fabric_pair(fabrics, budget):\n",
    "    fabrics.sort(key=lambda x: x[1])  # Sort fabrics by cost # Time: O(N*logN)\n",
    "    left = 0\n",
    "    right = len(fabrics) - 1\n",
    "    best_pair = ()\n",
    "    closest_sum = 0\n",
    "\n",
    "    while left < right: # Time: O(N)\n",
    "        cost_sum = fabrics[left][1] + fabrics[right][1]\n",
    "\n",
    "        if cost_sum > closest_sum and cost_sum <= budget:\n",
    "            closest_sum = cost_sum\n",
    "            best_pair = (fabrics[left][0], fabrics[right][0])\n",
    "\n",
    "        if cost_sum > budget:\n",
    "            right -= 1\n",
    "        else:\n",
    "            left += 1\n",
    "\n",
    "    return best_pair\n",
    "\n",
    "# Time: O(N*logN)\n",
    "# Space: O(1)\n",
    "\n",
    "fabrics = [(\"Organic Cotton\", 30), (\"Recycled Polyester\", 20), (\"Bamboo\", 25), (\"Hemp\", 15)]\n",
    "fabrics_2 = [(\"Linen\", 50), (\"Recycled Wool\", 40), (\"Tencel\", 30), (\"Organic Cotton\", 60)]\n",
    "fabrics_3 = [(\"Linen\", 40), (\"Hemp\", 35), (\"Recycled Polyester\", 25), (\"Bamboo\", 20)]\n",
    "\n",
    "print(find_best_fabric_pair(fabrics, 45))\n",
    "print(find_best_fabric_pair(fabrics_2, 70))\n",
    "print(find_best_fabric_pair(fabrics_3, 60))\n",
    "\n",
    "# ('Hemp', 'Organic Cotton')\n",
    "# ('Tencel', 'Recycled Wool')\n",
    "# ('Bamboo', 'Linen')\n"
   ]
  },
  {
   "cell_type": "markdown",
   "id": "76d6e9b0",
   "metadata": {},
   "source": [
    "Problem 5: Fabric Stacks\n",
    "You need to organize rolls of fabric in such a way that you can efficiently retrieve them based on their eco-friendliness rating. Fabrics are stacked one on top of the other, and you can only retrieve the top fabric in the stack.\n",
    "\n",
    "Write the organize_fabrics() function, which takes a list of fabrics (each with a name and an eco-friendliness rating) and returns a list of fabric names in the order they would be retrieved from the stack, starting with the least eco-friendly fabric.\n",
    "\n",
    "Evaluate the time and space complexity of your solution. Define your variables and provide a rationale for why you believe your solution has the stated time and space complexity."
   ]
  },
  {
   "cell_type": "code",
   "execution_count": null,
   "id": "e1a04ecc",
   "metadata": {},
   "outputs": [
    {
     "name": "stdout",
     "output_type": "stream",
     "text": [
      "['Hemp', 'Organic Cotton', 'Bamboo', 'Recycled Polyester']\n",
      "['Recycled Wool', 'Tencel', 'Organic Cotton', 'Linen']\n",
      "['Hemp', 'Bamboo', 'Recycled Polyester', 'Linen']\n"
     ]
    }
   ],
   "source": [
    "def organize_fabrics(fabrics):\n",
    "    fabrics.sort(key=lambda x: x[1]) # Time: O(NlogN)\n",
    "\n",
    "    res = [] # Space: O(N)\n",
    "    while fabrics: # Time O(N)\n",
    "        res.append(fabrics.pop()[0])\n",
    "    \n",
    "    return res\n",
    "\n",
    "# Time: O(NlogN)\n",
    "# Space: O(N)\n",
    "\n",
    "fabrics = [(\"Organic Cotton\", 8), (\"Recycled Polyester\", 6), (\"Bamboo\", 7), (\"Hemp\", 9)]\n",
    "fabrics_2 = [(\"Linen\", 5), (\"Recycled Wool\", 9), (\"Tencel\", 7), (\"Organic Cotton\", 6)]\n",
    "fabrics_3 = [(\"Linen\", 4), (\"Hemp\", 8), (\"Recycled Polyester\", 5), (\"Bamboo\", 7)]\n",
    "\n",
    "print(organize_fabrics(fabrics))\n",
    "print(organize_fabrics(fabrics_2))\n",
    "print(organize_fabrics(fabrics_3))\n",
    "\n",
    "# ['Hemp', 'Organic Cotton', 'Bamboo', 'Recycled Polyester']\n",
    "# ['Recycled Wool', 'Tencel', 'Organic Cotton', 'Linen']\n",
    "# ['Hemp', 'Bamboo', 'Recycled Polyester', 'Linen']\n"
   ]
  },
  {
   "cell_type": "markdown",
   "id": "68726a12",
   "metadata": {},
   "source": [
    "Problem 6: Supply Chain\n",
    "In the sustainable fashion industry, managing the supply chain efficiently is crucial. Supplies arrive in a sequence, and you need to process them in the order they arrive. However, some supplies may be of higher priority due to their eco-friendliness or scarcity.\n",
    "\n",
    "Write the process_supplies() function, which takes a list of supplies (each with a name and a priority level) and returns a list of supply names in the order they would be processed, with higher priority supplies processed first.\n",
    "\n",
    "Evaluate the time and space complexity of your solution. Define your variables and provide a rationale for why you believe your solution has the stated time and space complexity."
   ]
  },
  {
   "cell_type": "code",
   "execution_count": 16,
   "id": "3d080690",
   "metadata": {},
   "outputs": [
    {
     "name": "stdout",
     "output_type": "stream",
     "text": [
      "['Bamboo', 'Organic Cotton', 'Recycled Polyester', 'Hemp']\n",
      "['Recycled Wool', 'Organic Cotton', 'Tencel', 'Linen']\n",
      "['Recycled Polyester', 'Linen', 'Hemp', 'Bamboo']\n"
     ]
    }
   ],
   "source": [
    "def process_supplies(supplies):\n",
    "    supplies.sort(key = lambda x : x[1]) # Time O(NlogN)\n",
    "    res = [] # Space: O(N)\n",
    "    while supplies: # Time: O(N)\n",
    "        res.append(supplies.pop()[0])\n",
    "\n",
    "    return res\n",
    "\n",
    "# Time: O(NlogN)\n",
    "# Space: O(N)\n",
    "\n",
    "supplies = [(\"Organic Cotton\", 3), (\"Recycled Polyester\", 2), (\"Bamboo\", 4), (\"Hemp\", 1)]\n",
    "supplies_2 = [(\"Linen\", 2), (\"Recycled Wool\", 5), (\"Tencel\", 3), (\"Organic Cotton\", 4)]\n",
    "supplies_3 = [(\"Linen\", 3), (\"Hemp\", 2), (\"Recycled Polyester\", 5), (\"Bamboo\", 1)]\n",
    "\n",
    "print(process_supplies(supplies))\n",
    "print(process_supplies(supplies_2))\n",
    "print(process_supplies(supplies_3))\n",
    "\n",
    "# ['Bamboo', 'Organic Cotton', 'Recycled Polyester', 'Hemp']\n",
    "# ['Recycled Wool', 'Organic Cotton', 'Tencel', 'Linen']\n",
    "# ['Recycled Polyester', 'Linen', 'Hemp', 'Bamboo']"
   ]
  },
  {
   "cell_type": "markdown",
   "id": "7f2c0e3d",
   "metadata": {},
   "source": [
    "Problem 7: Calculate Fabric Waste\n",
    "In the sustainable fashion industry, minimizing waste is crucial. After cutting out patterns for clothing items, there are often leftover pieces of fabric that cannot be used. Your task is to calculate the total amount of fabric waste generated after producing a collection of clothing items. Each clothing item requires a certain amount of fabric, and the available fabric rolls come in fixed lengths.\n",
    "\n",
    "Write the calculate_fabric_waste() function, which takes a list of clothing items (each with a required fabric length) and a list of fabric rolls (each with a specific length). The function should return the total fabric waste after producing all the items.\n",
    "\n",
    "Evaluate the time and space complexity of your solution. Define your variables and provide a rationale for why you believe your solution has the stated time and space complexity."
   ]
  },
  {
   "cell_type": "code",
   "execution_count": null,
   "id": "743c3ac0",
   "metadata": {},
   "outputs": [],
   "source": [
    "def calculate_fabric_waste(items, fabric_rolls):\n",
    "    fabric_rolls.sort(reverse=True) # Time O(NlogN)\n",
    "    total_waste = 0\n",
    "\n",
    "    for item, required_length in items: # Time; O(N)\n",
    "        for i in range(len(fabric_rolls)): # Time: O(N)\n",
    "            if fabric_rolls[i] >= required_length:\n",
    "                total_waste += fabric_rolls[i] - required_length\n",
    "                fabric_rolls[i] = 0  # Use up the roll\n",
    "                break\n",
    "\n",
    "    return total_waste\n",
    "\n",
    "# Time: O(N^2)\n",
    "# Space: O(1)\n",
    "items = [(\"T-Shirt\", 2), (\"Pants\", 3), (\"Jacket\", 5)]\n",
    "fabric_rolls = [5, 5, 5]\n",
    "\n",
    "items_2 = [(\"Dress\", 4), (\"Skirt\", 3), (\"Blouse\", 2)]\n",
    "fabric_rolls = [4, 4, 4]\n",
    "\n",
    "items_3 = [(\"Jacket\", 6), (\"Shirt\", 2), (\"Shorts\", 3)]\n",
    "fabric_rolls = [7, 5, 5]\n",
    "\n",
    "print(calculate_fabric_waste(items, fabric_rolls))\n",
    "print(calculate_fabric_waste(items_2, fabric_rolls))\n",
    "print(calculate_fabric_waste(items_3, fabric_rolls))\n",
    "\n",
    "# 5\n",
    "# 3\n",
    "# 6\n"
   ]
  },
  {
   "cell_type": "markdown",
   "id": "ae616ce5",
   "metadata": {},
   "source": [
    "Problem 8: Fabric Roll Organizer\n",
    "You need to organize fabric rolls for optimal usage. Each fabric roll has a specific length, and you want to group them into pairs so that the difference between the lengths of the rolls in each pair is minimized. If there's an odd number of rolls, one roll will be left out.\n",
    "\n",
    "Write the organize_fabric_rolls() function, which takes a list of fabric roll lengths and returns a pair of fabric roll lengths, where the difference in lengths between the rolls is minimized. If there's an odd number of rolls, the last roll should be returned separately.\n",
    "\n",
    "Evaluate the time and space complexity of your solution. Define your variables and provide a rationale for why you believe your solution has the stated time and space complexity."
   ]
  },
  {
   "cell_type": "code",
   "execution_count": null,
   "id": "8693d0a9",
   "metadata": {},
   "outputs": [
    {
     "name": "stdout",
     "output_type": "stream",
     "text": [
      "[(10, 15), (22, 25), 30]\n",
      "[(5, 7), (8, 10), (12, 14)]\n",
      "[(10, 15), (25, 30), 40]\n"
     ]
    }
   ],
   "source": [
    "def organize_fabric_rolls(fabric_rolls):\n",
    "    fabric_rolls.sort() # Time: O(NlogN)\n",
    "    pairs = [] # Space: O(N)\n",
    "\n",
    "    while len(fabric_rolls) > 1: # Time: O(N)\n",
    "        smallest = fabric_rolls.pop(0)\n",
    "        closest = fabric_rolls.pop(0)\n",
    "        pairs.append((smallest, closest))\n",
    "\n",
    "    if fabric_rolls:\n",
    "        return pairs + [fabric_rolls[0]]\n",
    "    else:\n",
    "        return pairs\n",
    "\n",
    "# Time: O(NlogN)\n",
    "# Space: O(N)\n",
    "fabric_rolls = [15, 10, 25, 30, 22]\n",
    "fabric_rolls_2 = [5, 8, 10, 7, 12, 14]\n",
    "fabric_rolls_3 = [40, 10, 25, 15, 30]\n",
    "\n",
    "print(organize_fabric_rolls(fabric_rolls))\n",
    "print(organize_fabric_rolls(fabric_rolls_2))\n",
    "print(organize_fabric_rolls(fabric_rolls_3))\n",
    "\n",
    "# [(10, 15), (22, 25), 30]\n",
    "# [(5, 7), (8, 10), (12, 14)]\n",
    "# [(10, 15), (25, 30), 40]"
   ]
  },
  {
   "cell_type": "code",
   "execution_count": null,
   "id": "d790a404",
   "metadata": {},
   "outputs": [],
   "source": []
  }
 ],
 "metadata": {
  "kernelspec": {
   "display_name": "base",
   "language": "python",
   "name": "python3"
  },
  "language_info": {
   "codemirror_mode": {
    "name": "ipython",
    "version": 3
   },
   "file_extension": ".py",
   "mimetype": "text/x-python",
   "name": "python",
   "nbconvert_exporter": "python",
   "pygments_lexer": "ipython3",
   "version": "3.11.3"
  }
 },
 "nbformat": 4,
 "nbformat_minor": 5
}
