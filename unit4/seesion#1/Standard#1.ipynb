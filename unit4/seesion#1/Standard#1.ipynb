{
 "cells": [
  {
   "cell_type": "markdown",
   "id": "be9f5ec1",
   "metadata": {},
   "source": [
    "Problem 1: NFT Name Extractor\n",
    "You're curating a large collection of NFTs for a digital art gallery, and your first task is to extract the names of these NFTs from a given list of dictionaries. Each dictionary in the list represents an NFT, and contains information such as the name, creator, and current value.\n",
    "\n",
    "Write the extract_nft_names() function, which takes in this list and returns a list of all NFT names.\n",
    "\n",
    "Evaluate the time and space complexity of your solution. Define your variables and provide a rationale for why you believe your solution has the stated time and space complexity."
   ]
  },
  {
   "cell_type": "code",
   "execution_count": 1,
   "id": "4ed2ec2b",
   "metadata": {},
   "outputs": [
    {
     "name": "stdout",
     "output_type": "stream",
     "text": [
      "['Abstract Horizon', 'Pixel Dreams', 'Future City']\n",
      "['Crypto Kitty', 'Galactic Voyage']\n",
      "['Golden Hour']\n"
     ]
    }
   ],
   "source": [
    "def extract_nft_names(nft_collection):\n",
    "    nft_names = []\n",
    "    for nft in nft_collection:\n",
    "        nft_names.append(nft[\"name\"])\n",
    "    return nft_names\n",
    "\n",
    "# Time O(N)\n",
    "# Space O(N)\n",
    "\n",
    "# Example usage:\n",
    "nft_collection = [\n",
    "    {\"name\": \"Abstract Horizon\", \"creator\": \"ArtByAlex\", \"value\": 5.4},\n",
    "    {\"name\": \"Pixel Dreams\", \"creator\": \"DreamyPixel\", \"value\": 7.2},\n",
    "    {\"name\": \"Future City\", \"creator\": \"UrbanArt\", \"value\": 3.8}\n",
    "]\n",
    "\n",
    "nft_collection_2 = [\n",
    "    {\"name\": \"Crypto Kitty\", \"creator\": \"CryptoPets\", \"value\": 10.5},\n",
    "    {\"name\": \"Galactic Voyage\", \"creator\": \"SpaceArt\", \"value\": 6.7}\n",
    "]\n",
    "\n",
    "nft_collection_3 = [\n",
    "    {\"name\": \"Golden Hour\", \"creator\": \"SunsetArtist\", \"value\": 8.9}\n",
    "]\n",
    "\n",
    "print(extract_nft_names(nft_collection))\n",
    "print(extract_nft_names(nft_collection_2))\n",
    "print(extract_nft_names(nft_collection_3))\n",
    "\n",
    "# ['Abstract Horizon', 'Pixel Dreams', 'Future City']\n",
    "# ['Crypto Kitty', 'Galactic Voyage']\n",
    "# ['Golden Hour']"
   ]
  },
  {
   "cell_type": "markdown",
   "id": "120c31cb",
   "metadata": {},
   "source": [
    "Problem 3: Identify Popular Creators\n",
    "You have been tasked with identifying the most popular NFT creators in your collection. A creator is considered \"popular\" if they have created more than one NFT in the collection.\n",
    "\n",
    "Write the identify_popular_creators() function, which takes a list of NFTs and returns a list of the names of popular creators.\n",
    "\n",
    "Evaluate the time and space complexity of your solution. Define your variables and provide a rationale for why you believe your solution has the stated time and space complexity."
   ]
  },
  {
   "cell_type": "code",
   "execution_count": 3,
   "id": "a99a0701",
   "metadata": {},
   "outputs": [
    {
     "name": "stdout",
     "output_type": "stream",
     "text": [
      "['ArtByAlex']\n",
      "['SpaceArt']\n",
      "[]\n"
     ]
    }
   ],
   "source": [
    "def identify_popular_creators(nft_collection):\n",
    "    # create a map to store freq of creator \n",
    "    seen = {}\n",
    "    for nft in nft_collection:\n",
    "        if nft[\"creator\"] not in seen:\n",
    "            seen[nft[\"creator\"]] = 1\n",
    "        else:\n",
    "            seen[nft[\"creator\"]] += 1\n",
    "    \n",
    "    res = []\n",
    "    for creator in seen:\n",
    "        if seen[creator] > 1:\n",
    "            res.append(creator)\n",
    "    \n",
    "    return res\n",
    "\n",
    "nft_collection = [\n",
    "    {\"name\": \"Abstract Horizon\", \"creator\": \"ArtByAlex\", \"value\": 5.4},\n",
    "    {\"name\": \"Pixel Dreams\", \"creator\": \"DreamyPixel\", \"value\": 7.2},\n",
    "    {\"name\": \"Urban Jungle\", \"creator\": \"ArtByAlex\", \"value\": 4.5}\n",
    "]\n",
    "\n",
    "nft_collection_2 = [\n",
    "    {\"name\": \"Crypto Kitty\", \"creator\": \"CryptoPets\", \"value\": 10.5},\n",
    "    {\"name\": \"Galactic Voyage\", \"creator\": \"SpaceArt\", \"value\": 6.7},\n",
    "    {\"name\": \"Future Galaxy\", \"creator\": \"SpaceArt\", \"value\": 8.3}\n",
    "]\n",
    "\n",
    "nft_collection_3 = [\n",
    "    {\"name\": \"Golden Hour\", \"creator\": \"SunsetArtist\", \"value\": 8.9}\n",
    "]\n",
    "\n",
    "print(identify_popular_creators(nft_collection))\n",
    "print(identify_popular_creators(nft_collection_2))\n",
    "print(identify_popular_creators(nft_collection_3))\n",
    "\n",
    "# ['ArtByAlex']\n",
    "# ['SpaceArt']\n",
    "# []"
   ]
  },
  {
   "cell_type": "markdown",
   "id": "ec151360",
   "metadata": {},
   "source": [
    "Problem 4: NFT Collection Statistics\n",
    "You want to provide an overview of the NFT collection to potential buyers. One key statistic is the average value of the NFTs in the collection. However, if the collection is empty, the average value should be reported as 0.\n",
    "\n",
    "Write the average_nft_value function, which calculates and returns the average value of the NFTs in the collection.\n",
    "\n",
    "Evaluate the time and space complexity of your solution. Define your variables and provide a rationale for why you believe your solution has the stated time and space complexity."
   ]
  },
  {
   "cell_type": "code",
   "execution_count": null,
   "id": "b13f3633",
   "metadata": {},
   "outputs": [
    {
     "name": "stdout",
     "output_type": "stream",
     "text": [
      "5.7\n",
      "9.15\n",
      "0\n"
     ]
    }
   ],
   "source": [
    "def average_nft_value(nft_collection):\n",
    "    # return zero if collection is empty\n",
    "    if not nft_collection:\n",
    "        return 0 \n",
    "    \n",
    "    total = 0 \n",
    "    count = 0\n",
    "    # iterate through collections and add value and nft num\n",
    "    for nft in nft_collection:\n",
    "        count += 1\n",
    "        total += nft[\"value\"]\n",
    "        \n",
    "    # get avg and return \n",
    "    avg = total / count \n",
    "\n",
    "    return avg\n",
    "\n",
    "# Time: O(N)\n",
    "# Space: O(1)\n",
    "nft_collection = [\n",
    "    {\"name\": \"Abstract Horizon\", \"creator\": \"ArtByAlex\", \"value\": 5.4},\n",
    "    {\"name\": \"Pixel Dreams\", \"creator\": \"DreamyPixel\", \"value\": 7.2},\n",
    "    {\"name\": \"Urban Jungle\", \"creator\": \"ArtByAlex\", \"value\": 4.5}\n",
    "]\n",
    "print(average_nft_value(nft_collection))\n",
    "\n",
    "nft_collection_2 = [\n",
    "    {\"name\": \"Golden Hour\", \"creator\": \"SunsetArtist\", \"value\": 8.9},\n",
    "    {\"name\": \"Sunset Serenade\", \"creator\": \"SunsetArtist\", \"value\": 9.4}\n",
    "]\n",
    "print(average_nft_value(nft_collection_2))\n",
    "\n",
    "nft_collection_3 = []\n",
    "print(average_nft_value(nft_collection_3))\n",
    "\n",
    "# 5.7\n",
    "# 9.15\n",
    "# 0"
   ]
  },
  {
   "cell_type": "markdown",
   "id": "83a70166",
   "metadata": {},
   "source": [
    "Problem 5: NFT Tag Search\n",
    "Some NFTs are grouped into collections, and each collection might contain multiple NFTs. Additionally, each NFT can have a list of tags describing its style or theme (e.g., \"abstract\", \"landscape\", \"modern\"). You need to search through these nested collections to find all NFTs that contain a specific tag.\n",
    "\n",
    "Write the search_nft_by_tag() function, which takes in a nested list of NFT collections and a tag to search for. The function should return a list of NFT names that have the specified tag.\n",
    "\n",
    "Evaluate the time and space complexity of your solution. Define your variables and provide a rationale for why you believe your solution has the stated time and space complexity."
   ]
  },
  {
   "cell_type": "code",
   "execution_count": null,
   "id": "950a6b85",
   "metadata": {},
   "outputs": [
    {
     "name": "stdout",
     "output_type": "stream",
     "text": [
      "['Urban Jungle', 'City Lights']\n",
      "['Golden Hour', 'Sunset Serenade']\n",
      "[]\n"
     ]
    }
   ],
   "source": [
    "def search_nft_by_tag(nft_collections, tag):\n",
    "    res = [] # Space: O(N)\n",
    "    # iterate through collections \n",
    "    for nft_list in nft_collections: # Time: O(N)\n",
    "        # for each nft check if target tag is in its tags \n",
    "        for nft in nft_list: # Time: O(N)\n",
    "            if tag in nft[\"tags\"]:\n",
    "            # if yes add the nft to result list \n",
    "                res.append(nft[\"name\"])\n",
    "\n",
    "    # return result list \n",
    "    return res\n",
    "# Time: O(N)\n",
    "# Space: O(N)\n",
    "\n",
    "nft_collections = [\n",
    "    [\n",
    "        {\"name\": \"Abstract Horizon\", \"tags\": [\"abstract\", \"modern\"]},\n",
    "        {\"name\": \"Pixel Dreams\", \"tags\": [\"pixel\", \"retro\"]}\n",
    "    ],\n",
    "    [\n",
    "        {\"name\": \"Urban Jungle\", \"tags\": [\"urban\", \"landscape\"]},\n",
    "        {\"name\": \"City Lights\", \"tags\": [\"modern\", \"landscape\"]}\n",
    "    ]\n",
    "]\n",
    "\n",
    "nft_collections_2 = [\n",
    "    [\n",
    "        {\"name\": \"Golden Hour\", \"tags\": [\"sunset\", \"landscape\"]},\n",
    "        {\"name\": \"Sunset Serenade\", \"tags\": [\"sunset\", \"serene\"]}\n",
    "    ],\n",
    "    [\n",
    "        {\"name\": \"Pixel Odyssey\", \"tags\": [\"pixel\", \"adventure\"]}\n",
    "    ]\n",
    "]\n",
    "\n",
    "nft_collections_3 = [\n",
    "    [\n",
    "        {\"name\": \"The Last Piece\", \"tags\": [\"finale\", \"abstract\"]}\n",
    "    ],\n",
    "    [\n",
    "        {\"name\": \"Ocean Waves\", \"tags\": [\"seascape\", \"calm\"]},\n",
    "        {\"name\": \"Mountain Peak\", \"tags\": [\"landscape\", \"adventure\"]}\n",
    "    ]\n",
    "]\n",
    "\n",
    "print(search_nft_by_tag(nft_collections, \"landscape\"))\n",
    "print(search_nft_by_tag(nft_collections_2, \"sunset\"))\n",
    "print(search_nft_by_tag(nft_collections_3, \"modern\"))\n",
    "\n",
    "# ['Urban Jungle', 'City Lights']\n",
    "# ['Golden Hour', 'Sunset Serenade']\n",
    "# []"
   ]
  },
  {
   "cell_type": "markdown",
   "id": "7896ff85",
   "metadata": {},
   "source": [
    "Problem 6: NFT Queue Processing\n",
    "NFTs are added to a processing queue before they are displayed. The queue processes NFTs in a First-In, First-Out (FIFO) manner. Each NFT has a processing time, and you need to determine the order in which NFTs should be processed based on their initial position in the queue.\n",
    "\n",
    "Write the process_nft_queue() function, which takes a list of NFTs. The function should return a list of NFT names in the order they were processed.\n",
    "\n",
    "Evaluate the time and space complexity of your solution. Define your variables and provide a rationale for why you believe your solution has the stated time and space complexity."
   ]
  },
  {
   "cell_type": "code",
   "execution_count": null,
   "id": "40f70ece",
   "metadata": {},
   "outputs": [
    {
     "name": "stdout",
     "output_type": "stream",
     "text": [
      "['Abstract Horizon', 'Pixel Dreams', 'Urban Jungle']\n",
      "['Golden Hour', 'Sunset Serenade', 'Ocean Waves']\n",
      "['Crypto Kitty', 'Galactic Voyage']\n"
     ]
    }
   ],
   "source": [
    "from collections import deque\n",
    "def process_nft_queue(nft_queue):\n",
    "    processing_order = [] # Space: O(N)\n",
    "    queue = deque(nft_queue)  # Initialize the queue; Time O(N)\n",
    "\n",
    "    while queue: # Time: O(N)\n",
    "        nft = queue.popleft()  # Dequeue the first NFT\n",
    "        processing_order.append(nft[\"name\"]) # Space: O(N)\n",
    "\n",
    "    return processing_order\n",
    "\n",
    "# Time: O(2N)\n",
    "# Space: O(2N)\n",
    "\n",
    "nft_queue = [\n",
    "    {\"name\": \"Abstract Horizon\", \"processing_time\": 2},\n",
    "    {\"name\": \"Pixel Dreams\", \"processing_time\": 3},\n",
    "    {\"name\": \"Urban Jungle\", \"processing_time\": 1}\n",
    "]\n",
    "print(process_nft_queue(nft_queue))\n",
    "\n",
    "nft_queue_2 = [\n",
    "    {\"name\": \"Golden Hour\", \"processing_time\": 4},\n",
    "    {\"name\": \"Sunset Serenade\", \"processing_time\": 2},\n",
    "    {\"name\": \"Ocean Waves\", \"processing_time\": 3}\n",
    "]\n",
    "print(process_nft_queue(nft_queue_2))\n",
    "\n",
    "nft_queue_3 = [\n",
    "    {\"name\": \"Crypto Kitty\", \"processing_time\": 5},\n",
    "    {\"name\": \"Galactic Voyage\", \"processing_time\": 6}\n",
    "]\n",
    "print(process_nft_queue(nft_queue_3))\n",
    "\n",
    "# ['Abstract Horizon', 'Pixel Dreams', 'Urban Jungle']\n",
    "# ['Golden Hour', 'Sunset Serenade', 'Ocean Waves']\n",
    "# ['Crypto Kitty', 'Galactic Voyage']"
   ]
  },
  {
   "cell_type": "markdown",
   "id": "d138f23c",
   "metadata": {},
   "source": [
    "Problem 7: Validate NFT Addition\n",
    "You want to ensure that NFTs are added in a balanced way. For example, every \"add\" action must be properly closed by a corresponding \"remove\" action.\n",
    "\n",
    "Write the validate_nft_actions() function, which takes a list of actions (either \"add\" or \"remove\") and returns True if the actions are balanced, and False otherwise.\n",
    "\n",
    "A sequence of actions is considered balanced if every \"add\" has a corresponding \"remove\" and no \"remove\" occurs before an \"add\".\n",
    "\n",
    "Evaluate the time and space complexity of your solution. Define your variables and provide a rationale for why you believe your solution has the stated time and space complexity."
   ]
  },
  {
   "cell_type": "code",
   "execution_count": null,
   "id": "8123801f",
   "metadata": {},
   "outputs": [
    {
     "name": "stdout",
     "output_type": "stream",
     "text": [
      "True\n",
      "True\n",
      "False\n"
     ]
    }
   ],
   "source": [
    "def validate_nft_actions(actions):\n",
    "    # use stack to keep track of actions \n",
    "    stack = []\n",
    "    # for each action in array \n",
    "    for action in actions:\n",
    "        # if there is nothing in stack  \n",
    "        if not stack:\n",
    "            # if action is \"add\", append to stack \n",
    "            if action == \"add\":\n",
    "                stack.append(action)\n",
    "            # else return False\n",
    "            else:\n",
    "                return False\n",
    "        # elif there is something in stack\n",
    "        else:\n",
    "            # if action is \"add\", append to stack \n",
    "            if action == \"add\":\n",
    "                stack.append(action)\n",
    "            # else meaning action is \"remove\", pop from stack    \n",
    "            else:\n",
    "                stack.pop()\n",
    "\n",
    "    # return True if empty stack else False\n",
    "    return not stack\n",
    "\n",
    "# Time: O(N)\n",
    "# Space: O(N)\n",
    "\n",
    "actions = [\"add\", \"add\", \"remove\", \"remove\"]\n",
    "actions_2 = [\"add\", \"remove\", \"add\", \"remove\"]\n",
    "actions_3 = [\"add\", \"remove\", \"remove\", \"add\"]\n",
    "\n",
    "print(validate_nft_actions(actions))\n",
    "print(validate_nft_actions(actions_2))\n",
    "print(validate_nft_actions(actions_3))\n",
    "\n",
    "# True\n",
    "# True\n",
    "# False"
   ]
  },
  {
   "cell_type": "markdown",
   "id": "68a08d6f",
   "metadata": {},
   "source": [
    "Problem 8: Find Closest NFT Values\n",
    "Buyers often look for NFTs that are closest in value to their budget. Given a sorted list of NFT values and a budget, you need to find the two NFT values that are closest to the given budget: one that is just below or equal to the budget and one that is just above or equal to the budget. If an exact match exists, it should be included as one of the values.\n",
    "\n",
    "Write the find_closest_nft_values() function, which takes a sorted list of NFT values and a budget, and returns the pair of the two closest NFT values.\n",
    "\n",
    "Evaluate the time and space complexity of your solution. Define your variables and provide a rationale for why you believe your solution has the stated time and space complexity."
   ]
  },
  {
   "cell_type": "code",
   "execution_count": null,
   "id": "ecaad829",
   "metadata": {},
   "outputs": [
    {
     "name": "stdout",
     "output_type": "stream",
     "text": [
      "(7.2, 9.0)\n",
      "(6.3, 7.8)\n",
      "(2.5, 4.0)\n"
     ]
    }
   ],
   "source": [
    "def find_closest_nft_values(nft_values, budget):\n",
    "    # use left and right pointers to iterate through array\n",
    "    left, right = 0, 1\n",
    "    # while right pointer is smaller than len(array)\n",
    "    while right < len(nft_values):\n",
    "        # if left pointer value is smaller and right pointer value is bigger than budget\n",
    "        if nft_values[left] <= budget <= nft_values[right]:\n",
    "            # return a tuple of these two values \n",
    "            return (nft_values[left], nft_values[right])\n",
    "        # else move both pointers to the right by 1\n",
    "        else:\n",
    "            left += 1\n",
    "            right += 1\n",
    "    # return empty tuple after while loop\n",
    "    return  ()\n",
    "\n",
    "# Time: O(N)\n",
    "# Space: O(1)\n",
    "\n",
    "def find_closest_nft_values(nft_values, budget):\n",
    "    left = 0\n",
    "    right = len(nft_values) - 1\n",
    "    closest_below = None\n",
    "    closest_above = None\n",
    "\n",
    "    while left <= right:\n",
    "        mid = (left + right) // 2\n",
    "        if nft_values[mid] == budget:\n",
    "            return (nft_values[mid], nft_values[mid])\n",
    "        elif nft_values[mid] < budget:\n",
    "            closest_below = nft_values[mid]\n",
    "            left = mid + 1\n",
    "        else:\n",
    "            closest_above = nft_values[mid]\n",
    "            right = mid - 1\n",
    "\n",
    "    return (closest_below, closest_above)\n",
    "\n",
    "# Time: O(N)\n",
    "# Space: O(1)\n",
    "\n",
    "nft_values = [3.5, 5.4, 7.2, 9.0, 10.5]\n",
    "nft_values_2 = [2.0, 4.5, 6.3, 7.8, 12.1]\n",
    "nft_values_3 = [1.0, 2.5, 4.0, 6.0, 9.0]\n",
    "\n",
    "print(find_closest_nft_values(nft_values, 8.0))\n",
    "print(find_closest_nft_values(nft_values_2, 6.5))\n",
    "print(find_closest_nft_values(nft_values_3, 3.0))\n",
    "\n",
    "# (7.2, 9.0)\n",
    "# (6.3, 7.8)\n",
    "# (2.5, 4.0)"
   ]
  },
  {
   "cell_type": "code",
   "execution_count": null,
   "id": "e7c841cb",
   "metadata": {},
   "outputs": [],
   "source": []
  }
 ],
 "metadata": {
  "kernelspec": {
   "display_name": "base",
   "language": "python",
   "name": "python3"
  },
  "language_info": {
   "codemirror_mode": {
    "name": "ipython",
    "version": 3
   },
   "file_extension": ".py",
   "mimetype": "text/x-python",
   "name": "python",
   "nbconvert_exporter": "python",
   "pygments_lexer": "ipython3",
   "version": "3.11.3"
  }
 },
 "nbformat": 4,
 "nbformat_minor": 5
}
