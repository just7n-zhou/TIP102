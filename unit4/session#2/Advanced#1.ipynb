{
 "cells": [
  {
   "cell_type": "markdown",
   "id": "3950d51c",
   "metadata": {},
   "source": [
    "Problem 1: Count Unique Characters in a Script\n",
    "Given a dictionary where the keys are character names and the values are lists of their dialogue lines, count the number of unique characters in the script.\n",
    "\n",
    "Evaluate the time and space complexity of your solution. Define your variables and provide a rationale for why you believe your solution has the stated time and space complexity."
   ]
  },
  {
   "cell_type": "code",
   "execution_count": null,
   "id": "fcc3a303",
   "metadata": {},
   "outputs": [
    {
     "name": "stdout",
     "output_type": "stream",
     "text": [
      "3\n",
      "2\n"
     ]
    }
   ],
   "source": [
    "def count_unique_characters(script):\n",
    "    return len(set(script.keys()))\n",
    "\n",
    "script = {\n",
    "    \"Alice\": [\"Hello there!\", \"How are you?\"],\n",
    "    \"Bob\": [\"Hi Alice!\", \"I'm good, thanks!\"],\n",
    "    \"Charlie\": [\"What's up?\"]\n",
    "}\n",
    "print(count_unique_characters(script)) \n",
    "\n",
    "script_with_redundant_keys = {\n",
    "    \"Alice\": [\"Hello there!\"],\n",
    "    \"Alice\": [\"How are you?\"],\n",
    "    \"Bob\": [\"Hi Alice!\"]\n",
    "}\n",
    "print(count_unique_characters(script_with_redundant_keys)) \n",
    "\n",
    "# 3\n",
    "# 2"
   ]
  },
  {
   "cell_type": "markdown",
   "id": "238d2f60",
   "metadata": {},
   "source": [
    "Problem 2: Find Most Frequent Keywords\n",
    "Identify the most frequently used keywords from a dictionary where the keys are scene names and the values are lists of keywords used in each scene. Return the keyword that appears the most frequently across all scenes. If there is a tie, return all the keywords with the highest frequency.\n",
    "\n",
    "Evaluate the time and space complexity of your solution. Define your variables and provide a rationale for why you believe your solution has the stated time and space complexity."
   ]
  },
  {
   "cell_type": "code",
   "execution_count": null,
   "id": "7262bbcd",
   "metadata": {},
   "outputs": [
    {
     "name": "stdout",
     "output_type": "stream",
     "text": [
      "['action', 'hero']\n",
      "['love', 'drama']\n"
     ]
    }
   ],
   "source": [
    "def find_most_frequent_keywords(scenes):\n",
    "    # iterate through scenes dict values \n",
    "    # use freq map to keep track of word and freq\n",
    "    freq_map = {} # space: O(K) K = number of unique keywords \n",
    "    for keywords_list in scenes.values(): # Time: O(N)\n",
    "        # iterate through keywords list and map to freq map\n",
    "        for keyword in keywords_list: # Time: O(M) M = len of list inside the scenes\n",
    "            freq_map[keyword] = freq_map.get(keyword, 0) + 1\n",
    "    \n",
    "    high_freq = 0 \n",
    "    most_freq_words = [] \n",
    "\n",
    "    for keyword in freq_map.keys(): # Time: O(K)\n",
    "        if freq_map[keyword] > high_freq:\n",
    "            if most_freq_words:\n",
    "                most_freq_words.clear()\n",
    "            else:\n",
    "                most_freq_words.append(keyword)\n",
    "            high_freq = freq_map[keyword]\n",
    "\n",
    "        elif freq_map[keyword] == high_freq:\n",
    "            most_freq_words.append(keyword)\n",
    "    \n",
    "    return most_freq_words\n",
    "\n",
    "    # Time: O(N*M)\n",
    "    # Space: O(K) K = number of unique words inside the list \n",
    "\n",
    "scenes = {\n",
    "    \"Scene 1\": [\"action\", \"hero\", \"battle\"],\n",
    "    \"Scene 2\": [\"hero\", \"action\", \"quest\"],\n",
    "    \"Scene 3\": [\"battle\", \"strategy\", \"hero\"],\n",
    "    \"Scene 4\": [\"action\", \"strategy\"]\n",
    "}\n",
    "print(find_most_frequent_keywords(scenes))\n",
    "\n",
    "scenes = {\n",
    "    \"Scene A\": [\"love\", \"drama\"],\n",
    "    \"Scene B\": [\"drama\", \"love\"],\n",
    "    \"Scene C\": [\"comedy\", \"love\"],\n",
    "    \"Scene D\": [\"comedy\", \"drama\"]\n",
    "}\n",
    "print(find_most_frequent_keywords(scenes)) \n",
    "# \n",
    "# ['action', 'hero']\n",
    "# ['love', 'drama']\n",
    "# "
   ]
  },
  {
   "cell_type": "markdown",
   "id": "2ff55cf4",
   "metadata": {},
   "source": [
    "Problem 3: Track Scene Transitions\n",
    "Given a list of scenes in a story, use a queue to keep track of the transitions from one scene to the next. You need to simulate the transitions by processing each scene in the order they appear and print out each transition from the current scene to the next.\n",
    "\n",
    "Evaluate the time and space complexity of your solution. Define your variables and provide a rationale for why you believe your solution has the stated time and space complexity."
   ]
  },
  {
   "cell_type": "code",
   "execution_count": 5,
   "id": "67627b7d",
   "metadata": {},
   "outputs": [
    {
     "name": "stdout",
     "output_type": "stream",
     "text": [
      "Transition from Opening to Rising Action\n",
      "Transition from Rising Action to Climax\n",
      "Transition from Climax to Falling Action\n",
      "Transition from Falling Action to Resolution\n",
      "Transition from Introduction to Conflict\n",
      "Transition from Conflict to Climax\n",
      "Transition from Climax to Denouement\n"
     ]
    }
   ],
   "source": [
    "from collections import deque\n",
    "def track_scene_transitions(scenes):\n",
    "  # use deque to store scenes \n",
    "  queue = deque(scenes)\n",
    "  # pop the left side of the deck and print using the popped element and remaining first element \n",
    "  # Process the scenes to track transitions\n",
    "  while len(queue) > 1:\n",
    "      current_scene = queue.popleft()\n",
    "      next_scene = queue[0]\n",
    "      print(f\"Transition from {current_scene} to {next_scene}\")\n",
    "    \n",
    "  \n",
    "\n",
    "scenes = [\"Opening\", \"Rising Action\", \"Climax\", \"Falling Action\", \"Resolution\"]\n",
    "track_scene_transitions(scenes)\n",
    "\n",
    "scenes = [\"Introduction\", \"Conflict\", \"Climax\", \"Denouement\"]\n",
    "track_scene_transitions(scenes)\n",
    "\n",
    "# Transition from Opening to Rising Action\n",
    "# Transition from Rising Action to Climax\n",
    "# Transition from Climax to Falling Action\n",
    "# Transition from Falling Action to Resolution\n",
    "# \n",
    "# Transition from Introduction to Conflict\n",
    "# Transition from Conflict to Climax\n",
    "# Transition from Climax to Denouement\n",
    "# "
   ]
  },
  {
   "cell_type": "code",
   "execution_count": null,
   "id": "4df31100",
   "metadata": {},
   "outputs": [],
   "source": []
  }
 ],
 "metadata": {
  "kernelspec": {
   "display_name": "base",
   "language": "python",
   "name": "python3"
  },
  "language_info": {
   "codemirror_mode": {
    "name": "ipython",
    "version": 3
   },
   "file_extension": ".py",
   "mimetype": "text/x-python",
   "name": "python",
   "nbconvert_exporter": "python",
   "pygments_lexer": "ipython3",
   "version": "3.11.3"
  }
 },
 "nbformat": 4,
 "nbformat_minor": 5
}
