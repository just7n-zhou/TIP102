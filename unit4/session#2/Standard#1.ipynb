{
 "cells": [
  {
   "cell_type": "markdown",
   "id": "af3cf2b8",
   "metadata": {},
   "source": [
    "Problem 1: Planning Your Daily Work Schedule\n",
    "Your day consists of various tasks, each requiring a certain amount of time. To optimize your workday, you want to find a pair of tasks that fits exactly into a specific time slot you have available. You need to identify if there is a pair of tasks whose combined time matches the available slot.\n",
    "\n",
    "Given a list of integers representing the time required for each task and an integer representing the available time slot, write a function that returns True if there exists a pair of tasks that exactly matches the available time slot, and False otherwise.\n",
    "\n",
    "Evaluate the time and space complexity of your solution. Define your variables and provide a rationale for why you believe your solution has the stated time and space complexity."
   ]
  },
  {
   "cell_type": "code",
   "execution_count": null,
   "id": "ec7a4973",
   "metadata": {},
   "outputs": [
    {
     "name": "stdout",
     "output_type": "stream",
     "text": [
      "True\n",
      "True\n",
      "False\n"
     ]
    }
   ],
   "source": [
    "def find_task_pair(task_times, available_time):\n",
    "    seen = set() # Space: O(N)\n",
    "    for time in task_times: # Time: O(N)\n",
    "        compliment = available_time - time\n",
    "        if compliment in seen: # Loop up time: O(1)\n",
    "            return True \n",
    "        else:\n",
    "            seen.append(time)\n",
    "    \n",
    "    return False\n",
    "\n",
    "# Time: O(N)\n",
    "# Space: O(N)\n",
    "\n",
    "task_times = [30, 45, 60, 90, 120]\n",
    "available_time = 105\n",
    "print(find_task_pair(task_times, available_time))\n",
    "\n",
    "task_times_2 = [15, 25, 35, 45, 55]\n",
    "available_time = 100\n",
    "print(find_task_pair(task_times_2, available_time))\n",
    "\n",
    "task_times_3 = [20, 30, 50, 70]\n",
    "available_time = 60\n",
    "print(find_task_pair(task_times_3, available_time))\n",
    "\n",
    "# True\n",
    "# True\n",
    "# False"
   ]
  },
  {
   "cell_type": "markdown",
   "id": "153c6708",
   "metadata": {},
   "source": [
    "Problem 2: Minimizing Workload Gaps\n",
    "You work with clients across different time zones and often have gaps between your work sessions. You want to minimize these gaps to make your workday more efficient. You have a list of work sessions, each with a start time and an end time. Your task is to find the smallest gap between any two consecutive work sessions.\n",
    "\n",
    "Given a list of tuples where each tuple represents a work session with a start and end time (both in 24-hour format as integers, e.g., 1300 for 1:00 PM), write a function to find the smallest gap between any two consecutive work sessions. The gap is measured in minutes.\n",
    "\n",
    "Evaluate the time and space complexity of your solution. Define your variables and provide a rationale for why you believe your solution has the stated time and space complexity."
   ]
  },
  {
   "cell_type": "code",
   "execution_count": 2,
   "id": "87ddbbaf",
   "metadata": {},
   "outputs": [
    {
     "name": "stdout",
     "output_type": "stream",
     "text": [
      "60\n",
      "30\n",
      "15\n"
     ]
    }
   ],
   "source": [
    "def convert_to_minutes(time):\n",
    "    hours = time // 100\n",
    "    minutes = time % 100\n",
    "    return hours * 60 + minutes\n",
    "\n",
    "def find_smallest_gap(work_sessions):\n",
    "    # Sort the work sessions based on start times\n",
    "    work_sessions.sort()\n",
    "\n",
    "    smallest_gap = float('inf')\n",
    "\n",
    "    for i in range(1, len(work_sessions)):\n",
    "        # Calculate the end time of the previous session and the start time of the current session\n",
    "        end_time_prev = convert_to_minutes(work_sessions[i-1][1])\n",
    "        start_time_curr = convert_to_minutes(work_sessions[i][0])\n",
    "\n",
    "        # Calculate the gap between the end of the previous session and the start of the current session\n",
    "        gap = start_time_curr - end_time_prev\n",
    "\n",
    "        # Update the smallest gap found\n",
    "        if gap < smallest_gap:\n",
    "            smallest_gap = gap\n",
    "\n",
    "    return smallest_gap\n",
    "\n",
    "work_sessions = [(900, 1100), (1300, 1500), (1600, 1800)]\n",
    "print(find_smallest_gap(work_sessions))\n",
    "\n",
    "work_sessions_2 = [(1000, 1130), (1200, 1300), (1400, 1500)]\n",
    "print(find_smallest_gap(work_sessions_2))\n",
    "\n",
    "work_sessions_3 = [(900, 1100), (1115, 1300), (1315, 1500)]\n",
    "print(find_smallest_gap(work_sessions_3))\n",
    "\n",
    "# 60\n",
    "# 30\n",
    "# 15"
   ]
  },
  {
   "cell_type": "markdown",
   "id": "0b5c12c4",
   "metadata": {},
   "source": [
    "Problem 3: Expense Tacking and Categorization\n",
    "You travel frequently and need to keep track of your expenses. You categorize your expenses into different categories such as \"Food,\" \"Transport,\" \"Accommodation,\" etc. At the end of each month, you want to calculate the total expenses for each category to better understand where your money is going.\n",
    "\n",
    "Given a list of tuples where each tuple contains an expense category (string) and an expense amount (float), write a function that returns the expense categories and the total expenses for each category. Additionally, the function should return the category with the highest total expense.\n",
    "\n",
    "Evaluate the time and space complexity of your solution. Define your variables and provide a rationale for why you believe your solution has the stated time and space complexity."
   ]
  },
  {
   "cell_type": "code",
   "execution_count": null,
   "id": "56b443ca",
   "metadata": {},
   "outputs": [
    {
     "name": "stdout",
     "output_type": "stream",
     "text": [
      "({'Food': 30.0, 'Transport': 25.0, 'Accommodation': 50.0}, 'Accommodation')\n",
      "({'Entertainment': 25.0, 'Food': 40.0, 'Transport': 10.0, 'Accommodation': 40.0}, 'Food')\n",
      "({'Utilities': 150.0, 'Food': 75.0, 'Transport': 75.0}, 'Utilities')\n"
     ]
    }
   ],
   "source": [
    "def calculate_expenses(expenses):\n",
    "    # use hash table to store category and expense\n",
    "    expense_map = {} # Space: O(N)\n",
    "    # set max_expense to 0 \n",
    "    max_expense = 0 \n",
    "    most_category = \"\"\n",
    "    # iterate through the array \n",
    "    for expense in expenses: # Time: O(N)\n",
    "        # map each category \n",
    "        category, amount = expense \n",
    "        expense_map[category] = expense_map.get(category, 0) + amount\n",
    "        # check and update max expense category\n",
    "        if expense_map[category] > max_expense:\n",
    "            max_expense = expense_map[category]\n",
    "            most_category = category\n",
    "    # after loop store hash table and max expense category in tuple \n",
    "    return (expense_map, most_category)\n",
    "\n",
    "    # Time: O(M)\n",
    "    # Space: O(N)\n",
    "\n",
    "expenses = [(\"Food\", 12.5), (\"Transport\", 15.0), (\"Accommodation\", 50.0),\n",
    "            (\"Food\", 7.5), (\"Transport\", 10.0), (\"Food\", 10.0)]\n",
    "print(calculate_expenses(expenses))\n",
    "\n",
    "expenses_2 = [(\"Entertainment\", 20.0), (\"Food\", 15.0), (\"Transport\", 10.0),\n",
    "              (\"Entertainment\", 5.0), (\"Food\", 25.0), (\"Accommodation\", 40.0)]\n",
    "print(calculate_expenses(expenses_2))\n",
    "\n",
    "expenses_3 = [(\"Utilities\", 100.0), (\"Food\", 50.0), (\"Transport\", 75.0),\n",
    "              (\"Utilities\", 50.0), (\"Food\", 25.0)]\n",
    "print(calculate_expenses(expenses_3))\n",
    "\n",
    "# ({'Food': 30.0, 'Transport': 25.0, 'Accommodation': 50.0}, 'Accommodation')\n",
    "# ({'Entertainment': 25.0, 'Food': 40.0, 'Transport': 10.0, 'Accommodation': 40.0}, 'Food')\n",
    "# ({'Utilities': 150.0, 'Food': 75.0, 'Transport': 75.0}, 'Utilities')"
   ]
  },
  {
   "cell_type": "markdown",
   "id": "da81c2e5",
   "metadata": {},
   "source": [
    "Problem 4: Analyzing Word Frequency\n",
    "As a digital nomad who writes blogs, articles, and reports regularly, it's important to analyze the text you produce to ensure clarity and avoid overusing certain words. You want to create a tool that analyzes the frequency of each word in a given text and identifies the most frequent word(s).\n",
    "\n",
    "Given a string of text, write a function that returns the unique words and the number of times each word appears in the text. Additionally, return a list of the word(s) that appear most frequently.\n",
    "\n",
    "Assumptions:\n",
    "\n",
    "The text is case-insensitive, so \"Word\" and \"word\" should be treated as the same word.\n",
    "\n",
    "Punctuation should be ignored.\n",
    "\n",
    "In case of a tie, return all words that have the highest frequency.\n",
    "\n",
    "Evaluate the time and space complexity of your solution. Define your variables and provide a rationale for why you believe your solution has the stated time and space complexity."
   ]
  },
  {
   "cell_type": "code",
   "execution_count": 9,
   "id": "8243c8e5",
   "metadata": {},
   "outputs": [
    {
     "name": "stdout",
     "output_type": "stream",
     "text": [
      "({'the': 3, 'quick': 1, 'brown': 1, 'fox': 1, 'jumps': 1, 'over': 1, 'lazy': 1, 'dog': 2, 'was': 1, 'not': 1, 'amused': 1}, ['the'])\n",
      "({'digital': 1, 'nomads': 1, 'love': 1, 'to': 1, 'travel': 2, 'is': 1, 'their': 1, 'passion': 1}, ['travel'])\n",
      "({'stay': 3, 'connected': 1, 'productive': 1, 'happy': 1}, ['stay'])\n"
     ]
    }
   ],
   "source": [
    "def word_frequency_analysis(text):\n",
    "    # Convert the text to lowercase and remove punctuation manually\n",
    "    text = text.lower()\n",
    "    clean_text = ''\n",
    "    for char in text:\n",
    "        if char.isalnum() or char.isspace():\n",
    "            clean_text += char\n",
    "\n",
    "    # Split the text into words\n",
    "    words = clean_text.split()\n",
    "\n",
    "    # Dictionary to store word frequencies\n",
    "    frequency_dict = {}\n",
    "\n",
    "    for word in words:\n",
    "        if word in frequency_dict:\n",
    "            frequency_dict[word] += 1\n",
    "        else:\n",
    "            frequency_dict[word] = 1\n",
    "\n",
    "    # Find the maximum frequency without using max\n",
    "    max_frequency = -1\n",
    "    most_frequent_words = []\n",
    "\n",
    "    for word, freq in frequency_dict.items():\n",
    "        if freq > max_frequency:\n",
    "            max_frequency = freq\n",
    "            most_frequent_words = [word]\n",
    "        elif freq == max_frequency:\n",
    "            most_frequent_words.append(word)\n",
    "\n",
    "    return frequency_dict, most_frequent_words\n",
    "            \n",
    "text = \"The quick brown fox jumps over the lazy dog. The dog was not amused.\"\n",
    "print(word_frequency_analysis(text))\n",
    "\n",
    "text_2 = \"Digital nomads love to travel. Travel is their passion.\"\n",
    "print(word_frequency_analysis(text_2))\n",
    "\n",
    "text_3 = \"Stay connected. Stay productive. Stay happy.\"\n",
    "print(word_frequency_analysis(text_3))\n",
    "\n",
    "# ({'the': 3, 'quick': 1, 'brown': 1, 'fox': 1, 'jumps': 1, 'over': 1, 'lazy': 1, 'dog': 2, 'was': 1, 'not': 1, 'amused': 1}, ['the'])\n",
    "# ({'digital': 1, 'nomads': 1, 'love': 1, 'to': 1, 'travel': 2, 'is': 1, 'their': 1, 'passion': 1}, ['travel'])\n",
    "# ({'stay': 3, 'connected': 1, 'productive': 1, 'happy': 1}, ['stay'])\n"
   ]
  },
  {
   "cell_type": "markdown",
   "id": "6aefcf6e",
   "metadata": {},
   "source": [
    "Problem 5: Validating HTML Tags\n",
    "As a digital nomad who frequently writes and edits HTML for your blog, you want to ensure that your HTML code is properly structured. One important aspect of HTML structure is ensuring that all opening tags have corresponding closing tags and that they are properly nested.\n",
    "\n",
    "Given a string of HTML-like tags (simplified for this problem), write a function to determine if the tags are properly nested and closed. The tags will be in the form of <tag> for opening tags and </tag> for closing tags.\n",
    "\n",
    "The function should return True if the tags are properly nested and closed, and False otherwise.\n",
    "\n",
    "Assumptions:\n",
    "\n",
    "You can assume that tags are well-formed (e.g., <div>, </div>, <a>, </a>, etc.).\n",
    "\n",
    "Tags can be nested but cannot overlap improperly (e.g., <div><p></div></p> is invalid).\n",
    "\n",
    "Evaluate the time and space complexity of your solution. Define your variables and provide a rationale for why you believe your solution has the stated time and space complexity."
   ]
  },
  {
   "cell_type": "code",
   "execution_count": null,
   "id": "220b2367",
   "metadata": {},
   "outputs": [
    {
     "name": "stdout",
     "output_type": "stream",
     "text": [
      "True\n",
      "False\n",
      "True\n",
      "False\n"
     ]
    }
   ],
   "source": [
    "def validate_html_tags(html):\n",
    "    stack = [] # Space: O(N)\n",
    "    i = 0\n",
    "\n",
    "    while i < len(html): # Time: O(N)\n",
    "        if html[i] == '<':\n",
    "            j = i + 1\n",
    "            while j < len(html) and html[j] != '>': # Time: O(M), M = len of each tag, significantly smaller than N\n",
    "                j += 1\n",
    "            tag = html[i+1:j]\n",
    "            if not tag.startswith('/'):\n",
    "                # It's an opening tag, push onto stack\n",
    "                stack.append(tag)\n",
    "            else:\n",
    "                # It's a closing tag, pop from stack and check\n",
    "                if not stack or stack[-1] != tag[1:]:\n",
    "                    return False\n",
    "                stack.pop()\n",
    "            i = j\n",
    "        i += 1\n",
    "\n",
    "    # If stack is empty, all tags were properly closed\n",
    "    return len(stack) == 0    \n",
    "\n",
    "    # Time: O(N)\n",
    "    # Space: O(N)\n",
    "html = \"<div><p></p></div>\"\n",
    "print(validate_html_tags(html))\n",
    "\n",
    "html_2 = \"<div><p></div></p>\"\n",
    "print(validate_html_tags(html_2))\n",
    "\n",
    "html_3 = \"<div><p><a></a></p></div>\"\n",
    "print(validate_html_tags(html_3))\n",
    "\n",
    "html_4 = \"<div><p></a></p></div>\"\n",
    "print(validate_html_tags(html_4))\n",
    "\n",
    "# True\n",
    "# False\n",
    "# True\n",
    "# False"
   ]
  },
  {
   "cell_type": "markdown",
   "id": "6e9897a2",
   "metadata": {},
   "source": [
    "Problem 6: Task Prioritization with Limited Time\n",
    "You often have a long list of tasks to complete, but limited time to do so. Each task has a specific duration, and you only have a certain amount of time available in your schedule. You need to prioritize and complete as many tasks as possible within the given time limit.\n",
    "\n",
    "Given a list of task durations and a time limit, determine the maximum number of tasks you can complete within that time.\n",
    "\n",
    "Evaluate the time and space complexity of your solution. Define your variables and provide a rationale for why you believe your solution has the stated time and space complexity."
   ]
  },
  {
   "cell_type": "code",
   "execution_count": 13,
   "id": "ce4a2df7",
   "metadata": {},
   "outputs": [
    {
     "name": "stdout",
     "output_type": "stream",
     "text": [
      "3\n",
      "4\n",
      "3\n"
     ]
    }
   ],
   "source": [
    "def max_tasks_within_time(tasks, time_limit):\n",
    "    # sort the tasks \n",
    "    tasks.sort() # Tim: O(NlogN)\n",
    "    # iterate through tasks and add to total time\n",
    "    total = 0\n",
    "    count = 0\n",
    "    for task in tasks: # Time: O(N)\n",
    "        total += task \n",
    "        # when total time is greater than time limit \n",
    "        # return number of tasks iterated\n",
    "        if total > time_limit:\n",
    "            return count \n",
    "        else:\n",
    "            count +=1\n",
    "    \n",
    "    # Time: O(NlogN)\n",
    "    # Space: O(1)\n",
    "\n",
    "tasks = [5, 10, 7, 8]\n",
    "time_limit = 20\n",
    "print(max_tasks_within_time(tasks, time_limit))\n",
    "\n",
    "tasks_2 = [2, 4, 6, 3, 1]\n",
    "time_limit = 10\n",
    "print(max_tasks_within_time(tasks_2, time_limit))\n",
    "\n",
    "tasks_3 = [8, 5, 3, 2, 7]\n",
    "time_limit = 15\n",
    "print(max_tasks_within_time(tasks_3, time_limit))\n",
    "\n",
    "# 3\n",
    "# 4\n",
    "# 3"
   ]
  },
  {
   "cell_type": "markdown",
   "id": "89b5eb73",
   "metadata": {},
   "source": [
    "Problem 7: Frequent Co-working Spaces\n",
    "You often work from various co-working spaces. You want to analyze your usage patterns to identify which co-working spaces you visit the most frequently. Given a list of co-working spaces you visited over the past month, write a function to determine which co-working space(s) you visited most frequently. If there is a tie, return all of the most visited spaces.\n",
    "\n",
    "Evaluate the time and space complexity of your solution. Define your variables and provide a rationale for why you believe your solution has the stated time and space complexity.\n"
   ]
  },
  {
   "cell_type": "code",
   "execution_count": null,
   "id": "6f9819c1",
   "metadata": {},
   "outputs": [
    {
     "name": "stdout",
     "output_type": "stream",
     "text": [
      "['WeWork']\n",
      "['IndieDesk']\n",
      "['Hub', 'Regus']\n"
     ]
    }
   ],
   "source": [
    "def most_frequent_spaces(visits):\n",
    "    frequency_map = {} # Space: O(N)\n",
    "\n",
    "    for space in visits: # Time: O(N)\n",
    "        if space in frequency_map: # Time: O(1)\n",
    "            frequency_map[space] += 1\n",
    "        else:\n",
    "            frequency_map[space] = 1\n",
    "\n",
    "    max_visits = 0\n",
    "    most_frequent = [] # Space: O(M)\n",
    "\n",
    "    for space, count in frequency_map.items(): # Time: O(k), K = unique spaces\n",
    "        if count > max_visits:\n",
    "            max_visits = count\n",
    "            most_frequent = [space]\n",
    "        elif count == max_visits:\n",
    "            most_frequent.append(space)\n",
    "\n",
    "    return most_frequent\n",
    "\n",
    "    # Time: O(N + K)\n",
    "    # Space: O(N)\n",
    "visits = [\"WeWork\", \"Regus\", \"Spaces\", \"WeWork\", \"Regus\", \"WeWork\"]\n",
    "print(most_frequent_spaces(visits))\n",
    "\n",
    "visits_2 = [\"IndieDesk\", \"Spaces\", \"IndieDesk\", \"WeWork\", \"Spaces\", \"IndieDesk\", \"WeWork\"]\n",
    "print(most_frequent_spaces(visits_2))\n",
    "\n",
    "visits_3 = [\"Hub\", \"Regus\", \"WeWork\", \"Hub\", \"WeWork\", \"Regus\", \"Hub\", \"Regus\"]\n",
    "print(most_frequent_spaces(visits_3))\n",
    "\n",
    "# ['WeWork']\n",
    "# ['IndieDesk']\n",
    "# ['Hub', 'Regus']"
   ]
  },
  {
   "cell_type": "markdown",
   "id": "81995320",
   "metadata": {},
   "source": [
    "Problem 8: Track Popular Destinations\n",
    "You want to track the most popular destinations you visited based on the number of times you have visited them. Given a list of visited destinations with timestamps, your goal is to determine the destination that has been visited the most and the total number of times it was visited. If there is a tie, return the one with the latest visit.\n",
    "\n",
    "Evaluate the time and space complexity of your solution. Define your variables and provide a rationale for why you believe your solution has the stated time and space complexity."
   ]
  },
  {
   "cell_type": "code",
   "execution_count": 21,
   "id": "5447cdbe",
   "metadata": {},
   "outputs": [
    {
     "name": "stdout",
     "output_type": "stream",
     "text": [
      "('Paris', 3)\n",
      "('London', 3)\n",
      "('Dubai', 3)\n"
     ]
    }
   ],
   "source": [
    "def most_popular_destination(visits):\n",
    "    # Dictionary to store visit counts and latest visit date for each destination\n",
    "    destination_info = {}\n",
    "\n",
    "    for destination, date in visits:\n",
    "        if destination not in destination_info:\n",
    "            destination_info[destination] = {\"count\": 0, \"latest_date\": \"\"}\n",
    "\n",
    "        destination_info[destination][\"count\"] += 1\n",
    "        if date > destination_info[destination][\"latest_date\"]:\n",
    "            destination_info[destination][\"latest_date\"] = date\n",
    "\n",
    "    # Finding the most popular destination with the latest visit date in case of a tie\n",
    "    max_count = 0\n",
    "    popular_destination = None\n",
    "    latest_date = \"\"\n",
    "\n",
    "    for destination, info in destination_info.items():\n",
    "        if (info[\"count\"] > max_count or\n",
    "            (info[\"count\"] == max_count and info[\"latest_date\"] > latest_date)):\n",
    "            max_count = info[\"count\"]\n",
    "            popular_destination = destination\n",
    "            latest_date = info[\"latest_date\"]\n",
    "\n",
    "    return (popular_destination, max_count)\n",
    "\n",
    "visits = [(\"Paris\", \"2024-07-15\"), (\"Tokyo\", \"2024-08-01\"), (\"Paris\", \"2024-08-05\"), (\"New York\", \"2024-08-10\"), (\"Tokyo\", \"2024-08-15\"), (\"Paris\", \"2024-08-20\")]\n",
    "print(most_popular_destination(visits))\n",
    "\n",
    "visits_2 = [(\"London\", \"2024-06-01\"), (\"Berlin\", \"2024-06-15\"), (\"London\", \"2024-07-01\"), (\"Berlin\", \"2024-07-10\"), (\"London\", \"2024-07-15\")]\n",
    "print(most_popular_destination(visits_2))\n",
    "\n",
    "visits_3 = [(\"Sydney\", \"2024-05-01\"), (\"Dubai\", \"2024-05-15\"), (\"Sydney\", \"2024-05-20\"), (\"Dubai\", \"2024-06-01\"), (\"Dubai\", \"2024-06-15\")]\n",
    "print(most_popular_destination(visits_3))\n",
    "\n",
    "# ('Paris', 3)\n",
    "# ('London', 3)\n",
    "# ('Dubai', 3)"
   ]
  },
  {
   "cell_type": "code",
   "execution_count": null,
   "id": "7c717dc2",
   "metadata": {},
   "outputs": [],
   "source": []
  }
 ],
 "metadata": {
  "kernelspec": {
   "display_name": "base",
   "language": "python",
   "name": "python3"
  },
  "language_info": {
   "codemirror_mode": {
    "name": "ipython",
    "version": 3
   },
   "file_extension": ".py",
   "mimetype": "text/x-python",
   "name": "python",
   "nbconvert_exporter": "python",
   "pygments_lexer": "ipython3",
   "version": "3.11.3"
  }
 },
 "nbformat": 4,
 "nbformat_minor": 5
}
