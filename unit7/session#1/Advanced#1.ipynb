{
 "cells": [
  {
   "cell_type": "markdown",
   "id": "1d3b5b50",
   "metadata": {},
   "source": [
    "Problem 1: Counting the Layers of a Sandwich\n",
    "You're working at a deli, and need to count the layers of a sandwich to make sure you made the order correctly. Each layer is represented by a nested list. Given a list of lists sandwich where each list [] represents a sandwich layer, write a recursive function count_layers() that returns the total number of sandwich layers.\n",
    "\n",
    "Evaluate the time and space complexity of your solution. Define your variables and provide a rationale for why you believe your solution has the stated time and space complexity.\n"
   ]
  },
  {
   "cell_type": "code",
   "execution_count": 2,
   "id": "4cfc18fb",
   "metadata": {},
   "outputs": [
    {
     "name": "stdout",
     "output_type": "stream",
     "text": [
      "4\n",
      "5\n"
     ]
    }
   ],
   "source": [
    "def count_layers(sandwich):\n",
    "    if len(sandwich) == 1:\n",
    "        return 1\n",
    "    else:\n",
    "        return 1 + count_layers(sandwich[1])\n",
    "\n",
    "sandwich1 = [\"bread\", [\"lettuce\", [\"tomato\", [\"bread\"]]]]\n",
    "sandwich2 = [\"bread\", [\"cheese\", [\"ham\", [\"mustard\", [\"bread\"]]]]]\n",
    "\n",
    "print(count_layers(sandwich1))\n",
    "print(count_layers(sandwich2))\n",
    "\n",
    "# 4\n",
    "# 5\n"
   ]
  },
  {
   "cell_type": "markdown",
   "id": "4b48870c",
   "metadata": {},
   "source": [
    "Problem 2: Reversing Deli Orders\n",
    "The deli counter is busy, and orders have piled up. To serve the last customer first, you need to reverse the order of the deli orders. Given a string orders where each individual order is separated by a single space, write a recursive function reverse_orders() that returns a new string with the orders reversed.\n",
    "\n",
    "Evaluate the time and space complexity of your solution. Define your variables and provide a rationale for why you believe your solution has the stated time and space complexity."
   ]
  },
  {
   "cell_type": "code",
   "execution_count": 3,
   "id": "85229eb7",
   "metadata": {},
   "outputs": [
    {
     "name": "stdout",
     "output_type": "stream",
     "text": [
      "Coffee Sandwich Bagel\n"
     ]
    }
   ],
   "source": [
    "def reverse_orders(orders):\n",
    "    words_list = orders.split()\n",
    "    return reverse_words_list(words_list)\n",
    "\n",
    "# helper function\n",
    "def reverse_words_list(words):\n",
    "    if len(words) == 1:\n",
    "        return words[0]\n",
    "    else:\n",
    "        return reverse_words_list(words[1:]) + \" \" + words[0]\n",
    "\n",
    "print(reverse_orders(\"Bagel Sandwich Coffee\"))\n",
    "\n",
    "# Coffee Sandwich Bagel"
   ]
  },
  {
   "cell_type": "markdown",
   "id": "5cc2f7fe",
   "metadata": {},
   "source": [
    "Problem 3: Sharing the Coffee\n",
    "The deli staff is in desperate need of caffeine to keep them going through their shift and has decided to divide the coffee supply equally among themselves. Each batch of coffee is stored in containers of different sizes. Write a recursive function can_split_coffee() that accepts a list of integers coffee representing the volume of each batch of coffee and returns True if the coffee can be split evenly by volume among n staff and False otherwise.\n",
    "\n",
    "Evaluate the time and space complexity of your solution. Define your variables and provide a rationale for why you believe your solution has the stated time and space complexity."
   ]
  },
  {
   "cell_type": "code",
   "execution_count": 4,
   "id": "9e98c5ed",
   "metadata": {},
   "outputs": [
    {
     "name": "stdout",
     "output_type": "stream",
     "text": [
      "True\n",
      "False\n"
     ]
    }
   ],
   "source": [
    "def can_split_coffee(coffee, n):\n",
    "    total_volume = sum(coffee)\n",
    "    \n",
    "    # If the total volume isn't divisible by n, return False\n",
    "    if total_volume % n != 0:\n",
    "        return False\n",
    "    \n",
    "    target = total_volume // n\n",
    "    return can_divide(coffee, n, target, 0)\n",
    "\n",
    "# helper function\n",
    "def can_divide(coffee, n, target, current_sum):\n",
    "    if n == 0:\n",
    "        return True  # If we've successfully partitioned for all staff\n",
    "    if current_sum == target:  # Current staff member has a full share\n",
    "        return can_divide(coffee, n - 1, target, 0)  # Move to the next staff member\n",
    "    if not coffee:\n",
    "        return False  # No more coffee batches to partition\n",
    "\n",
    "    # Try including the first batch of coffee in the current partition\n",
    "    include = can_divide(coffee[1:], n, target, current_sum + coffee[0])\n",
    "    \n",
    "    # Try excluding the first batch of coffee from the current partition\n",
    "    exclude = can_divide(coffee[1:], n, target, current_sum)\n",
    "    \n",
    "    return include or exclude    \n",
    "\n",
    "print(can_split_coffee([4, 4, 8], 2))\n",
    "print(can_split_coffee([5, 10, 15], 4))\n",
    "\n",
    "# True\n",
    "# False\n"
   ]
  },
  {
   "cell_type": "markdown",
   "id": "072ded25",
   "metadata": {},
   "source": [
    "Problem 4: Super Sandwich\n",
    "A regular at the deli has requested a new order made by merging two different sandwiches on the menu together. Given the heads of two linked lists sandwich_a and sandwich_b where each node in the lists contains a spell segment, write a recursive function merge_orders() that merges the two sandwiches together in the pattern:\n",
    "\n",
    "a1 -> b1 -> a2 -> b2 -> a3 -> b3 -> ...\n",
    "\n",
    "Return the head of the merged sandwich.\n",
    "\n",
    "Evaluate the time and space complexity of your solution. Define your variables and provide a rationale for why you believe your solution has the stated time and space complexity."
   ]
  },
  {
   "cell_type": "code",
   "execution_count": 8,
   "id": "a2b8fac1",
   "metadata": {},
   "outputs": [
    {
     "name": "stdout",
     "output_type": "stream",
     "text": [
      "Bacon -> Turkey -> Lettuce -> Cheese -> Tomato -> Mayo\n",
      "Bacon -> Bread -> Turkey -> Lettuce -> Cheese -> Tomato -> Mayo\n"
     ]
    }
   ],
   "source": [
    "class Node:\n",
    "    def __init__(self, value, next=None):\n",
    "        self.value = value\n",
    "        self.next = next\n",
    "\n",
    "# For testing\n",
    "def print_linked_list(head):\n",
    "    current = head\n",
    "    while current:\n",
    "        print(current.value, end=\" -> \" if current.next else \"\\n\")\n",
    "        current = current.next\n",
    "\n",
    "# Recursive\t O(min(m, n))\tO(min(m, n)) call stack\n",
    "def merge_orders(sandwich_a, sandwich_b):\n",
    "    # if either one linkedlist is empty, return the non-empty list\n",
    "    if not sandwich_a:\n",
    "        return sandwich_b\n",
    "    if not sandwich_b:\n",
    "        return sandwich_a\n",
    "    \n",
    "    # Recursive case: merge first nodes of both lists and recurse\n",
    "    next_a = sandwich_a.next\n",
    "    next_b = sandwich_b.next\n",
    "    \n",
    "    sandwich_a.next = sandwich_b\n",
    "    sandwich_b.next = merge_orders(next_a, next_b)\n",
    "    \n",
    "    return sandwich_a\n",
    "\n",
    "sandwich_a = Node('Bacon', Node('Lettuce', Node('Tomato')))\n",
    "sandwich_b = Node('Turkey', Node('Cheese', Node('Mayo')))\n",
    "sandwich_c = Node('Bread')\n",
    "\n",
    "print_linked_list(merge_orders(sandwich_a, sandwich_b))\n",
    "print_linked_list(merge_orders(sandwich_a, sandwich_c))\n",
    "\n",
    "# Bacon -> Turkey -> Lettuce -> Cheese -> Tomato -> Mayo\n",
    "# Bacon -> Bread -> Lettuce -> Tomato"
   ]
  },
  {
   "cell_type": "markdown",
   "id": "df88cb1a",
   "metadata": {},
   "source": [
    "Problem 5: Super Sandwich II\n",
    "Below is an iterative solution to the merge_orders() function from the previous problem. Compare your recursive solution to the iterative solution below.\n",
    "\n",
    "Discuss with your podmates. Which solution do you prefer? How do they compare on time complexity? Space complexity?"
   ]
  },
  {
   "cell_type": "code",
   "execution_count": null,
   "id": "ad8397fc",
   "metadata": {},
   "outputs": [],
   "source": [
    "class Node:\n",
    "    def __init__(self, value, next=None):\n",
    "        self.value = value\n",
    "        self.next = next\n",
    "\n",
    "# For testing\n",
    "def print_linked_list(head):\n",
    "    current = head # Time O(N), Space: O(1)\n",
    "    while current:\n",
    "        print(current.value, end=\" -> \" if current.next else \"\\n\")\n",
    "        current = current.next\n",
    "\n",
    "# Iterative\tO(min(m, n))\tO(1)\n",
    "def merge_orders(sandwich_a, sandwich_b):\n",
    "    # If either list is empty, return the other\n",
    "    if not sandwich_a:\n",
    "        return sandwich_b\n",
    "    if not sandwich_b:\n",
    "        return sandwich_a\n",
    "\n",
    "    # Start with the first node of sandwich_a\n",
    "    head = sandwich_a\n",
    "    \n",
    "    # Loop through both lists until one is exhausted \n",
    "    while sandwich_a and sandwich_b: # Time: O(N), Space:O(1)\n",
    "        # Store the next pointers\n",
    "        next_a = sandwich_a.next\n",
    "        next_b = sandwich_b.next\n",
    "        \n",
    "        # Merge sandwich_b after sandwich_a\n",
    "        sandwich_a.next = sandwich_b\n",
    "        \n",
    "        # If there's more in sandwich_a, add it after sandwich_b\n",
    "        if sandwich_a:\n",
    "            sandwich_b.next = next_a\n",
    "        \n",
    "        # Move to the next nodes\n",
    "        sandwich_a = next_a\n",
    "        sandwich_b = next_b\n",
    "\n",
    "    # Return the head of the new merged list\n",
    "    return head"
   ]
  },
  {
   "cell_type": "markdown",
   "id": "8b461bb7",
   "metadata": {},
   "source": [
    "Problem 6: Ternary Expression\n",
    "Given a string expression representing arbitrarily nested ternary expressions, evaluate the expression, and return its result as a string.\n",
    "\n",
    "You can always assume that the given expression is valid and only contains digits, '?', ':', 'T', and 'F' where 'T' is True and 'F' is False. All the numbers in the expression are one-digit numbers (i.e., in the range [0, 9]).\n",
    "\n",
    "Ternary expressions use the following syntax:\n",
    "\n",
    "condition ? true_choice : false_choice\n",
    "\n",
    "condition is evaluate first and determines which choice to make.\n",
    "true_choice is taken if condition evaluates to True\n",
    "false_choice is taken if condition evaluates to False\n",
    "The conditional expressions group right-to-left, and the result of the expression will always evaluate to either a digit, 'T' or 'F'.\n",
    "\n",
    "We have provided an iterative solution that uses an explicit stack. Implement a recursive solution evaluate_ternary_expression_recursive()."
   ]
  },
  {
   "cell_type": "code",
   "execution_count": 10,
   "id": "d2c12d49",
   "metadata": {},
   "outputs": [
    {
     "name": "stdout",
     "output_type": "stream",
     "text": [
      "2\n",
      ":\n"
     ]
    },
    {
     "ename": "IndexError",
     "evalue": "string index out of range",
     "output_type": "error",
     "traceback": [
      "\u001b[0;31m---------------------------------------------------------------------------\u001b[0m",
      "\u001b[0;31mIndexError\u001b[0m                                Traceback (most recent call last)",
      "Cell \u001b[0;32mIn[10], line 55\u001b[0m\n\u001b[1;32m     53\u001b[0m \u001b[38;5;28mprint\u001b[39m(evaluate_ternary_expression_recursive(\u001b[38;5;124m\"\u001b[39m\u001b[38;5;124mT?2:3\u001b[39m\u001b[38;5;124m\"\u001b[39m))\n\u001b[1;32m     54\u001b[0m \u001b[38;5;28mprint\u001b[39m(evaluate_ternary_expression_recursive(\u001b[38;5;124m\"\u001b[39m\u001b[38;5;124mF?1:T?4:5\u001b[39m\u001b[38;5;124m\"\u001b[39m))\n\u001b[0;32m---> 55\u001b[0m \u001b[38;5;28mprint\u001b[39m(evaluate_ternary_expression_recursive(\u001b[38;5;124m\"\u001b[39m\u001b[38;5;124mT?T?F:5:3\u001b[39m\u001b[38;5;124m\"\u001b[39m))\n",
      "Cell \u001b[0;32mIn[10], line 49\u001b[0m, in \u001b[0;36mevaluate_ternary_expression_recursive\u001b[0;34m(expression)\u001b[0m\n\u001b[1;32m     46\u001b[0m         \u001b[38;5;28;01mreturn\u001b[39;00m false_result, i\n\u001b[1;32m     48\u001b[0m \u001b[38;5;66;03m# Start the recursive evaluation from the first character\u001b[39;00m\n\u001b[0;32m---> 49\u001b[0m result, _ \u001b[38;5;241m=\u001b[39m helper(\u001b[38;5;241m0\u001b[39m)\n\u001b[1;32m     50\u001b[0m \u001b[38;5;28;01mreturn\u001b[39;00m result\n",
      "Cell \u001b[0;32mIn[10], line 40\u001b[0m, in \u001b[0;36mevaluate_ternary_expression_recursive.<locals>.helper\u001b[0;34m(i)\u001b[0m\n\u001b[1;32m     37\u001b[0m i \u001b[38;5;241m+\u001b[39m\u001b[38;5;241m=\u001b[39m \u001b[38;5;241m1\u001b[39m\n\u001b[1;32m     39\u001b[0m \u001b[38;5;66;03m# Recursively evaluate the false_expression\u001b[39;00m\n\u001b[0;32m---> 40\u001b[0m false_result, i \u001b[38;5;241m=\u001b[39m helper(i)\n\u001b[1;32m     42\u001b[0m \u001b[38;5;66;03m# Return the appropriate result based on the condition\u001b[39;00m\n\u001b[1;32m     43\u001b[0m \u001b[38;5;28;01mif\u001b[39;00m condition \u001b[38;5;241m==\u001b[39m \u001b[38;5;124m'\u001b[39m\u001b[38;5;124mT\u001b[39m\u001b[38;5;124m'\u001b[39m:\n",
      "Cell \u001b[0;32mIn[10], line 27\u001b[0m, in \u001b[0;36mevaluate_ternary_expression_recursive.<locals>.helper\u001b[0;34m(i)\u001b[0m\n\u001b[1;32m     24\u001b[0m \u001b[38;5;28;01mdef\u001b[39;00m \u001b[38;5;21mhelper\u001b[39m(i):\n\u001b[1;32m     25\u001b[0m     \u001b[38;5;66;03m# Base case: return a digit or boolean value if it's just that\u001b[39;00m\n\u001b[1;32m     26\u001b[0m     \u001b[38;5;28;01mif\u001b[39;00m i \u001b[38;5;241m>\u001b[39m\u001b[38;5;241m=\u001b[39m \u001b[38;5;28mlen\u001b[39m(expression) \u001b[38;5;129;01mor\u001b[39;00m expression[i] \u001b[38;5;129;01mnot\u001b[39;00m \u001b[38;5;129;01min\u001b[39;00m \u001b[38;5;124m'\u001b[39m\u001b[38;5;124mTF?\u001b[39m\u001b[38;5;124m'\u001b[39m:\n\u001b[0;32m---> 27\u001b[0m         \u001b[38;5;28;01mreturn\u001b[39;00m expression[i], i\n\u001b[1;32m     29\u001b[0m     \u001b[38;5;66;03m# Current character should be a condition (either 'T' or 'F')\u001b[39;00m\n\u001b[1;32m     30\u001b[0m     condition \u001b[38;5;241m=\u001b[39m expression[i]\n",
      "\u001b[0;31mIndexError\u001b[0m: string index out of range"
     ]
    }
   ],
   "source": [
    "def evaluate_ternary_expression_iterative(expression):\n",
    "    stack = []\n",
    "    \n",
    "    # Traverse the expression from right to left\n",
    "    for i in range(len(expression) - 1, -1, -1):\n",
    "        char = expression[i]\n",
    "        \n",
    "        if stack and stack[-1] == '?':\n",
    "            stack.pop()  # Remove the '?'\n",
    "            true_expr = stack.pop()  # True expression\n",
    "            stack.pop()  # Remove the ':'\n",
    "            false_expr = stack.pop()  # False expression\n",
    "            \n",
    "            if char == 'T':\n",
    "                stack.append(true_expr)\n",
    "            else:\n",
    "                stack.append(false_expr)\n",
    "        else:\n",
    "            stack.append(char)\n",
    "    \n",
    "    return stack[0]\n",
    "\n",
    "def evaluate_ternary_expression_recursive(expression):\n",
    "    def helper(i):\n",
    "        # Base case: return a digit or boolean value if it's just that\n",
    "        if i >= len(expression) or expression[i] not in 'TF?':\n",
    "            return expression[i], i\n",
    "        \n",
    "        # Current character should be a condition (either 'T' or 'F')\n",
    "        condition = expression[i]\n",
    "        i += 2  # Skip over '?' after the condition\n",
    "        \n",
    "        # Recursively evaluate the true_expression\n",
    "        true_result, i = helper(i)\n",
    "        \n",
    "        # Skip over the ':' separating true and false expressions\n",
    "        i += 1\n",
    "        \n",
    "        # Recursively evaluate the false_expression\n",
    "        false_result, i = helper(i)\n",
    "        \n",
    "        # Return the appropriate result based on the condition\n",
    "        if condition == 'T':\n",
    "            return true_result, i\n",
    "        else:\n",
    "            return false_result, i\n",
    "    \n",
    "    # Start the recursive evaluation from the first character\n",
    "    result, _ = helper(0)\n",
    "    return result    \n",
    "\n",
    "\n",
    "print(evaluate_ternary_expression_recursive(\"T?2:3\"))\n",
    "print(evaluate_ternary_expression_recursive(\"F?1:T?4:5\"))\n",
    "print(evaluate_ternary_expression_recursive(\"T?T?F:5:3\"))\n",
    "\n",
    "# 2\n",
    "# Example 1 Explanation: If True, then result is 2; otherwise result is 3.\n",
    "# \n",
    "# 4\n",
    "# Example Explanation: The conditional expressions group right-to-left. Using parentheses, \n",
    "# it is read/evaluated as:\n",
    "# \"(F ? 1 : (T ? 4 : 5))\" --> \"(F ? 1 : 4)\" --> \"4\"\n",
    "# or \"(F ? 1 : (T ? 4 : 5))\" --> \"(T ? 4 : 5)\" --> \"4\"\n",
    "# \n",
    "# F\n",
    "# Explanation: The conditional expressions group right-to-left. Using parentheses, \n",
    "# it is read/evaluated as:\n",
    "# \"(T ? (T ? F : 5) : 3)\" --> \"(T ? F : 3)\" --> \"F\"\n",
    "# \"(T ? (T ? F : 5) : 3)\" --> \"(T ? F : 5)\" --> \"F\"\n",
    "# "
   ]
  },
  {
   "cell_type": "code",
   "execution_count": null,
   "id": "71624ca4",
   "metadata": {},
   "outputs": [],
   "source": []
  }
 ],
 "metadata": {
  "kernelspec": {
   "display_name": "base",
   "language": "python",
   "name": "python3"
  },
  "language_info": {
   "codemirror_mode": {
    "name": "ipython",
    "version": 3
   },
   "file_extension": ".py",
   "mimetype": "text/x-python",
   "name": "python",
   "nbconvert_exporter": "python",
   "pygments_lexer": "ipython3",
   "version": "3.11.3"
  }
 },
 "nbformat": 4,
 "nbformat_minor": 5
}
