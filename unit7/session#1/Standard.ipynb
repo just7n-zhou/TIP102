{
 "cells": [
  {
   "cell_type": "markdown",
   "id": "36eb260e",
   "metadata": {},
   "source": [
    "Problem 1: Counting Iron Man's Suits\n",
    "Tony Stark, aka Iron Man, has designed many different suits over the years. Given a list of strings suits where each string is a suit in Stark's collection, count the total number of suits in the list.\n",
    "\n",
    "Implement the solution iteratively without the use of the len() function.\n",
    "Implement the solution recursively.\n",
    "Discuss: what are the similarities between the two solutions? What are the differences?"
   ]
  },
  {
   "cell_type": "code",
   "execution_count": 1,
   "id": "6c7f6166",
   "metadata": {},
   "outputs": [
    {
     "name": "stdout",
     "output_type": "stream",
     "text": [
      "3\n",
      "4\n"
     ]
    }
   ],
   "source": [
    "def count_suits_iterative(suits):\n",
    "    count = 0\n",
    "    for suit in suits:\n",
    "        count += 1\n",
    "    \n",
    "    return count \n",
    "\n",
    "def count_suits_recursive(suits):\n",
    "    if not suits:\n",
    "        return 0 \n",
    "    \n",
    "    return 1 + count_suits_recursive(suits[1:])\n",
    "\n",
    "print(count_suits_iterative([\"Mark I\", \"Mark II\", \"Mark III\"]))\n",
    "print(count_suits_recursive([\"Mark I\", \"Mark I\", \"Mark III\", \"Mark IV\"]))\n",
    "\n",
    "# 3\n",
    "# 4\n"
   ]
  },
  {
   "cell_type": "markdown",
   "id": "3f73dc8b",
   "metadata": {},
   "source": [
    "Problem 2: Collecting Infinity Stones\n",
    "Thanos is collecting Infinity Stones. Given an array of integers stones representing the power of each stone, return the total power using a recursive approach.\n",
    "\n",
    "Evaluate the time complexity of your solution. Define your variables and provide a rationale for why you believe your solution has the stated time complexity."
   ]
  },
  {
   "cell_type": "code",
   "execution_count": 3,
   "id": "7e5530f1",
   "metadata": {},
   "outputs": [
    {
     "name": "stdout",
     "output_type": "stream",
     "text": [
      "105\n",
      "68\n"
     ]
    }
   ],
   "source": [
    "def sum_stones(stones):\n",
    "    if not stones:\n",
    "        return 0 \n",
    "\n",
    "    return stones[0] + sum_stones(stones[1:])\n",
    "\n",
    "print(sum_stones([5, 10, 15, 20, 25, 30]))\n",
    "print(sum_stones([12, 8, 22, 16, 10]))\n",
    "\n",
    "# 105\n",
    "# 68"
   ]
  },
  {
   "cell_type": "markdown",
   "id": "04644c29",
   "metadata": {},
   "source": [
    "Problem 3: Counting Unique Suits\n",
    "Some of Iron Man's suits are duplicates. Given a list of strings suits where each string is a suit in Stark's collection, count the total number of unique suits in the list.\n",
    "\n",
    "Implement the solution iteratively.\n",
    "Implement the solution recursively.\n",
    "Discuss: what are the similarities between the two solutions? What are the differences?\n",
    "Evaluate the time complexity of each solution. Are they the same? Define your variables and provide a rationale for why you believe your solution has the stated time complexity."
   ]
  },
  {
   "cell_type": "code",
   "execution_count": 5,
   "id": "bf312e33",
   "metadata": {},
   "outputs": [
    {
     "name": "stdout",
     "output_type": "stream",
     "text": [
      "3\n",
      "2\n"
     ]
    }
   ],
   "source": [
    "def count_suits_iterative(suits):\n",
    "    seen = set()\n",
    "    for suit in suits:\n",
    "        seen.add(suit)\n",
    "    \n",
    "    return len(seen)\n",
    "\n",
    "def count_suits_recursive(suits):\n",
    "    if not suits:\n",
    "        return 0\n",
    "    first_suit = suits[0]\n",
    "    remaining_unique = count_suits_recursive(suits[1:])\n",
    "    if first_suit in suits[1:]:\n",
    "        return remaining_unique\n",
    "    else:\n",
    "        return 1 + remaining_unique\n",
    "\n",
    "print(count_suits_iterative([\"Mark I\", \"Mark II\", \"Mark III\"]))\n",
    "print(count_suits_recursive([\"Mark I\", \"Mark I\", \"Mark III\"]))\n",
    "\n",
    "\n",
    "# 3\n",
    "# 2"
   ]
  },
  {
   "cell_type": "markdown",
   "id": "c5adf361",
   "metadata": {},
   "source": [
    "Problem 4: Calculating Groot's Growth\n",
    "Groot grows according to a pattern similar to the Fibonacci sequence. Given n, find the height of Groot after n months using a recursive method.\n",
    "\n",
    "The Fibonacci numbers, commonly denoted F(n) form a sequence, called the Fibonacci sequence, such that each number is the sum of the two preceding ones, starting from 0 and 1. That is,\n",
    "F(0) = 0, F(1) = 1\n",
    "F(n) = F(n - 1) + F(n - 2), for n > 1.\n",
    "Evaluate the time complexity of your solution. Define your variables and provide a rationale for why you believe your solution has the stated time complexity."
   ]
  },
  {
   "cell_type": "code",
   "execution_count": 8,
   "id": "19ce0c06",
   "metadata": {},
   "outputs": [
    {
     "name": "stdout",
     "output_type": "stream",
     "text": [
      "5\n",
      "21\n"
     ]
    }
   ],
   "source": [
    "def fibonacci_growth(n):\n",
    "    if n == 1:\n",
    "        return 1 \n",
    "    elif n == 0:\n",
    "        return 0 \n",
    "    else:\n",
    "        return fibonacci_growth(n - 1) + fibonacci_growth(n - 2)\n",
    "    \n",
    "print(fibonacci_growth(5))\n",
    "print(fibonacci_growth(8))\n",
    "\n",
    "# 5\n",
    "# 21"
   ]
  },
  {
   "cell_type": "markdown",
   "id": "f11157fc",
   "metadata": {},
   "source": [
    "Problem 5: Calculating the Power of the Fantastic Four\n",
    "The superhero team, The Fantastic Four, are training to increase their power levels. Their power level is represented as a power of 4. Write a recursive function that calculates the power of 4 raised to the nth power to determine their training level.\n",
    "\n",
    "Evaluate the time complexity of your solution. Define your variables and provide a rationale for why you believe your solution has the stated time complexity."
   ]
  },
  {
   "cell_type": "code",
   "execution_count": 10,
   "id": "58ab404e",
   "metadata": {},
   "outputs": [
    {
     "name": "stdout",
     "output_type": "stream",
     "text": [
      "16\n",
      "0.0625\n"
     ]
    }
   ],
   "source": [
    "def power_of_four(n):\n",
    "    if n == 0:\n",
    "        return 1 \n",
    "    else:\n",
    "        if n < 0:\n",
    "            return 1 / 4 * (power_of_four(n + 1))\n",
    "        if n > 0:\n",
    "            return 4 * power_of_four(n - 1)\n",
    "    \n",
    "\n",
    "print(power_of_four(2))\n",
    "print(power_of_four(-2))\n",
    "\n",
    "# 16\n",
    "# Example 1 Explanation: 2 to the 4th power (4 * 4) is 16. \n",
    "# 16\n",
    "# Example 2 Explanation: -2 to the 4th power is 1/(4 * 4) is 0.0625.\n"
   ]
  },
  {
   "cell_type": "markdown",
   "id": "b571b9d7",
   "metadata": {},
   "source": [
    "Problem 6: Strongest Avenger\n",
    "The Avengers need to determine who is the strongest. Given a list of their strengths, find the maximum strength using a recursive approach without using the max() function.\n",
    "\n",
    "Evaluate the time complexity of your solution. Define your variables and provide a rationale for why you believe your solution has the stated time complexity."
   ]
  },
  {
   "cell_type": "code",
   "execution_count": 11,
   "id": "030d7a90",
   "metadata": {},
   "outputs": [
    {
     "name": "stdout",
     "output_type": "stream",
     "text": [
      "100\n",
      "90\n"
     ]
    }
   ],
   "source": [
    "def strongest_avenger(strengths):\n",
    "    if len(strengths) == 1:\n",
    "        return strengths[0]\n",
    "    else:\n",
    "        max_of_remaining = strongest_avenger(strengths[1:])\n",
    "        return strengths[0] if strengths[0] > max_of_remaining else max_of_remaining \n",
    "\n",
    "print(strongest_avenger([88, 92, 95, 99, 97, 100, 94]))\n",
    "print(strongest_avenger([50, 75, 85, 60, 90]))\n",
    "\n",
    "# 100\n",
    "# Example 1 Explanation: The maximum strength among the Avengers is 100.\n",
    "# \n",
    "# 90\n",
    "# Example 2 Explanation: The maximum strength among the Avengers is 90."
   ]
  },
  {
   "cell_type": "markdown",
   "id": "7a22590a",
   "metadata": {},
   "source": [
    "Problem 7: Counting Vibranium Deposits\n",
    "In Wakanda, vibranium is the most precious resource, and it is found in several deposits. Each deposit is represented by a character in a string (e.g., \"V\" for vibranium, \"G\" for gold, etc.)\n",
    "\n",
    "Given a string resources, write a recursive function count_deposits() that returns the total number of distinct vibranium deposits in resources.\n",
    "\n",
    "Evaluate the time complexity of your solution. Define your variables and provide a rationale for why you believe your solution has the stated time complexity."
   ]
  },
  {
   "cell_type": "code",
   "execution_count": 12,
   "id": "f10bc3a7",
   "metadata": {},
   "outputs": [
    {
     "name": "stdout",
     "output_type": "stream",
     "text": [
      "5\n",
      "2\n"
     ]
    }
   ],
   "source": [
    "def count_deposits(resources):\n",
    "    if not resources:\n",
    "        return 0 \n",
    "    elif resources[0] == \"V\":\n",
    "        return 1 + count_deposits(resources[1:])\n",
    "    else:\n",
    "        return count_deposits(resources[1:])\n",
    "\n",
    "print(count_deposits(\"VVVVV\"))\n",
    "print(count_deposits(\"VXVYGA\"))\n",
    "\n",
    "# 5\n",
    "# 2\n",
    "# Example 2 Explanation: There are two characters \"V\" in the string \"VXVYGA\", \n",
    "# therefore there are two vibranium deposits in the string.\n"
   ]
  },
  {
   "cell_type": "markdown",
   "id": "a46a62ed",
   "metadata": {},
   "source": [
    "Problem 8: Merging Missions\n",
    "The Avengers are planning multiple missions, and each mission has a priority level represented as a node in a linked list. You are given the heads of two sorted linked lists, mission1 and mission2, where each node represents a mission with its priority level.\n",
    "\n",
    "Implement a recursive function merge_missions() which merges these two mission lists into one sorted list, ensuring that the combined list maintains the correct order of priorities. The merged list should be made by splicing together the nodes from the first two lists.\n",
    "\n",
    "Return the head of the merged mission linked list."
   ]
  },
  {
   "cell_type": "code",
   "execution_count": 14,
   "id": "c1480b22",
   "metadata": {},
   "outputs": [
    {
     "name": "stdout",
     "output_type": "stream",
     "text": [
      "1 -> 1 -> 2 -> 3 -> 4 -> 4\n"
     ]
    }
   ],
   "source": [
    "class Node:\n",
    "  def __init__(self, value, next=None):\n",
    "      self.value = value\n",
    "      self.next = next\n",
    "\n",
    "\n",
    "def merge_missions(mission1, mission2):\n",
    "    if not mission1:\n",
    "        return mission2\n",
    "    if not mission2:\n",
    "        return mission1\n",
    "    \n",
    "    if mission1.value < mission2.value:\n",
    "        mission1.next = merge_missions(mission1.next, mission2)\n",
    "        return mission1\n",
    "    else:\n",
    "        mission2.next = merge_missions(mission1, mission2.next)\n",
    "        return mission2\n",
    "\n",
    "# For testing\n",
    "def print_linked_list(head):\n",
    "    current = head\n",
    "    while current:\n",
    "        print(current.value, end=\" -> \" if current.next else \"\\n\")\n",
    "        current = current.next\n",
    "\n",
    "\n",
    "mission1 = Node(1, Node(2, Node(4)))\n",
    "mission2 = Node(1, Node(3, Node(4)))\n",
    "\n",
    "print_linked_list(merge_missions(mission1, mission2))\n",
    "# 1 -> 1 -> 2 -> 3 -> 4 -> 4\n"
   ]
  },
  {
   "cell_type": "markdown",
   "id": "5230be5d",
   "metadata": {},
   "source": [
    "Problem 9: Merging Missions II\n",
    "Below is an iterative solution to the merge_missions() function from the previous problem. Compare your recursive solution to the iterative solution below.\n",
    "\n",
    "Discuss with your podmates. Which solution do you prefer?"
   ]
  },
  {
   "cell_type": "code",
   "execution_count": 16,
   "id": "90fa060b",
   "metadata": {},
   "outputs": [
    {
     "name": "stdout",
     "output_type": "stream",
     "text": [
      "1 -> 1 -> 2 -> 3 -> 4 -> 4\n"
     ]
    }
   ],
   "source": [
    "class Node:\n",
    "    def __init__(self, value=0, next=None):\n",
    "        self.value = value\n",
    "        self.next = next\n",
    "\n",
    "# For testing\n",
    "def print_linked_list(head):\n",
    "    current = head\n",
    "    while current:\n",
    "        print(current.value, end=\" -> \" if current.next else \"\\n\")\n",
    "        current = current.next\n",
    "\n",
    "def merge_missions_iterative(mission1, mission2):\n",
    "    temp = Node()  # Temporary node to simplify the merging process\n",
    "    tail = temp\n",
    "\n",
    "    while mission1 and mission2:\n",
    "        if mission1.value < mission2.value:\n",
    "            tail.next = mission1\n",
    "            mission1 = mission1.next\n",
    "        else:\n",
    "            tail.next = mission2\n",
    "            mission2 = mission2.next\n",
    "        tail = tail.next\n",
    "\n",
    "    # Attach the remaining nodes, if any\n",
    "    if mission1:\n",
    "        tail.next = mission1\n",
    "    elif mission2:\n",
    "        tail.next = mission2\n",
    "\n",
    "    return temp.next  # Return the head of the merged linked list\n",
    "\n",
    "mission1 = Node(1, Node(2, Node(4)))\n",
    "mission2 = Node(1, Node(3, Node(4)))\n",
    "\n",
    "print_linked_list(merge_missions(mission1, mission2))"
   ]
  },
  {
   "cell_type": "code",
   "execution_count": null,
   "id": "fdbd82e5",
   "metadata": {},
   "outputs": [],
   "source": []
  }
 ],
 "metadata": {
  "kernelspec": {
   "display_name": "base",
   "language": "python",
   "name": "python3"
  },
  "language_info": {
   "codemirror_mode": {
    "name": "ipython",
    "version": 3
   },
   "file_extension": ".py",
   "mimetype": "text/x-python",
   "name": "python",
   "nbconvert_exporter": "python",
   "pygments_lexer": "ipython3",
   "version": "3.11.3"
  }
 },
 "nbformat": 4,
 "nbformat_minor": 5
}
