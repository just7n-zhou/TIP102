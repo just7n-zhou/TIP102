{
 "cells": [
  {
   "cell_type": "markdown",
   "id": "37a0338f",
   "metadata": {},
   "source": [
    "Problem 1: Concert Ticket Search\n",
    "You are helping a friend find a concert ticket they can afford in a sorted list ticket_prices. Return the index of the ticket with a price closest to, but not greater than their budget.\n",
    "\n",
    "Your solution must have O(log n) time complexity."
   ]
  },
  {
   "cell_type": "code",
   "execution_count": 4,
   "id": "80ccc8bf",
   "metadata": {},
   "outputs": [
    {
     "name": "stdout",
     "output_type": "stream",
     "text": [
      "1\n"
     ]
    }
   ],
   "source": [
    "def find_affordable_ticket(prices, budget):\n",
    "    low, high = 0, len(prices) - 1\n",
    "    result = -1\n",
    "    while low < high:\n",
    "        mid = (low + high) // 2\n",
    "        if prices[mid] == budget:\n",
    "            return mid\n",
    "        elif prices[mid] > budget:\n",
    "            high = mid - 1\n",
    "        elif prices[mid] < budget:\n",
    "            result = mid \n",
    "            low = mid + 1\n",
    "    \n",
    "    return result\n",
    "        \n",
    "\n",
    "print(find_affordable_ticket([50, 75, 100, 150], 90))\n",
    "\n",
    "# 1\n",
    "# Explantion: 75 is the closest ticket price less than or equal to 90. \n",
    "# It has index 1. \n"
   ]
  },
  {
   "cell_type": "markdown",
   "id": "e74d2326",
   "metadata": {},
   "source": [
    "Problem 2: Concert Ticket Search II\n",
    "If you solved the above problem iteratively, solve it recursively. If you solved it recursively, solve it iteratively."
   ]
  },
  {
   "cell_type": "code",
   "execution_count": 8,
   "id": "e549ee63",
   "metadata": {},
   "outputs": [
    {
     "name": "stdout",
     "output_type": "stream",
     "text": [
      "2\n"
     ]
    }
   ],
   "source": [
    "def find_affordable_ticket(prices, budget):\n",
    "    def binary_search_recursive(low, high):\n",
    "        # Base case: if low exceeds high, return the current best result\n",
    "        if low > high:\n",
    "            return high  # Return the last valid index where price was <= budget\n",
    "        \n",
    "        mid = (low + high) // 2\n",
    "        \n",
    "        if prices[mid] == budget:\n",
    "            return mid\n",
    "        elif prices[mid] < budget:\n",
    "            # Recursively search the right half\n",
    "            return binary_search_recursive(mid + 1, high)\n",
    "        else:\n",
    "            # Recursively search the left half\n",
    "            return binary_search_recursive(low, mid - 1)\n",
    "    \n",
    "    # Call the helper function with the initial boundaries\n",
    "    result_index = binary_search_recursive(0, len(prices) - 1)\n",
    "    \n",
    "    # Check if the result index is valid (within the bounds) and meets the condition\n",
    "    if result_index >= 0 and prices[result_index] <= budget:\n",
    "        return result_index + 1\n",
    "    else:\n",
    "        return -1  # No valid ticket found\n",
    "\n",
    "print(find_affordable_ticket([50, 75, 100, 150], 90))\n",
    "\n",
    "# 2 \n",
    "# Explantion: 75 is the closest ticket price less than or equal to 90. \n",
    "# It has index 2. "
   ]
  },
  {
   "cell_type": "code",
   "execution_count": null,
   "id": "d55940a4",
   "metadata": {},
   "outputs": [],
   "source": []
  }
 ],
 "metadata": {
  "kernelspec": {
   "display_name": "base",
   "language": "python",
   "name": "python3"
  },
  "language_info": {
   "codemirror_mode": {
    "name": "ipython",
    "version": 3
   },
   "file_extension": ".py",
   "mimetype": "text/x-python",
   "name": "python",
   "nbconvert_exporter": "python",
   "pygments_lexer": "ipython3",
   "version": "3.11.3"
  }
 },
 "nbformat": 4,
 "nbformat_minor": 5
}
