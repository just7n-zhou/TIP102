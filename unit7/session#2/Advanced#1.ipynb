{
 "cells": [
  {
   "cell_type": "markdown",
   "id": "7a3351d4",
   "metadata": {},
   "source": [
    "Problem 1: Find Millenium Falcon Part\n",
    "Han Solo's ship, the Millenium Falcon, has broken down and he's searching for a specific replacement part. As a repair shop owner helping him out, write a function check_stock() that takes in a list inventory where each element is an integer ID of a part you stock in your shop, and an integer part_id representing the integer ID of the part Han Solo is looking for. Return True if the part_id is in inventory and False otherwise.\n",
    "\n",
    "Your solution must have O(log n) time complexity."
   ]
  },
  {
   "cell_type": "code",
   "execution_count": 2,
   "id": "fec43a82",
   "metadata": {},
   "outputs": [
    {
     "name": "stdout",
     "output_type": "stream",
     "text": [
      "True\n",
      "False\n"
     ]
    }
   ],
   "source": [
    "def check_stock(inventory, part_id):\n",
    "    \n",
    "    left, right = 0, len(inventory) - 1\n",
    "    while left <= right:\n",
    "        mid = (left + right) // 2\n",
    "        if inventory[mid] == part_id:\n",
    "            return True \n",
    "        elif inventory[mid] < part_id:\n",
    "            left = mid + 1\n",
    "        else:\n",
    "            right = mid - 1\n",
    "    \n",
    "    return False\n",
    "\n",
    "print(check_stock([1, 2, 5, 12, 20], 20))\n",
    "print(check_stock([1, 2, 5, 12, 20], 100))\n",
    "\n",
    "# True\n",
    "# False"
   ]
  },
  {
   "cell_type": "markdown",
   "id": "f3a5c086",
   "metadata": {},
   "source": [
    "Problem 2: Find Millenium Falcon Part II\n",
    "If you implemented your check_stock() function from the previous problem iteratively, implement it recursively. If you implemented it recursively, implement it iteratively."
   ]
  },
  {
   "cell_type": "code",
   "execution_count": 28,
   "id": "9dc27788",
   "metadata": {},
   "outputs": [
    {
     "name": "stdout",
     "output_type": "stream",
     "text": [
      "True\n",
      "False\n"
     ]
    }
   ],
   "source": [
    "def check_stock(inventory, part_id):\n",
    "    def binary_search_recursive(left, right):\n",
    "        if left > right:\n",
    "            return False \n",
    "        \n",
    "        mid = (left + right) // 2\n",
    "        if inventory[mid] == part_id:\n",
    "            return True\n",
    "        elif inventory[mid] > part_id:\n",
    "            return binary_search_recursive(left, mid - 1)\n",
    "        else:\n",
    "            return binary_search_recursive(mid + 1, right)\n",
    "        \n",
    "\n",
    "    left, right = 0, len(inventory) - 1\n",
    "    return binary_search_recursive(left, right)\n",
    "\n",
    "print(check_stock([1, 2, 5, 12, 20], 20))\n",
    "print(check_stock([1, 2, 5, 12, 20], 100))\n",
    "\n",
    "# True\n",
    "# False"
   ]
  },
  {
   "cell_type": "markdown",
   "id": "d3c3ac99",
   "metadata": {},
   "source": [
    "Problem 3: Find First and Last Frequency Positions\n",
    "The Rebel Alliance has intercepted a crucial sequence of encrypted transmissions from the evil Empire. Each transmission is marked with a unique frequency code, represented as integers, and these codes are stored in a sorted array transmissions. As a skilled codebreaker for the Rebellion, write a function find_frequency_positions() that returns a tuple with the first and last indices of a specific frequency code target_code in transmissions. If target_code does not exist in transmissions, return (-1, -1).\n",
    "\n",
    "Your solution must have O(log n) time complexity."
   ]
  },
  {
   "cell_type": "code",
   "execution_count": 5,
   "id": "7d4a3216",
   "metadata": {},
   "outputs": [
    {
     "name": "stdout",
     "output_type": "stream",
     "text": [
      "(3, 4)\n",
      "(-1, -1)\n",
      "(-1, -1)\n"
     ]
    }
   ],
   "source": [
    "def find_frequency_positions(transmissions, target_code):\n",
    "    if not transmissions:\n",
    "        return(-1, -1)\n",
    "    \n",
    "    def find_first_occurance(transmissions, target_code):\n",
    "        low, high = 0, len(transmissions) - 1\n",
    "        first = -1\n",
    "\n",
    "        while low <= high:\n",
    "            mid = (low + high) // 2\n",
    "            \n",
    "            if transmissions[mid] > target_code:\n",
    "                high = mid - 1\n",
    "            elif transmissions[mid] < target_code:\n",
    "                low = mid + 1\n",
    "            else: # when found a target code \n",
    "                first = mid\n",
    "                high = mid - 1 # keep searching to the left to find possible earlier match\n",
    "        \n",
    "        return first\n",
    "\n",
    "    def find_last_occurance(transmissions, target_code):\n",
    "        low, high = 0, len(transmissions) - 1\n",
    "        last = -1 \n",
    "\n",
    "        while low <= high:\n",
    "            mid = (low + high) // 2\n",
    "            \n",
    "            if transmissions[mid] < target_code:\n",
    "                low = mid + 1\n",
    "            elif transmissions[mid] > target_code:\n",
    "                high = mid - 1\n",
    "            else:\n",
    "                last = mid\n",
    "                low = mid + 1\n",
    "        \n",
    "        return last\n",
    "\n",
    "    first = find_first_occurance(transmissions, target_code)\n",
    "    last = find_last_occurance(transmissions, target_code)\n",
    "\n",
    "    if first == -1 or last == -1:\n",
    "        return (-1, -1)            \n",
    "    else:\n",
    "        return(first, last)\n",
    "\n",
    "print(find_frequency_positions([5,7,7,8,8,10], 8))\n",
    "print(find_frequency_positions([5,7,7,8,8,10], 6))\n",
    "print(find_frequency_positions([], 0))\n",
    "\n",
    "# (3, 4)\n",
    "# (-1, -1)\n",
    "# (-1, -1)\n"
   ]
  },
  {
   "cell_type": "markdown",
   "id": "d5367dd3",
   "metadata": {},
   "source": [
    "Problem 4: Smallest Letter Greater Than Target\n",
    "You are given an array of characters letters that is sorted in non-decreasing order, and a character target. There are at least two different characters in letters.\n",
    "\n",
    "Write a function next_greatest_letter() that returns the smallest character in letters that is lexicographically greater than target. If such a character does not exist, return the first character in letters.\n",
    "\n",
    "Lexicographic order can also be defined as alphabetic order.\n",
    "\n",
    "Evaluate the time and space complexity of your solution. Define your variables and provide a rationale for why you believe your solution has the stated time and space complexity."
   ]
  },
  {
   "cell_type": "code",
   "execution_count": null,
   "id": "419b689a",
   "metadata": {},
   "outputs": [
    {
     "name": "stdout",
     "output_type": "stream",
     "text": [
      "b\n",
      "e\n",
      "a\n"
     ]
    }
   ],
   "source": [
    "def next_greatest_letter(letters, target):\n",
    "    low, high = 0, len(letters)\n",
    "    \n",
    "    while low <= high:\n",
    "        mid = (low + high) // 2\n",
    "        if letters[mid] <= target:\n",
    "            low = mid + 1\n",
    "        else:\n",
    "            high = mid - 1\n",
    "            \n",
    "    # If low is out of bounds, it means we didn't find a larger element, so wrap around\n",
    "    return letters[low % len(letters)]\n",
    "\n",
    "letters = ['a', 'a', 'b', 'c', 'c', 'c', 'e', 'h', 'w']\n",
    "\n",
    "print(next_greatest_letter(letters, 'a'))\n",
    "print(next_greatest_letter(letters, 'd'))\n",
    "print(next_greatest_letter(letters, 'y'))\n",
    "\n",
    "# b\n",
    "# Example 1 Explanation: The smallest character lexicographically greater than 'a' in letters is 'b'\n",
    "# \n",
    "# e\n",
    "# Example 2 Explanation: The smallest character lexicographically greater than 'd' in letters is 'e'\n",
    "# \n",
    "# a\n",
    "# Example 3 Explanation: There is no character lexicographically greater than 'y' in letters\n",
    "# so we return letters[0]"
   ]
  },
  {
   "cell_type": "markdown",
   "id": "6c7de6d0",
   "metadata": {},
   "source": [
    "Problem 5: Find K Closest Planets\n",
    "You are a starship pilot navigating the galaxy and have a list of planets, each with its distance from your current position on your star map. Given an array of planet distances planets sorted in ascending order and your target destination distance target_distance, return an array with the k planets that are closest to your target distance. The result should also be sorted in ascending order.\n",
    "\n",
    "Planet with distance a is closer to target_distance than planet with distance b if:\n",
    "\n",
    "|a - target_distance| < |b - target_distance|\n",
    "|a - target_distance| == |b - target_distance| and a < b\n",
    "Evaluate the time and space complexity of your solution. Define your variables and provide a rationale for why you believe your solution has the stated time and space complexity."
   ]
  },
  {
   "cell_type": "code",
   "execution_count": null,
   "id": "e5f20053",
   "metadata": {},
   "outputs": [],
   "source": [
    "def find_closest_planets(planets, target_distance, k):\n",
    "    \n",
    "\n",
    "planets1 = [100, 200, 300, 400, 500]\n",
    "planets2 = [10, 20, 30, 40, 50]\n",
    "\n",
    "print(find_closest_planets(planets1, 350, 3))\n",
    "print(find_closest_planets(planets2, 25, 2))\n",
    "\n",
    "# [200, 300, 400]\n",
    "# [20, 30]\n"
   ]
  },
  {
   "cell_type": "markdown",
   "id": "524067ba",
   "metadata": {},
   "source": [
    "Problem 6: Sorting Crystals\n",
    "The Jedi Council has tasked you with organizing a collection of ancient kyber crystals. Each crystal has a unique power level represented by an integer. The kyber crystals are stored in a holocron in a completely random order, but to harness their true power, they must be arranged in ascending order based on their power levels.\n",
    "\n",
    "Given an unsorted list of crystal power levels crystals, write a function that returns crystals as a sorted list. Your function must have O(nlog(n)) time complexity."
   ]
  },
  {
   "cell_type": "code",
   "execution_count": null,
   "id": "fa7d4241",
   "metadata": {},
   "outputs": [],
   "source": [
    "def sort_crystals(crystals):\n",
    "    \n",
    "\n",
    "print(sort_crystals([5, 2, 3, 1]))\n",
    "print(sort_crystals([5, 1, 1, 2, 0, 0]))\n",
    "\n",
    "# [1, 2, 3, 5]\n",
    "# [0, 0, 1, 1, 2, 5]\n"
   ]
  }
 ],
 "metadata": {
  "kernelspec": {
   "display_name": "base",
   "language": "python",
   "name": "python3"
  },
  "language_info": {
   "codemirror_mode": {
    "name": "ipython",
    "version": 3
   },
   "file_extension": ".py",
   "mimetype": "text/x-python",
   "name": "python",
   "nbconvert_exporter": "python",
   "pygments_lexer": "ipython3",
   "version": "3.11.3"
  }
 },
 "nbformat": 4,
 "nbformat_minor": 5
}
