{
 "cells": [
  {
   "cell_type": "markdown",
   "id": "fbebdbe8",
   "metadata": {},
   "source": [
    "### Problem 1: Transpose Matrix\n",
    "### Write a function transpose() that accepts a 2D integer array matrix and returns the transpose of matrix. The transpose of a matrix is the matrix flipped over its main diagonal, swapping the rows and columns.\n",
    "#### matrix = [ [1, 2, 3], [4, 5, 6], [7, 8, 9] ]\n",
    "#### transpose(matrix)\n",
    "#### [ [1, 4, 7], [2, 5, 8], [3, 6, 9] ]"
   ]
  },
  {
   "cell_type": "markdown",
   "id": "40dba62d",
   "metadata": {},
   "source": []
  },
  {
   "cell_type": "code",
   "execution_count": 2,
   "id": "604b1797",
   "metadata": {},
   "outputs": [
    {
     "name": "stdout",
     "output_type": "stream",
     "text": [
      "[[1, 4, 7], [2, 5, 8], [3, 6, 9]]\n"
     ]
    }
   ],
   "source": [
    "def transpose(matrix):\n",
    "    for i in range(len(matrix)):\n",
    "        for j in range(i + 1, len(matrix[i])):\n",
    "            matrix[i][j], matrix[j][i] = matrix[j][i], matrix[i][j]\n",
    "    return matrix\n",
    "\n",
    "matrix = [\n",
    "    [1, 2, 3],\n",
    "    [4, 5, 6],\n",
    "    [7, 8, 9]\n",
    "]\n",
    "print(transpose(matrix))"
   ]
  },
  {
   "cell_type": "markdown",
   "id": "f1a5c93b",
   "metadata": {},
   "source": [
    "### Problem 2: Two-Pointer Reverse List\n",
    "\n",
    "#### Write a function reverse_list() that takes in a list lst and returns elements of the list in reverse order. The list should be reversed in-place without using list slicing (e.g. lst[::-1]). \n",
    "\n",
    "### lst = [\"pooh\", \"christopher robin\", \"piglet\", \"roo\", \"eeyore\"]\n",
    "### reverse_list(lst)\n",
    "### [\"eeyore\", \"roo\", \"piglet\", \"christopher robin\", \"pooh\"]\n"
   ]
  },
  {
   "cell_type": "code",
   "execution_count": 12,
   "id": "a2b98f4f",
   "metadata": {},
   "outputs": [
    {
     "name": "stdout",
     "output_type": "stream",
     "text": [
      "['eeyore', 'roo', 'piglet', 'christopher robin', 'pooh']\n"
     ]
    }
   ],
   "source": [
    "def reverse_list(lst):\n",
    "    i, j = 0, len(lst) - 1\n",
    "    while i < j:\n",
    "        lst[i], lst[j] = lst[j], lst[i]\n",
    "        i += 1 \n",
    "        j -= 1 \n",
    "    \n",
    "    return lst\n",
    "    \n",
    "\n",
    "lst = [\"pooh\", \"christopher robin\", \"piglet\", \"roo\", \"eeyore\"]\n",
    "print(reverse_list(lst))\n"
   ]
  },
  {
   "cell_type": "markdown",
   "id": "6f3c8445",
   "metadata": {},
   "source": [
    "### Problem 3: Remove Duplicates\n",
    "#### Write a function remove_dupes() that accepts a sorted array items, and removes the duplicates in-place such that each element appears only once. Return the length of the modified array. You may not create another array; your implementation must modify the original input array items.\n",
    "\n",
    "#### items = [\"extract of malt\", \"haycorns\", \"honey\", \"thistle\", \"thistle\"]\n",
    "#### remove_dupes(items)\n",
    "#### 4\n",
    "\n",
    "#### items = [\"extract of malt\", \"haycorns\", \"honey\", \"thistle\"]\n",
    "#### remove_dupes(items)\n",
    "#### 4"
   ]
  },
  {
   "cell_type": "code",
   "execution_count": null,
   "id": "0ce4e9b2",
   "metadata": {},
   "outputs": [
    {
     "name": "stdout",
     "output_type": "stream",
     "text": [
      "4\n",
      "4\n",
      "4\n"
     ]
    }
   ],
   "source": [
    "def remove_dupes(items):\n",
    "    for i in range(len(items)):\n",
    "        j = i + 1\n",
    "        while j < len(items):\n",
    "            if items[j] == items[i]:\n",
    "                items.remove(items[j])\n",
    "            j += 1\n",
    "    \n",
    "    return len(items)\n",
    "\n",
    "items = [\"extract of malt\", \"haycorns\", \"honey\", \"thistle\", \"thistle\"]\n",
    "print(remove_dupes(items))\n",
    "items = [\"extract of malt\", \"haycorns\", \"honey\", \"thistle\"]\n",
    "print(remove_dupes(items))\n"
   ]
  },
  {
   "cell_type": "markdown",
   "id": "ed799d23",
   "metadata": {},
   "source": [
    "### Problem 4: Sort Array by Parity\n",
    "#### Given an integer array nums, write a function sort_by_parity() that moves all the even integers at the beginning of the array followed by all the odd integers.\n",
    "#### Return any array that satisfies this condition.\n",
    "\n",
    "#### nums = [3, 1, 2, 4]\n",
    "#### sort_by_parity(nums)\n",
    "#### [2, 4, 3, 1]\n",
    "\n",
    "#### nums = [0]\n",
    "#### sort_by_parity(nums)\n",
    "#### [0]"
   ]
  },
  {
   "cell_type": "code",
   "execution_count": 7,
   "id": "2df5c606",
   "metadata": {},
   "outputs": [
    {
     "name": "stdout",
     "output_type": "stream",
     "text": [
      "[4, 2, 1, 3]\n",
      "[0]\n"
     ]
    }
   ],
   "source": [
    "def sort_by_parity(nums):\n",
    "    i, j = 0, len(nums) - 1\n",
    "    while i < j:\n",
    "        while i < j and nums[i] % 2 == 0:\n",
    "            i += 1\n",
    "        while i < j and nums[j] % 2 == 1:\n",
    "            j -= 1\n",
    "        if i < j:\n",
    "            nums[i], nums[j] = nums[j], nums[i]\n",
    "            i += 1\n",
    "            j -= 1\n",
    "    return nums\n",
    "\n",
    "nums = [3, 1, 2, 4]\n",
    "print(sort_by_parity(nums))\n",
    "\n",
    "nums = [0]\n",
    "print(sort_by_parity(nums))"
   ]
  },
  {
   "cell_type": "markdown",
   "id": "22fe5d08",
   "metadata": {},
   "source": [
    "### Problem 5: Container with Most Honey\n",
    "#### Christopher Robin is helping Pooh construct the biggest hunny jar possible. Help his write a function that accepts an integer array height of length n. There are n vertical lines drawn such that the two endpoints of the ith line are (i, 0) and (i, height[i]).\n",
    "#### \n",
    "#### Find two lines that together with the x-axis form a container, such that the container contains the most honey.\n",
    "#### \n",
    "#### Return the maximum amount of honey a container can store.\n",
    "\n",
    "#### height = [1, 8, 6, 2, 5, 4, 8, 3, 7]\n",
    "#### most_honey(height)\n",
    "#### 49\n",
    "#### \n",
    "#### height = [1, 1]\n",
    "#### most_honey(height)\n",
    "#### 1"
   ]
  },
  {
   "cell_type": "code",
   "execution_count": 17,
   "id": "d9ecdd95",
   "metadata": {},
   "outputs": [
    {
     "name": "stdout",
     "output_type": "stream",
     "text": [
      "49\n",
      "1\n"
     ]
    }
   ],
   "source": [
    "def most_honey(height):\n",
    "    i, j = 0, len(height) - 1\n",
    "    max_honey = 0 \n",
    "    while i < j:\n",
    "        curr_honey = (j - i) * min(height[i],height[j])\n",
    "        if curr_honey > max_honey:\n",
    "            max_honey = curr_honey\n",
    "        if height[i] > height[j]:\n",
    "            j -= 1\n",
    "        else:\n",
    "            i += 1\n",
    "    \n",
    "    return max_honey\n",
    "\n",
    "height = [1, 8, 6, 2, 5, 4, 8, 3, 7]\n",
    "print(most_honey(height))\n",
    "\n",
    "height = [1, 1]\n",
    "print(most_honey(height))"
   ]
  },
  {
   "cell_type": "markdown",
   "id": "af48b6e2",
   "metadata": {},
   "source": [
    "### Problem 6: Merge Intervals\n",
    "#### Write a function merge_intervals() that accepts an array of intervals where intervals[i] = [starti, endi], merge all overlapping intervals, #### and return an array of the non-overlapping intervals that cover all the intervals in the input.\n",
    "\n",
    "#### intervals = [[1, 3], [2, 6], [8, 10], [15, 18]]\n",
    "#### merge_intervals(intervals)\n",
    "#### [[1, 6], [8, 10], [15, 18]]\n",
    "#### \n",
    "#### intervals = [[1, 4], [4, 5]]\n",
    "#### merge_intervals(intervals)\n",
    "#### [[1, 5]]"
   ]
  },
  {
   "cell_type": "code",
   "execution_count": null,
   "id": "ab45abfd",
   "metadata": {},
   "outputs": [
    {
     "name": "stdout",
     "output_type": "stream",
     "text": [
      "[[1, 6], [8, 10], [15, 18]]\n",
      "[[1, 5]]\n"
     ]
    }
   ],
   "source": [
    "def merge_intervals(intervals):\n",
    "    if not intervals:\n",
    "        return []\n",
    "    intervals.sort(key=lambda xn: x[0])\n",
    "    merged = [intervals[0]]\n",
    "    for current in intervals[1:]:\n",
    "        last = merged[-1]\n",
    "        if current[0] <= last[1]:  \n",
    "            last[1] = max(last[1], current[1])\n",
    "        else:\n",
    "            merged.append(current)\n",
    "    return merged\n",
    "    \n",
    "\n",
    "intervals = [[1, 3], [2, 6], [8, 10], [15, 18]]\n",
    "print(merge_intervals(intervals))\n",
    "\n",
    "intervals = [[1, 4], [4, 5]]\n",
    "print(merge_intervals(intervals))"
   ]
  },
  {
   "cell_type": "code",
   "execution_count": null,
   "id": "7f50b480",
   "metadata": {},
   "outputs": [],
   "source": []
  }
 ],
 "metadata": {
  "kernelspec": {
   "display_name": "base",
   "language": "python",
   "name": "python3"
  },
  "language_info": {
   "codemirror_mode": {
    "name": "ipython",
    "version": 3
   },
   "file_extension": ".py",
   "mimetype": "text/x-python",
   "name": "python",
   "nbconvert_exporter": "python",
   "pygments_lexer": "ipython3",
   "version": "3.11.3"
  }
 },
 "nbformat": 4,
 "nbformat_minor": 5
}
