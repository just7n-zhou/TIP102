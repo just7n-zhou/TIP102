{
 "cells": [
  {
   "cell_type": "markdown",
   "id": "da834cb4",
   "metadata": {},
   "source": [
    "### Problem 1: Hundred Acre Wood\n",
    "### Write a function welcome() that prints the string \"Welcome to The Hundred Acre Wood!\"."
   ]
  },
  {
   "cell_type": "code",
   "execution_count": 6,
   "id": "b5b93933",
   "metadata": {},
   "outputs": [
    {
     "name": "stdout",
     "output_type": "stream",
     "text": [
      "Welcome to The Hundred Acre Wood!\n"
     ]
    }
   ],
   "source": [
    "def welcome():\n",
    "    print(\"Welcome to The Hundred Acre Wood!\")\n",
    "\n",
    "welcome()\n"
   ]
  },
  {
   "cell_type": "markdown",
   "id": "1444a00e",
   "metadata": {},
   "source": [
    "### Problem 2: Greeting\n",
    "### Write a function greeting() that accepts a single parameter, a string name, and prints the string \"Welcome to The Hundred Acre Wood <name>! My name is Christopher Robin.\"\n"
   ]
  },
  {
   "cell_type": "code",
   "execution_count": 7,
   "id": "bd448c68",
   "metadata": {},
   "outputs": [
    {
     "name": "stdout",
     "output_type": "stream",
     "text": [
      "Welcome to The Hundred Acre Wood Justin! My name is Christopher Robin.\n"
     ]
    }
   ],
   "source": [
    "def greeting(name):\n",
    "    print(f\"Welcome to The Hundred Acre Wood {name}! My name is Christopher Robin.\")\n",
    "\n",
    "greeting(\"Justin\")"
   ]
  },
  {
   "cell_type": "markdown",
   "id": "890c78dd",
   "metadata": {},
   "source": [
    "### Problem 3: Catchphrase\n",
    "### Write a function print_catchphrase() that accepts a string character as a parameter and prints the catchphrase of the given character as outlined in the table below.\n",
    "\n",
    "#### Character\tCatchphrase\n",
    "#### \"Pooh\"\t    \"Oh bother!\"\n",
    "#### \"Tigger\"\t\"TTFN: Ta-ta for now!\"\n",
    "#### \"Eeyore\"\t\"Thanks for noticing me.\"\n",
    "#### \"Christopher Robin\"\t\"Silly old bear.\""
   ]
  },
  {
   "cell_type": "code",
   "execution_count": 11,
   "id": "4ffbb69c",
   "metadata": {},
   "outputs": [
    {
     "name": "stdout",
     "output_type": "stream",
     "text": [
      "Oh bother!\n",
      "Sorry! I don't know roo's catchphrase!\n"
     ]
    }
   ],
   "source": [
    "def print_catchphrase(character):\n",
    "\tmapping = {\n",
    "\t\t\"Pooh\": \"Oh bother!\",\n",
    "\t\t\"Tigger\": \"TTFN: Ta-ta for now!\",\n",
    "\t\t\"Eeyore\": \"Thanks for noticing me.\",\n",
    "\t\t\"Christopher Robin\": \"Silly old bear.\"\n",
    "\t}\n",
    "\tif character in mapping:\n",
    "\t\tprint(mapping[character])\n",
    "\telse:\n",
    "\t\tprint(f\"Sorry! I don't know {character}'s catchphrase!\")\n",
    "\n",
    "print_catchphrase(\"Pooh\")\n",
    "print_catchphrase(\"roo\")"
   ]
  }
 ],
 "metadata": {
  "kernelspec": {
   "display_name": "base",
   "language": "python",
   "name": "python3"
  },
  "language_info": {
   "codemirror_mode": {
    "name": "ipython",
    "version": 3
   },
   "file_extension": ".py",
   "mimetype": "text/x-python",
   "name": "python",
   "nbconvert_exporter": "python",
   "pygments_lexer": "ipython3",
   "version": "3.11.3"
  }
 },
 "nbformat": 4,
 "nbformat_minor": 5
}
