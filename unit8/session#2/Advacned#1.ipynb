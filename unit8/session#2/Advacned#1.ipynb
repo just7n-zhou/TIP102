{
 "cells": [
  {
   "cell_type": "code",
   "execution_count": 3,
   "id": "4bbd712f",
   "metadata": {},
   "outputs": [],
   "source": [
    "\"Print Tree Function\"\n",
    "\n",
    "from collections import deque \n",
    "\n",
    "# Tree Node class\n",
    "class TreeNode:\n",
    "    def __init__(self, value, left=None, right=None):\n",
    "        self.val = value\n",
    "        self.left = left\n",
    "        self.right = right\n",
    "\n",
    "def print_tree(root):\n",
    "    if not root:\n",
    "        return \"Empty\"\n",
    "    result = []\n",
    "    queue = deque([root])\n",
    "    while queue:\n",
    "        node = queue.popleft()\n",
    "        if node:\n",
    "            result.append(node.val)\n",
    "            queue.append(node.left)\n",
    "            queue.append(node.right)\n",
    "        else:\n",
    "            result.append(None)\n",
    "    while result and result[-1] is None:\n",
    "        result.pop()\n",
    "    print(result)\n"
   ]
  },
  {
   "cell_type": "code",
   "execution_count": 4,
   "id": "6b52f0f7",
   "metadata": {},
   "outputs": [],
   "source": [
    "\"Build Tree function\"\n",
    "\n",
    "from collections import deque \n",
    "\n",
    "# Tree Node class\n",
    "class TreeNode:\n",
    "  def __init__(self, value, key=None, left=None, right=None):\n",
    "      self.key = key\n",
    "      self.val = value\n",
    "      self.left = left\n",
    "      self.right = right\n",
    "\n",
    "def build_tree(values):\n",
    "  if not values:\n",
    "      return None\n",
    "\n",
    "  def get_key_value(item):\n",
    "      if isinstance(item, tuple):\n",
    "          return item[0], item[1]\n",
    "      else:\n",
    "          return None, item\n",
    "\n",
    "  key, value = get_key_value(values[0])\n",
    "  root = TreeNode(value, key)\n",
    "  queue = deque([root])\n",
    "  index = 1\n",
    "\n",
    "  while queue:\n",
    "      node = queue.popleft()\n",
    "      if index < len(values) and values[index] is not None:\n",
    "          left_key, left_value = get_key_value(values[index])\n",
    "          node.left = TreeNode(left_value, left_key)\n",
    "          queue.append(node.left)\n",
    "      index += 1\n",
    "      if index < len(values) and values[index] is not None:\n",
    "          right_key, right_value = get_key_value(values[index])\n",
    "          node.right = TreeNode(right_value, right_key)\n",
    "          queue.append(node.right)\n",
    "      index += 1\n",
    "\n",
    "  return root"
   ]
  },
  {
   "cell_type": "markdown",
   "id": "6fe6027c",
   "metadata": {},
   "source": [
    "Problem 1: Sorting Plants by Rarity\n",
    "You are going to a plant swap where you can exchange cuttings of your plants for new plants from other plant enthusiasts. You want to bring a mix of cuttings from both common and rare plants in your collection. You track your plant collection in a binary search tree (BST) where each node has a key and a val. The val contains the plant name, and the key is an integer representing the plant's rarity. Plants are organized in the BST by their key.\n",
    "\n",
    "To help choose which plants to bring, write a function sort_plants() which takes in the BST root collection and returns an array of plant nodes as tuples in the form (key, val) sorted from least to most rare. Sorted order can be achieved by performing an inorder traversal of the BST.\n",
    "\n",
    "Evaluate the time and space complexity of your function. Define your variables and provide a rationale for why you believe your solution has the stated time and space complexity. Assume the input tree is balanced when calculating time and space complexity."
   ]
  },
  {
   "cell_type": "code",
   "execution_count": 6,
   "id": "33ed5500",
   "metadata": {},
   "outputs": [
    {
     "name": "stdout",
     "output_type": "stream",
     "text": [
      "[(1, 'Pothos'), (2, 'Spider Plant'), (3, 'Monstera'), (4, 'Hoya Motoskei'), (5, 'Witchcraft Orchid')]\n"
     ]
    }
   ],
   "source": [
    "class TreeNode:\n",
    "    def __init__(self, val, key, left=None, right=None):\n",
    "        self.key = key      # Plant price\n",
    "        self.val = val      # Plant name\n",
    "        self.left = left\n",
    "        self.right = right\n",
    "\n",
    "\n",
    "def sort_plants(collection):\n",
    "    res = []\n",
    "\n",
    "    def dfs_preorder(node):\n",
    "        if not node:\n",
    "            return []\n",
    "        dfs_preorder(node.left)\n",
    "        res.append((node.key, node.val))\n",
    "        dfs_preorder(node.right)\n",
    "\n",
    "    dfs_preorder(collection)\n",
    "\n",
    "    return res\n",
    "\n",
    "\"\"\"\n",
    "         (3, \"Monstera\")\n",
    "        /               \\\n",
    "   (1, \"Pothos\")     (5, \"Witchcraft Orchid\")\n",
    "        \\                 /\n",
    "  (2, \"Spider Plant\")   (4, \"Hoya Motoskei\")\n",
    "\"\"\"\n",
    "\n",
    "# Using build_tree() function at the top of page\n",
    "values = [(3, \"Monstera\"), (1, \"Pothos\"), (5, \"Witchcraft Orchid\"), None, (2, \"Spider Plant\"), (4, \"Hoya Motoskei\")]\n",
    "collection = build_tree(values)\n",
    "\n",
    "print(sort_plants(collection))\n",
    "\n",
    "# [(1, 'Pothos'), (2, 'Spider Plant'), (3, 'Monstera'), (4, 'Hoya Motoskei'), (5, 'Witchcraft Orchid')]"
   ]
  },
  {
   "cell_type": "markdown",
   "id": "3c8903ea",
   "metadata": {},
   "source": [
    "Problem 2: Flower Finding\n",
    "You are looking to buy a new flower plant for your garden. The nursery you visit stores its inventory in a binary search tree (BST) where each node represents a plant in the store. The plants are organized according to their names (vals) in alphabetical order in the BST.\n",
    "\n",
    "Given the root of the binary search tree inventory and a target flower name, write a function find_flower() that returns True if the flower is present in the garden and False otherwise.\n",
    "\n",
    "Evaluate the time and space complexity of your function. Define your variables and provide a rationale for why you believe your solution has the stated time and space complexity. Assume the input tree is balanced when calculating time and space complexity."
   ]
  },
  {
   "cell_type": "code",
   "execution_count": 11,
   "id": "ffdc24f3",
   "metadata": {},
   "outputs": [
    {
     "name": "stdout",
     "output_type": "stream",
     "text": [
      "False\n",
      "False\n"
     ]
    }
   ],
   "source": [
    "class TreeNode():\n",
    "     def __init__(self, value, left=None, right=None):\n",
    "         self.val = value\n",
    "         self.left = left\n",
    "         self.right = right\n",
    "         \n",
    "def find_flower(inventory, name):\n",
    "    if not inventory:\n",
    "        return False \n",
    "\n",
    "    cur = inventory\n",
    "    while cur:\n",
    "        if cur.val == name:\n",
    "            return True \n",
    "        elif cur.val > name:\n",
    "            cur = cur.left\n",
    "        else:\n",
    "            cur = cur.right \n",
    "    \n",
    "    return False \n",
    "\n",
    "\"\"\"\n",
    "         Rose\n",
    "        /    \\\n",
    "      Lily   Tulip\n",
    "     /  \\       \\\n",
    "  Daisy  Lilac  Violet\n",
    "\"\"\"\n",
    "\n",
    "# using build_tree() function at top of page\n",
    "values = [\"Rose\", \"Lily\", \"Tulip\", \"Daisy\", \"Lilac\", \"Violet\"]\n",
    "garden = build_tree(values)\n",
    "\n",
    "print(find_flower(garden, \"Lilac\"))  \n",
    "print(find_flower(garden, \"Sunflower\")) \n",
    "\n",
    "# True\n",
    "# False"
   ]
  },
  {
   "cell_type": "markdown",
   "id": "64cbb542",
   "metadata": {},
   "source": []
  },
  {
   "cell_type": "code",
   "execution_count": null,
   "id": "0970331d",
   "metadata": {},
   "outputs": [],
   "source": []
  }
 ],
 "metadata": {
  "kernelspec": {
   "display_name": "base",
   "language": "python",
   "name": "python3"
  },
  "language_info": {
   "codemirror_mode": {
    "name": "ipython",
    "version": 3
   },
   "file_extension": ".py",
   "mimetype": "text/x-python",
   "name": "python",
   "nbconvert_exporter": "python",
   "pygments_lexer": "ipython3",
   "version": "3.11.3"
  }
 },
 "nbformat": 4,
 "nbformat_minor": 5
}
