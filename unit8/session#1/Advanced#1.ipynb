{
 "cells": [
  {
   "cell_type": "markdown",
   "id": "fa70bb65",
   "metadata": {},
   "source": [
    "Problem 1: Ivy Cutting\n",
    "You have a trailing ivy plant represented by a binary tree. You want to take a cutting to start a new plant using the rightmost vine in the plant. Given the root of the plant, return a list with the value of each node in the path from the root node to the rightmost leaf node.\n",
    "\n",
    "Evaluate the time and space complexity of your function. Define your variables and provide a rationale for why you believe your solution has the stated time and space complexity. Assume the input tree is balanced when calculating time and space complexity."
   ]
  },
  {
   "cell_type": "code",
   "execution_count": 3,
   "id": "2c934467",
   "metadata": {},
   "outputs": [
    {
     "name": "stdout",
     "output_type": "stream",
     "text": [
      "['Root', 'Node2', 'Leaf3']\n",
      "['Root']\n"
     ]
    }
   ],
   "source": [
    "class TreeNode:\n",
    "    def __init__(self, value, left=None, right=None):\n",
    "        self.val = value\n",
    "        self.left = left\n",
    "        self.right = right\n",
    "\n",
    "def right_vine(root):\n",
    "    res = []\n",
    "\n",
    "    while root:\n",
    "        res.append(root.val)\n",
    "        root = root.right\n",
    "    \n",
    "    return res\n",
    "\n",
    "# Example Usage:\n",
    "# \n",
    "# \"\"\"\n",
    "#         Root\n",
    "#       /      \\\n",
    "#     Node1    Node2\n",
    "#   /         /    \\\n",
    "# Leaf1    Leaf2  Leaf3\n",
    "# \"\"\"\n",
    "ivy1 = TreeNode(\"Root\", \n",
    "                TreeNode(\"Node1\", TreeNode(\"Leaf1\")),\n",
    "                TreeNode(\"Node2\", TreeNode(\"Leaf2\"), TreeNode(\"Leaf3\")))\n",
    "\n",
    "# \"\"\"\n",
    "#       Root\n",
    "#       /  \n",
    "#     Node1\n",
    "#     /\n",
    "#   Leaf1  \n",
    "# \"\"\"\n",
    "\n",
    "ivy2 = TreeNode(\"Root\", TreeNode(\"Node1\", TreeNode(\"Leaf1\")))\n",
    "\n",
    "print(right_vine(ivy1))\n",
    "print(right_vine(ivy2))\n",
    "# Example Output:\n",
    "\n",
    "#['Root', 'Node2', 'Leaf3']\n",
    "# ['Root']\n"
   ]
  },
  {
   "cell_type": "markdown",
   "id": "6caa792d",
   "metadata": {},
   "source": [
    "Problem 2: Ivy Cutting II\n",
    "If you implemented right_vine() iteratively in the previous problem, implement it recursively. If you implemented it recursively, implement it iteratively.\n",
    "\n",
    "Evaluate the time and space complexity of your function. Define your variables and provide a rationale for why you believe your solution has the stated time and space complexity. Assume the input tree is balanced when calculating time and space complexity."
   ]
  },
  {
   "cell_type": "code",
   "execution_count": 6,
   "id": "0dcfb920",
   "metadata": {},
   "outputs": [
    {
     "name": "stdout",
     "output_type": "stream",
     "text": [
      "['Root', 'Node2', 'Leaf3']\n",
      "['Root']\n"
     ]
    }
   ],
   "source": [
    "class TreeNode:\n",
    "    def __init__(self, value, left=None, right=None):\n",
    "        self.val = value\n",
    "        self.left = left\n",
    "        self.right = right\n",
    "\n",
    "def right_vine(root):\n",
    "    if not root:\n",
    "        return []\n",
    "    return [root.val] + right_vine(root.right)\n",
    "# Example Usage:\n",
    "# \n",
    "# \"\"\"\n",
    "#         Root\n",
    "#       /      \\\n",
    "#     Node1    Node2\n",
    "#   /         /    \\\n",
    "# Leaf1    Leaf2  Leaf3\n",
    "# \"\"\"\n",
    "ivy1 = TreeNode(\"Root\", \n",
    "                TreeNode(\"Node1\", TreeNode(\"Leaf1\")),\n",
    "                TreeNode(\"Node2\", TreeNode(\"Leaf2\"), TreeNode(\"Leaf3\")))\n",
    "\n",
    "# \"\"\"\n",
    "#       Root\n",
    "#       /  \n",
    "#     Node1\n",
    "#     /\n",
    "#   Leaf1  \n",
    "# \"\"\"\n",
    "\n",
    "ivy2 = TreeNode(\"Root\", TreeNode(\"Node1\", TreeNode(\"Leaf1\")))\n",
    "\n",
    "print(right_vine(ivy1))\n",
    "print(right_vine(ivy2))\n",
    "# Example Output:\n",
    "\n",
    "#['Root', 'Node2', 'Leaf3']\n",
    "# ['Root']\n"
   ]
  },
  {
   "cell_type": "markdown",
   "id": "2d31898a",
   "metadata": {},
   "source": [
    "Problem 3: Pruning Plans\n",
    "You have a large overgrown Magnolia tree that's in desperate need of some pruning. Before you can prune the tree, you need to do a full survey of the tree to evaluate which sections need to be pruned.\n",
    "\n",
    "Given the root of a binary tree representing the magnolia, return a list of the values of each node using a postorder traversal. In a postorder traversal, you explore the left subtree first, then the right subtree, and finally the root. Postorder traversals are often used when deleting nodes from a tree.\n",
    "\n",
    "Evaluate the time and space complexity of your function. Define your variables and provide a rationale for why you believe your solution has the stated time and space complexity. Assume the input tree is balanced when calculating time and space complexity."
   ]
  },
  {
   "cell_type": "code",
   "execution_count": 10,
   "id": "2e83fa3e",
   "metadata": {},
   "outputs": [
    {
     "name": "stdout",
     "output_type": "stream",
     "text": [
      "['Leaf1', 'Node1', 'Leaf2', 'Leaf3', 'Node2', 'Root']\n"
     ]
    }
   ],
   "source": [
    "class TreeNode:\n",
    "    def __init__(self, value, left=None, right=None):\n",
    "        self.val = value\n",
    "        self.left = left\n",
    "        self.right = right\n",
    "\n",
    "def survey_tree(root):\n",
    "    res = []\n",
    "\n",
    "    def dfs(node):\n",
    "        if not node:\n",
    "            return\n",
    "         \n",
    "        dfs(node.left)\n",
    "        dfs(node.right)\n",
    "        res.append(node.val)\n",
    "\n",
    "    dfs(root)\n",
    "\n",
    "    return res\n",
    "\n",
    "# Example Usage:\n",
    "\n",
    "# \"\"\"\n",
    "#         Root\n",
    "#       /      \\\n",
    "#     Node1    Node2\n",
    "#   /         /    \\\n",
    "# Leaf1    Leaf2  Leaf3\n",
    "# \"\"\"\n",
    "\n",
    "magnolia = TreeNode(\"Root\", \n",
    "                TreeNode(\"Node1\", TreeNode(\"Leaf1\")),\n",
    "                TreeNode(\"Node2\", TreeNode(\"Leaf2\"), TreeNode(\"Leaf3\")))\n",
    "\n",
    "print(survey_tree(magnolia))\n",
    "\n",
    "# ['Leaf1', 'Node1', 'Leaf2', 'Leaf3', 'Node2', 'Root']"
   ]
  },
  {
   "cell_type": "markdown",
   "id": "c31a5df5",
   "metadata": {},
   "source": [
    "Problem 4: Sum Inventory\n",
    "A local flower shop stores its inventory in a binary tree, where each node represents their current stock of a flower variety. Given the root of a binary tree inventory, return the sum of all the flower stock in the store.\n",
    "\n",
    "Evaluate the time and space complexity of your function. Define your variables and provide a rationale for why you believe your solution has the stated time and space complexity. Assume the input tree is balanced when calculating time and space complexity."
   ]
  },
  {
   "cell_type": "code",
   "execution_count": 12,
   "id": "13dcf43f",
   "metadata": {},
   "outputs": [
    {
     "name": "stdout",
     "output_type": "stream",
     "text": [
      "106\n"
     ]
    }
   ],
   "source": [
    "class TreeNode:\n",
    "    def __init__(self, value, left=None, right=None):\n",
    "        self.val = value\n",
    "        self.left = left\n",
    "        self.right = right\n",
    "\n",
    "def sum_inventory(inventory):\n",
    "    if not inventory:\n",
    "        return 0 \n",
    "    \n",
    "    return inventory.val + sum_inventory(inventory.left) + sum_inventory(inventory.right)\n",
    "\n",
    "# \"\"\"\n",
    "#      40\n",
    "#     /  \\\n",
    "#    5   10\n",
    "#   /   /  \\\n",
    "# 20   1   30\n",
    "# \"\"\"\n",
    "\n",
    "inventory = TreeNode(40, \n",
    "                    TreeNode(5, TreeNode(20)),\n",
    "                            TreeNode(10, TreeNode(1), TreeNode(30)))\n",
    "\n",
    "print(sum_inventory(inventory))\n",
    "\n",
    "# 106\n"
   ]
  },
  {
   "cell_type": "markdown",
   "id": "21056cce",
   "metadata": {},
   "source": [
    "Problem 5: Calculating Yield II\n",
    "You have a fruit tree represented as a binary tree. Given the root of the tree, evaluate the amount of fruit your tree will yield this year. The tree has the following form:\n",
    "\n",
    "Leaf nodes have an integer value.\n",
    "Non-leaf nodes have a string value of either \"+\", \"-\", \"*\", or \"-\".\n",
    "The yield of a the tree is calculated as follows:\n",
    "\n",
    "If the node is a leaf node, the yield is the value of the node.\n",
    "Otherwise evaluate the node's two children and apply the mathematical operation of its value with the children's evaluations.\n",
    "Return the result of evaluating the root node.\n",
    "\n",
    "Evaluate the time and space complexity of your function. Define your variables and provide a rationale for why you believe your solution has the stated time and space complexity. Assume the input tree is balanced when calculating time and space complexity."
   ]
  },
  {
   "cell_type": "code",
   "execution_count": 15,
   "id": "3f25540c",
   "metadata": {},
   "outputs": [
    {
     "name": "stdout",
     "output_type": "stream",
     "text": [
      "22\n"
     ]
    }
   ],
   "source": [
    "class TreeNode:\n",
    "    def __init__(self, value, left=None, right=None):\n",
    "        self.val = value\n",
    "        self.left = left\n",
    "        self.right = right\n",
    "\n",
    "def calculate_yield(root):\n",
    "    if not root.left and not root.right:\n",
    "        return root.val\n",
    "    \n",
    "    left_res = calculate_yield(root.left)\n",
    "    right_res = calculate_yield(root.right)\n",
    "\n",
    "    if root.val == \"+\":\n",
    "        return left_res + right_res\n",
    "    elif root.val == \"-\":\n",
    "        return left_res - right_res\n",
    "    elif root.val == \"*\":\n",
    "        return left_res * right_res\n",
    "    elif root.val == \"/\":\n",
    "        return left_res // right_res\n",
    "\n",
    "\"\"\"\n",
    "      +\n",
    "     / \\ \n",
    "    /   \\\n",
    "   -     *\n",
    "  / \\   / \\\n",
    " 4   2 10  2\n",
    "\"\"\"\n",
    "\n",
    "root = TreeNode(\"+\")\n",
    "root.left = TreeNode(\"-\")\n",
    "root.right = TreeNode(\"*\")\n",
    "root.left.left = TreeNode(4)\n",
    "root.left.right = TreeNode(2)\n",
    "root.right.left = TreeNode(10)\n",
    "root.right.right = TreeNode(2)\n",
    "\n",
    "print(calculate_yield(root))\n",
    "\n",
    "\n",
    "# 22\n",
    "# Explanation:\n",
    "# - 4 - 2 = 2\n",
    "# - 10 * 2 = 20\n",
    "# - 2 + 20 = 22\n",
    "\n"
   ]
  },
  {
   "cell_type": "markdown",
   "id": "4ca247cd",
   "metadata": {},
   "source": [
    "Problem 6: Plant Classifications\n",
    "Given the root of a binary tree used to classify plants where each level of the tree represents a higher degree of speficity, return an array with the most specific plant classification categories (aka the leaf node values). Leaf nodes are nodes with no children.\n",
    "\n",
    "Evaluate the time and space complexity of your function. Define your variables and provide a rationale for why you believe your solution has the stated time and space complexity. Assume the input tree is balanced when calculating time and space complexity."
   ]
  },
  {
   "cell_type": "code",
   "execution_count": 19,
   "id": "116ea289",
   "metadata": {},
   "outputs": [
    {
     "name": "stdout",
     "output_type": "stream",
     "text": [
      "['Mosses', 'Ferns', 'Gymnosperms', 'Monocots', 'Dicots']\n"
     ]
    }
   ],
   "source": [
    "class TreeNode:\n",
    "    def __init__(self, value, left=None, right=None):\n",
    "        self.val = value\n",
    "        self.left = left\n",
    "        self.right = right\n",
    "\n",
    "def get_most_specific(taxonomy):\n",
    "    if not taxonomy:\n",
    "        return []\n",
    "    if not taxonomy.left and not taxonomy.right:\n",
    "        return [taxonomy.val]\n",
    "    \n",
    "    left_res = get_most_specific(taxonomy.left)\n",
    "    right_res = get_most_specific(taxonomy.right)\n",
    "\n",
    "    return left_res + right_res\n",
    "\"\"\"\n",
    "           Plantae\n",
    "          /       \\\n",
    "         /         \\\n",
    "        /           \\ \n",
    "Non-flowering     Flowering\n",
    "   /      \\       /        \\\n",
    "Mosses   Ferns Gymnosperms Angiosperms\n",
    "                             /     \\\n",
    "                        Monocots  Dicots\n",
    "\"\"\"\n",
    "plant_taxonomy = TreeNode(\"Plantae\", \n",
    "                          TreeNode(\"Non-flowering\", TreeNode(\"Mosses\"), TreeNode(\"Ferns\")),\n",
    "                                  TreeNode(\"Flowering\", TreeNode(\"Gymnosperms\"), \n",
    "                                          TreeNode(\"Angiosperms\", TreeNode(\"Monocots\"), TreeNode(\"Dicots\"))))\n",
    "\n",
    "print(get_most_specific(plant_taxonomy))\n",
    "\n",
    "# ['Mosses', 'Ferns', 'Gymnosperms', 'Monocots', 'Dicots']"
   ]
  },
  {
   "cell_type": "markdown",
   "id": "10b56083",
   "metadata": {},
   "source": [
    "Problem 7: Count Old Growth Trees\n",
    "Given the root of a binary tree where each node represents the age of a tree in a forest, write a function count_old_growth() that returns the number of old growth trees in the forest. A tree is considered old growth if it has age greater than threshold.\n",
    "\n",
    "Evaluate the time and space complexity of your function. Define your variables and provide a rationale for why you believe your solution has the stated time and space complexity. Assume the input tree is balanced when calculating time and space complexity."
   ]
  },
  {
   "cell_type": "code",
   "execution_count": 22,
   "id": "e98782c3",
   "metadata": {},
   "outputs": [
    {
     "name": "stdout",
     "output_type": "stream",
     "text": [
      "3\n"
     ]
    }
   ],
   "source": [
    "class TreeNode:\n",
    "    def __init__(self, value, left=None, right=None):\n",
    "        self.val = value\n",
    "        self.left = left\n",
    "        self.right = right\n",
    "\n",
    "def count_old_growth(root, threshold):\n",
    "    if not root:\n",
    "        return 0\n",
    "\n",
    "    left_count = count_old_growth(root.left, threshold)\n",
    "    right_count = count_old_growth(root.right, threshold)\n",
    "\n",
    "    if root.val >= threshold:\n",
    "        return 1 + left_count + right_count\n",
    "    else:\n",
    "        return left_count + right_count \n",
    "\n",
    "\"\"\"\n",
    "     100\n",
    "     /  \\\n",
    "    /    \\\n",
    "  1200  1500\n",
    "  /     /  \\\n",
    "20    700  2600\n",
    "\"\"\"\n",
    "\n",
    "forest = TreeNode(100, \n",
    "                    TreeNode(1200, TreeNode(20)),\n",
    "                          TreeNode(1500, TreeNode(700), TreeNode(2600)))\n",
    "\n",
    "print(count_old_growth(forest, 1000))\n",
    "\n",
    "# 3"
   ]
  },
  {
   "cell_type": "markdown",
   "id": "fd6bed29",
   "metadata": {},
   "source": [
    "Problem 8: Twinning Trees\n",
    "Given the roots of two trees root1 and root2, return True if the trees have identical structures and values and False otherwise.\n",
    "\n",
    "Evaluate the time and space complexity of your function. Define your variables and provide a rationale for why you believe your solution has the stated time and space complexity. Assume the input tree is balanced when calculating time and space complexity."
   ]
  },
  {
   "cell_type": "code",
   "execution_count": 26,
   "id": "796b1f1c",
   "metadata": {},
   "outputs": [
    {
     "name": "stdout",
     "output_type": "stream",
     "text": [
      "True\n",
      "False\n"
     ]
    }
   ],
   "source": [
    "class TreeNode:\n",
    "    def __init__(self, value, left=None, right=None):\n",
    "        self.val = value\n",
    "        self.left = left\n",
    "        self.right = right\n",
    "\n",
    "def is_identical(root1, root2):\n",
    "    if not root1 and not root2:\n",
    "        return True \n",
    "    if not root1 or not root2:\n",
    "        return False \n",
    "    \n",
    "    left_comparison = is_identical(root1.left, root2.left)\n",
    "    right_comparison = is_identical(root1.right, root2.right)\n",
    "\n",
    "    if root1.val != root2.val:\n",
    "        return False \n",
    "    \n",
    "    return left_comparison and right_comparison\n",
    "\"\"\"\n",
    "      1                1\n",
    "     / \\              / \\\n",
    "    2   3            2   3  \n",
    "\"\"\"\n",
    "root1 = TreeNode(1, TreeNode(2), TreeNode(3))\n",
    "root2 = TreeNode(1, TreeNode(2), TreeNode(3))\n",
    "\n",
    "\"\"\"\n",
    "      1                1\n",
    "     /                  \\\n",
    "    2                    2  \n",
    "\"\"\"\n",
    "\n",
    "root3 = TreeNode(1, TreeNode(2))\n",
    "root4 = TreeNode(1, None, TreeNode(2))\n",
    "\n",
    "print(is_identical(root1, root2))\n",
    "print(is_identical(root3, root4))\n",
    "\n",
    "# True\n",
    "# False"
   ]
  },
  {
   "cell_type": "code",
   "execution_count": null,
   "id": "d19ded2b",
   "metadata": {},
   "outputs": [],
   "source": []
  }
 ],
 "metadata": {
  "kernelspec": {
   "display_name": "base",
   "language": "python",
   "name": "python3"
  },
  "language_info": {
   "codemirror_mode": {
    "name": "ipython",
    "version": 3
   },
   "file_extension": ".py",
   "mimetype": "text/x-python",
   "name": "python",
   "nbconvert_exporter": "python",
   "pygments_lexer": "ipython3",
   "version": "3.11.3"
  }
 },
 "nbformat": 4,
 "nbformat_minor": 5
}
