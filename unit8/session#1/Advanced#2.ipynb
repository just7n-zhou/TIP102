{
 "cells": [
  {
   "cell_type": "markdown",
   "id": "f883be25",
   "metadata": {},
   "source": [
    "Problem 1: Escaping the Sea Caves\n",
    "You are given the root of a binary tree representing possible route through a system of sea caves. You recall that so long as you take the leftmost branch at every fork in the route, you'll find your way back home. Write a function leftmost_path() that returns an array with the value of each node in the leftmost path.\n",
    "\n",
    "Evaluate the time and space complexity of your function. Define your variables and provide a rationale for why you believe your solution has the stated time and space complexity. Assume the input tree is balanced when calculating time and space complexity."
   ]
  },
  {
   "cell_type": "code",
   "execution_count": 1,
   "id": "9dbb8537",
   "metadata": {},
   "outputs": [
    {
     "name": "stdout",
     "output_type": "stream",
     "text": [
      "['CaveA', 'CaveB', 'CaveD']\n",
      "['CaveA']\n"
     ]
    }
   ],
   "source": [
    "class TreeNode:\n",
    "    def __init__(self, value, left=None, right=None):\n",
    "        self.val = value\n",
    "        self.left = left\n",
    "        self.right = right\n",
    "\n",
    "def leftmost_path(root):\n",
    "    res = []\n",
    "\n",
    "    while root:\n",
    "        res.append(root.val)\n",
    "        root = root.left\n",
    "    \n",
    "    return res\n",
    "\n",
    "\"\"\"\n",
    "        CaveA\n",
    "       /      \\\n",
    "    CaveB    CaveC\n",
    "    /   \\        \\\n",
    "CaveD CaveE     CaveF  \n",
    "\"\"\"\n",
    "system_a = TreeNode(\"CaveA\", \n",
    "                  TreeNode(\"CaveB\", TreeNode(\"CaveD\"), TreeNode(\"CaveE\")), \n",
    "                          TreeNode(\"CaveC\", None, TreeNode(\"CaveF\")))\n",
    "\n",
    "\"\"\"\n",
    "  CaveA\n",
    "      \\\n",
    "      CaveB\n",
    "        \\\n",
    "        CaveC  \n",
    "\"\"\"\n",
    "system_b = TreeNode(\"CaveA\", None, TreeNode(\"CaveB\", None, TreeNode(\"CaveC\")))\n",
    "\n",
    "print(leftmost_path(system_a))\n",
    "print(leftmost_path(system_b))\n",
    "\n",
    "# ['CaveA', 'CaveB', 'CaveD']\n",
    "# ['CaveA']"
   ]
  },
  {
   "cell_type": "markdown",
   "id": "6604a6e4",
   "metadata": {},
   "source": [
    "Problem 2: Escaping the Sea Caves II\n",
    "If you implemented leftmost_path() iteratively in the previous problem, implement it recursively. If you implemented it recursively, implement it iteratively.\n",
    "\n",
    "Evaluate the time and space complexity of your function. Define your variables and provide a rationale for why you believe your solution has the stated time and space complexity. Assume the input tree is balanced when calculating time and space complexity."
   ]
  },
  {
   "cell_type": "code",
   "execution_count": 3,
   "id": "9f4e6e59",
   "metadata": {},
   "outputs": [
    {
     "name": "stdout",
     "output_type": "stream",
     "text": [
      "['CaveA', 'CaveB', 'CaveD']\n",
      "['CaveA']\n"
     ]
    }
   ],
   "source": [
    "class TreeNode:\n",
    "    def __init__(self, value, left=None, right=None):\n",
    "        self.val = value\n",
    "        self.left = left\n",
    "        self.right = right\n",
    "\n",
    "def leftmost_path(root):\n",
    "    if not root:\n",
    "        return []\n",
    "    \n",
    "    return [root.val] + leftmost_path(root.left)\n",
    "\"\"\"\n",
    "        CaveA\n",
    "       /      \\\n",
    "    CaveB    CaveC\n",
    "    /   \\        \\\n",
    "CaveD CaveE     CaveF  \n",
    "\"\"\"\n",
    "system_a = TreeNode(\"CaveA\", \n",
    "                  TreeNode(\"CaveB\", TreeNode(\"CaveD\"), TreeNode(\"CaveE\")), \n",
    "                          TreeNode(\"CaveC\", None, TreeNode(\"CaveF\")))\n",
    "\n",
    "\"\"\"\n",
    "  CaveA\n",
    "      \\\n",
    "      CaveB\n",
    "        \\\n",
    "        CaveC  \n",
    "\"\"\"\n",
    "system_b = TreeNode(\"CaveA\", None, TreeNode(\"CaveB\", None, TreeNode(\"CaveC\")))\n",
    "\n",
    "print(leftmost_path(system_a))\n",
    "print(leftmost_path(system_b))\n",
    "\n",
    "# ['CaveA', 'CaveB', 'CaveD']\n",
    "# ['CaveA']"
   ]
  },
  {
   "cell_type": "markdown",
   "id": "e22cbf26",
   "metadata": {},
   "source": [
    "Problem 3: Count the Food Chain\n",
    "Given the root of a binary tree representing a marine food chain, return the number of species (nodes) in the chain.\n",
    "\n",
    "Evaluate the time and space complexity of your function. Define your variables and provide a rationale for why you believe your solution has the stated time and space complexity. Assume the input tree is balanced when calculating time and space complexity."
   ]
  },
  {
   "cell_type": "code",
   "execution_count": 4,
   "id": "1dd1886d",
   "metadata": {},
   "outputs": [
    {
     "name": "stdout",
     "output_type": "stream",
     "text": [
      "6\n"
     ]
    }
   ],
   "source": [
    "class TreeNode:\n",
    "    def __init__(self, value, left=None, right=None):\n",
    "        self.val = value\n",
    "        self.left = left\n",
    "        self.right = right\n",
    "\n",
    "def count_species(node):\n",
    "    res = []\n",
    "\n",
    "    def dfs(root):\n",
    "        # node - left - right\n",
    "        if not root:\n",
    "            return\n",
    "        \n",
    "        res.append(root.val)\n",
    "        dfs(root.left)\n",
    "        dfs(root.right)\n",
    "    \n",
    "    dfs(node)\n",
    "\n",
    "    return len(res)\n",
    "\n",
    "\"\"\"\n",
    "         Shark\n",
    "       /       \\  \n",
    "      /         \\\n",
    "   Grouper     Snapper\n",
    "   /     \\           \\  \n",
    "Conch   Tang       Zooplankton\n",
    "\"\"\"\n",
    "\n",
    "food_chain = TreeNode(\"Shark\", \n",
    "                    TreeNode(\"Grouper\", TreeNode(\"Conch\"), TreeNode(\"Tang\")),\n",
    "                            TreeNode(\"Snapper\", None, TreeNode(\"Zooplankton\")))\n",
    "\n",
    "print(count_species(food_chain))\n",
    "\n",
    "# 6"
   ]
  },
  {
   "cell_type": "markdown",
   "id": "2ab2e731",
   "metadata": {},
   "source": [
    "Problem 4: Documenting Reefs\n",
    "You are exploring a vast coral reef system. The reef is represented as a binary tree, where each node corresponds to a specific coral formation. You want to document the reef as you encounter it, starting from the root or main entrance of the reef.\n",
    "\n",
    "Write a function explore_reef() that performs a preorder traversal of the reef and returns a list of the names of the coral formations in the order you visited them. In a preorder exploration, you explore the current node first, then the left subtree, and finally the right subtree.\n",
    "\n",
    "Evaluate the time and space complexity of your function. Define your variables and provide a rationale for why you believe your solution has the stated time and space complexity. Assume the input tree is balanced when calculating time and space complexity."
   ]
  },
  {
   "cell_type": "code",
   "execution_count": 5,
   "id": "d80a3f4f",
   "metadata": {},
   "outputs": [
    {
     "name": "stdout",
     "output_type": "stream",
     "text": [
      "['CoralA', 'CoralB', 'CoralD', 'CoralE', 'CoralC']\n"
     ]
    }
   ],
   "source": [
    "class TreeNode:\n",
    "    def __init__(self, value, left=None, right=None):\n",
    "        self.val = value\n",
    "        self.left = left\n",
    "        self.right = right\n",
    "\n",
    "def explore_reef(root):\n",
    "    res = []\n",
    "\n",
    "    def dfs(node):\n",
    "        if not node:\n",
    "            return \n",
    "\n",
    "        res.append(node.val)\n",
    "        dfs(node.left)\n",
    "        dfs(node.right)\n",
    "    \n",
    "    dfs(root)\n",
    "\n",
    "    return res\n",
    "\n",
    "\"\"\"\n",
    "         CoralA\n",
    "        /     \\\n",
    "     CoralB  CoralC\n",
    "     /   \\      \n",
    " CoralD CoralE  \n",
    "\"\"\"\n",
    "\n",
    "reef = TreeNode(\"CoralA\", \n",
    "                TreeNode(\"CoralB\", TreeNode(\"CoralD\"), TreeNode(\"CoralE\")), \n",
    "                          TreeNode(\"CoralC\"))\n",
    "\n",
    "print(explore_reef(reef))\n",
    "\n",
    "# ['CoralA', 'CoralB', 'CoralD', 'CoralE', 'CoralC']"
   ]
  },
  {
   "cell_type": "markdown",
   "id": "7787b80e",
   "metadata": {},
   "source": [
    "Problem 5: Poseidon's Decision II\n",
    "Poseidon has received advice on an important matter from his council of advisors. Help him evaluate the advice from his council to make a final decision. You are given the advice as the root of a binary tree representing a boolean expression.\n",
    "\n",
    "Leaf nodes have a boolean value of either True or False.\n",
    "Non-leaf nodes have two children and a string value of either AND or OR.\n",
    "The evaluation of a node is as follows:\n",
    "\n",
    "If the node is a leaf node, the evaluation is the value of the node, i.e. True or False.\n",
    "Otherwise evaluate the node's two children and apply the boolean operation of its value with the children's evaluations.\n",
    "Return the boolean result of evaluating the root node.\n",
    "\n",
    "Evaluate the time and space complexity of your function. Define your variables and provide a rationale for why you believe your solution has the stated time and space complexity. Assume the input tree is balanced when calculating time and space complexity."
   ]
  },
  {
   "cell_type": "code",
   "execution_count": 10,
   "id": "eb0b71fc",
   "metadata": {},
   "outputs": [
    {
     "name": "stdout",
     "output_type": "stream",
     "text": [
      "False\n"
     ]
    }
   ],
   "source": [
    "class TreeNode:\n",
    "    def __init__(self, value, left=None, right=None):\n",
    "        self.val = value\n",
    "        self.left = left\n",
    "        self.right = right\n",
    "\n",
    "def get_decision(node):\n",
    "    # Base case: If the node has no children, return its value\n",
    "    if node.left is None and node.right is None:\n",
    "        return node.val\n",
    "    \n",
    "    # Recursive case: Evaluate the left and right subtrees\n",
    "    left_eval = get_decision(node.left)\n",
    "    right_eval = get_decision(node.right)\n",
    "    \n",
    "    # Apply the operation at the current node\n",
    "    if node.val == \"AND\":\n",
    "        return left_eval and right_eval\n",
    "    elif node.val == \"OR\":\n",
    "        return left_eval or right_eval\n",
    "\n",
    "\"\"\"\n",
    "        AND\n",
    "     /      \\\n",
    "   OR       AND\n",
    "  /  \\       /  \\\n",
    "True False True False\n",
    "\"\"\"\n",
    "\n",
    "root = TreeNode(\"AND\")\n",
    "root.left = TreeNode(\"OR\")\n",
    "root.right = TreeNode(\"AND\")\n",
    "root.left.left = TreeNode(True)\n",
    "root.left.right = TreeNode(False)\n",
    "root.right.left = TreeNode(True)\n",
    "root.right.right = TreeNode(False)\n",
    "print(get_decision(root))\n",
    "\n",
    "# False\n",
    "# Explanation: \n",
    "# - Left Subtree Evaluation: True OR False evaluates to True\n",
    "# - Right Subtree Evaluation: True AND False evaluates to False\n",
    "# - Root and children Evaluation: True AND False evaluates to False"
   ]
  },
  {
   "cell_type": "markdown",
   "id": "6fc836f1",
   "metadata": {},
   "source": [
    "Problem 6: Uniform Coral\n",
    "Triton is looking for the perfect piece of coral to gift his mother, Amphitrite, for her birthday. Given the root of a binary tree representing a coral structure, write a function is_uniform() that evaluates the quality of the coral. The function should return True if each node in the coral tree has the same value and False otherwise.\n",
    "\n",
    "Evaluate the time and space complexity of your function. Define your variables and provide a rationale for why you believe your solution has the stated time and space complexity. Assume the input tree is balanced when calculating time and space complexity."
   ]
  },
  {
   "cell_type": "code",
   "execution_count": 16,
   "id": "d020f854",
   "metadata": {},
   "outputs": [
    {
     "name": "stdout",
     "output_type": "stream",
     "text": [
      "True\n",
      "False\n"
     ]
    }
   ],
   "source": [
    "class TreeNode:\n",
    "    def __init__(self, value, left=None, right=None):\n",
    "        self.val = value\n",
    "        self.left = left\n",
    "        self.right = right\n",
    "\n",
    "def is_uniform(root):\n",
    "    if not root:\n",
    "        return True \n",
    "\n",
    "    def dfs(node):\n",
    "        if not node:\n",
    "            return True\n",
    "        if node.val != root.val:\n",
    "            return False \n",
    "        return dfs(node.left) and dfs(node.right)\n",
    "    \n",
    "    return dfs(root)\n",
    "\n",
    "\"\"\"\n",
    "         1\n",
    "        / \\\n",
    "       1   1\n",
    "      / \\      \n",
    "     1   1 \n",
    "\"\"\"\n",
    "coral = TreeNode(1, TreeNode(1, TreeNode(1), TreeNode(1)), TreeNode(1))\n",
    "\n",
    "\n",
    "\"\"\"\n",
    "   1\n",
    "  / \\\n",
    " 2   1\n",
    "\"\"\"\n",
    "coral2 = TreeNode(1, TreeNode(2), TreeNode(1))\n",
    "\n",
    "print(is_uniform(coral))\n",
    "print(is_uniform(coral2))\n",
    "\n",
    "# True\n",
    "# False"
   ]
  },
  {
   "cell_type": "markdown",
   "id": "d4424c47",
   "metadata": {},
   "source": [
    "Problem 7: Biggest Pearl\n",
    "You are searching through a bed of oysters and searching for the oyster with the largest pearl. Given the root of a binary tree where each node represents the size of a pearl, return the size of the largest pearl.\n",
    "\n",
    "Evaluate the time and space complexity of your function. Define your variables and provide a rationale for why you believe your solution has the stated time and space complexity. Assume the input tree is balanced when calculating time and space complexity."
   ]
  },
  {
   "cell_type": "code",
   "execution_count": 18,
   "id": "c7caa685",
   "metadata": {},
   "outputs": [
    {
     "name": "stdout",
     "output_type": "stream",
     "text": [
      "7\n",
      "1\n"
     ]
    }
   ],
   "source": [
    "class TreeNode:\n",
    "    def __init__(self, value, left=None, right=None):\n",
    "        self.val = value\n",
    "        self.left = left\n",
    "        self.right = right\n",
    "\n",
    "def find_largest_pearl(root):\n",
    "    if not root:\n",
    "        return 0\n",
    "\n",
    "    left_max = find_largest_pearl(root.left)\n",
    "    right_max = find_largest_pearl(root.right)\n",
    "\n",
    "    return max(root.val, left_max, right_max)\n",
    "\n",
    "    \n",
    "\n",
    "\"\"\"\n",
    "         7\n",
    "        / \\\n",
    "       6   0\n",
    "      / \\      \n",
    "     5   1 \n",
    "\"\"\"\n",
    "oysters = TreeNode(7, TreeNode(6, TreeNode(5), TreeNode(1)), TreeNode(0))\n",
    "\n",
    "\n",
    "\"\"\"\n",
    "   1\n",
    "  / \\\n",
    " 0   1\n",
    "\"\"\"\n",
    "oysters2 = TreeNode(1, TreeNode(0), TreeNode(1))\n",
    "\n",
    "print(find_largest_pearl(oysters))\n",
    "print(find_largest_pearl(oysters2))\n",
    "\n",
    "# 7\n",
    "# 1"
   ]
  },
  {
   "cell_type": "markdown",
   "id": "20a16874",
   "metadata": {},
   "source": [
    "Problem 8: Coral Reef Symmetry\n",
    "Given the root of a binary tree representing a coral, return True if the coral is symmetric around its center and False otherwise. A coral is symmetric if the left and right subtrees are mirror images of each other.\n",
    "\n",
    "Evaluate the time and space complexity of your function. Define your variables and provide a rationale for why you believe your solution has the stated time and space complexity. Assume the input tree is balanced when calculating time and space complexity."
   ]
  },
  {
   "cell_type": "code",
   "execution_count": 21,
   "id": "b251e2e2",
   "metadata": {},
   "outputs": [
    {
     "name": "stdout",
     "output_type": "stream",
     "text": [
      "True\n",
      "False\n"
     ]
    }
   ],
   "source": [
    "\"\"\"\n",
    "# Example 1\n",
    "\n",
    "# Input: root = CoralKing\n",
    "# Expected Output: True\n",
    "\n",
    "# Example 2\n",
    "\n",
    "    CoralQueen\n",
    "     /      \\\n",
    " CoralX    CoralX\n",
    "  /  \\      /  \\\n",
    "CoralY CoralZ CoralY CoralZ\n",
    "\n",
    "# Input: root = CoralQueen\n",
    "# Expected Output: False\n",
    "\"\"\"\n",
    "\n",
    "class TreeNode:\n",
    "    def __init__(self, value, left=None, right=None):\n",
    "        self.val = value\n",
    "        self.left = left\n",
    "        self.right = right\n",
    "\n",
    "def is_symmetric(root):\n",
    "    if root is None:\n",
    "        return True\n",
    "    \n",
    "    def is_mirror(left, right):\n",
    "        if left is None and right is None:\n",
    "            return True\n",
    "        if left is None or right is None:\n",
    "            return False\n",
    "        if left.val != right.val:\n",
    "            return False\n",
    "        \n",
    "        return is_mirror(left.left, right.right) and is_mirror(left.right, right.left)\n",
    "    \n",
    "    return is_mirror(root.left, root.right)\n",
    "    \n",
    "\n",
    "    \n",
    "\n",
    "\"\"\"\n",
    "        A\n",
    "      /   \\\n",
    "     B     B\n",
    "    / \\   / \\\n",
    "   C  D   D  C\n",
    "\"\"\"\n",
    "coral1 = TreeNode('A', \n",
    "                  TreeNode('B', TreeNode('C'), TreeNode('D')), \n",
    "                          TreeNode('B', TreeNode('D'), TreeNode('C')))\n",
    "\n",
    "\n",
    "\"\"\"\n",
    "        A\n",
    "      /   \\\n",
    "     B     B\n",
    "    / \\   / \\\n",
    "   C  D   C  D\n",
    "\"\"\"\n",
    "coral2 = TreeNode('A', \n",
    "                  TreeNode('B', TreeNode('C'), TreeNode('D')), \n",
    "                          TreeNode('B', TreeNode('C'), TreeNode('D')))\n",
    "\n",
    "print(is_symmetric(coral1))\n",
    "print(is_symmetric(coral2))\n",
    "\n",
    "# True\n",
    "# False"
   ]
  },
  {
   "cell_type": "code",
   "execution_count": null,
   "id": "574d5bf5",
   "metadata": {},
   "outputs": [],
   "source": []
  }
 ],
 "metadata": {
  "kernelspec": {
   "display_name": "base",
   "language": "python",
   "name": "python3"
  },
  "language_info": {
   "codemirror_mode": {
    "name": "ipython",
    "version": 3
   },
   "file_extension": ".py",
   "mimetype": "text/x-python",
   "name": "python",
   "nbconvert_exporter": "python",
   "pygments_lexer": "ipython3",
   "version": "3.11.3"
  }
 },
 "nbformat": 4,
 "nbformat_minor": 5
}
