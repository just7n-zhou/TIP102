{
 "cells": [
  {
   "cell_type": "markdown",
   "id": "e7221513",
   "metadata": {},
   "source": [
    "### Problem 1: Post Format Validator\n",
    "### You are managing a social media platform and need to ensure that posts are properly formatted. Each post must have balanced and correctly nested tags, such as () for mentions, [] for hashtags, and {} for links. You are given a string representing a post's content, and your task is to determine if the tags in the post are correctly formatted.\n",
    "### \n",
    "### A post is considered valid if:\n",
    "### \n",
    "### Every opening tag has a corresponding closing tag of the same type.\n",
    "### Tags are closed in the correct order."
   ]
  },
  {
   "cell_type": "code",
   "execution_count": null,
   "id": "dfe646df",
   "metadata": {},
   "outputs": [
    {
     "name": "stdout",
     "output_type": "stream",
     "text": [
      "True\n",
      "True\n",
      "False\n"
     ]
    }
   ],
   "source": [
    "def is_valid_post_format(posts):\n",
    "    mapping = {\")\":\"(\", \"]\":\"[\", \"}\":\"{\"}\n",
    "    stack = []\n",
    "\n",
    "    for char in posts:\n",
    "        # If it's opening tag, append to the stack\n",
    "        if char in mapping.values():\n",
    "            stack.append(char)\n",
    "        # If it's a closing tag\n",
    "        elif char in mapping.keys():\n",
    "            # Return False if there is no remaining tag in stack \n",
    "            # or if the last opening tag in the stack is the matching opening tag\n",
    "            if not stack or stack.pop() != mapping[char]:\n",
    "                return False \n",
    "    \n",
    "    # After the loop there should be no remaining tags if every open tag is matched with its closing tag\n",
    "    return len(stack) == 0\n",
    "\n",
    "print(is_valid_post_format(\"()\"))\n",
    "print(is_valid_post_format(\"()[]{}\")) \n",
    "print(is_valid_post_format(\"(]\"))\n",
    "\n",
    "# True\n",
    "# True\n",
    "# False"
   ]
  },
  {
   "cell_type": "markdown",
   "id": "26556f1a",
   "metadata": {},
   "source": [
    "Problem 2: Reverse User Comments Queue\n",
    "On your platform, comments on posts are displayed in the order they are received. However, for a special feature, you need to reverse the order of comments before displaying them. Given a queue of comments represented as a list of strings, reverse the order using a stack."
   ]
  },
  {
   "cell_type": "code",
   "execution_count": 2,
   "id": "1a47b9d2",
   "metadata": {},
   "outputs": [
    {
     "name": "stdout",
     "output_type": "stream",
     "text": [
      "['Thanks for sharing.', 'Love it!', 'Great post!']\n",
      "['Well written.', 'Interesting read.', 'First!']\n"
     ]
    }
   ],
   "source": [
    "def reverse_comments_queue(comments):\n",
    "    stack = []\n",
    "    reversed_comments = []\n",
    "    \n",
    "    for comment in comments:\n",
    "        stack.append(comment)\n",
    "    \n",
    "    while stack:\n",
    "        reversed_comments.append(stack.pop())\n",
    "    \n",
    "    return reversed_comments\n",
    "\n",
    "print(reverse_comments_queue([\"Great post!\", \"Love it!\", \"Thanks for sharing.\"]))\n",
    "print(reverse_comments_queue([\"First!\", \"Interesting read.\", \"Well written.\"]))\n",
    "\n",
    "# ['Thanks for sharing.', 'Love it!', 'Great post!']\n",
    "# ['Well written.', 'Interesting read.', 'First!']"
   ]
  },
  {
   "cell_type": "markdown",
   "id": "f086b4ff",
   "metadata": {},
   "source": [
    "Problem 3: Check Symmetry in Post Titles\n",
    "As part of a new feature on your social media platform, you want to highlight post titles that are symmetrical, meaning they read the same forwards and backwards when ignoring spaces, punctuation, and case. Given a post title as a string, use a new algorithmic technique the two-pointer method to determine if the title is symmetrical."
   ]
  },
  {
   "cell_type": "code",
   "execution_count": null,
   "id": "bd74291f",
   "metadata": {},
   "outputs": [
    {
     "name": "stdout",
     "output_type": "stream",
     "text": [
      "True\n",
      "False\n"
     ]
    }
   ],
   "source": [
    "def is_symmetrical_title(title):\n",
    "    i,j = 0, len(title) - 1\n",
    "    while i < j:\n",
    "        # Keeping iterating both pointers if its char is not num or letter\n",
    "        while i < j and not title[i].isalnum():\n",
    "            i += 1\n",
    "        while i < j and not title[j].isalnum():\n",
    "            j -= 1\n",
    "        \n",
    "        if title[i].lower() != title[j].lower():\n",
    "            return False \n",
    "        i += 1\n",
    "        j -= 1\n",
    "    \n",
    "    return True\n",
    "        \n",
    "\n",
    "print(is_symmetrical_title(\"A Santa at NASA\"))\n",
    "print(is_symmetrical_title(\"Social Media\")) \n",
    "\n",
    "# True\n",
    "# False"
   ]
  },
  {
   "cell_type": "markdown",
   "id": "05665f11",
   "metadata": {},
   "source": [
    "Problem 4: Engagement Boost\n",
    "You track your daily engagement rates as a list of integers, sorted in non-decreasing order. To analyze the impact of certain strategies, you decide to square each engagement rate and then sort the results in non-decreasing order.\n",
    "\n",
    "Given an integer array engagements sorted in non-decreasing order, return an array of the squares of each number sorted in non-decreasing order.\n",
    "\n",
    "Your Task:\n",
    "\n",
    "Read through the existing solution and add comments so that everyone in your pod understands how it works.\n",
    "Modify the solution below to use the two-pointer technique."
   ]
  },
  {
   "cell_type": "code",
   "execution_count": 11,
   "id": "549f4fbc",
   "metadata": {},
   "outputs": [
    {
     "name": "stdout",
     "output_type": "stream",
     "text": [
      "[0, 1, 9, 16, 100]\n",
      "[4, 9, 9, 49, 121]\n"
     ]
    }
   ],
   "source": [
    "# def engagement_boost(engagements):\n",
    "#     # Initialize a list to square input list\n",
    "#     squared_engagements = []\n",
    "#     # iterate through input and square each element to put in list above\n",
    "#     for i in range(len(engagements)):\n",
    "#         squared_engagement = engagements[i] * engagements[i]\n",
    "#         squared_engagements.append((squared_engagement, i))\n",
    "#     # sort the squared list \n",
    "#     squared_engagements.sort(reverse=True)\n",
    "#     # initialize result list with same length as input list\n",
    "#     result = [0] * len(engagements)\n",
    "#     position = len(engagements) - 1\n",
    "#     # put each element in squared into result list \n",
    "#     for square, original_index in squared_engagements:\n",
    "#         result[position] = square\n",
    "#         position -= 1\n",
    "    \n",
    "#     return result\n",
    "\n",
    "def engagement_boost(engagements):\n",
    "    n = len(engagements)\n",
    "    result = [0] * n\n",
    "    left, right = 0, n - 1\n",
    "    position = n - 1\n",
    "\n",
    "    while left <= right:\n",
    "        left_square = engagements[left] * engagements[left]\n",
    "        right_square = engagements[right] * engagements[right]\n",
    "        if left_square > right_square:\n",
    "            result[position] = left_square\n",
    "            left += 1\n",
    "        else:\n",
    "            result[position] = right_square\n",
    "            right -= 1\n",
    "        position -= 1\n",
    "\n",
    "    return result\n",
    "\n",
    "print(engagement_boost([-4, -1, 0, 3, 10]))\n",
    "print(engagement_boost([-7, -3, 2, 3, 11]))\n",
    "\n",
    "# [0, 1, 9, 16, 100]\n",
    "# [4, 9, 9, 49, 121]"
   ]
  },
  {
   "cell_type": "markdown",
   "id": "673598e7",
   "metadata": {},
   "source": [
    "Problem 5: Content Cleaner\n",
    "You want to make sure your posts are clean and professional. Given a string post of lowercase and uppercase English letters, you want to remove any pairs of adjacent characters where one is the lowercase version of a letter and the other is the uppercase version of the same letter. Keep removing such pairs until the post is clean.\n",
    "\n",
    "A clean post does not have two adjacent characters post[i] and post[i + 1] where:\n",
    "\n",
    "post[i] is a lowercase letter and post[i + 1] is the same letter in uppercase or vice-versa.\n",
    "Return the clean post.\n",
    "\n",
    "Note that an empty string is also considered clean."
   ]
  },
  {
   "cell_type": "code",
   "execution_count": null,
   "id": "c4bf00e1",
   "metadata": {},
   "outputs": [
    {
     "name": "stdout",
     "output_type": "stream",
     "text": [
      "post\n",
      "\n",
      "s\n"
     ]
    }
   ],
   "source": [
    "def clean_post(post):\n",
    "    i, j = 0, 1\n",
    "    while j < len(post):\n",
    "        if post[i] != post[j] and post[i].lower() == post[j].lower():\n",
    "            # O(n) time complexity per iteration\n",
    "            post = post[:i] + post[j+1:]\n",
    "            i = 0\n",
    "            j = 1\n",
    "        else:\n",
    "            i += 1\n",
    "            j += 1\n",
    "    \n",
    "    return post\n",
    "    \n",
    "# Time: O(n^2)\n",
    "# Space: O(n) since string is immutable, each slice create a new string\n",
    "\n",
    "def clean_post(post):\n",
    "    # Append every char into this stack\n",
    "    stack = []\n",
    "\n",
    "    for char in post:\n",
    "        # for each char check if the top element in stack is same letter but different case\n",
    "        if stack and char != stack[-1] and char.lower() == stack[-1]:\n",
    "            # if yes don't add this char and pop the top element in stack\n",
    "            # This avoid adding 'dirty' chars into the stack\n",
    "            stack.pop()\n",
    "        else:\n",
    "            # if it's clean char, add it to stack\n",
    "            stack.append(char)\n",
    "\n",
    "    return \"\".join(stack)\n",
    "\n",
    "\n",
    "print(clean_post(\"poOost\")) \n",
    "print(clean_post(\"abBAcC\")) \n",
    "print(clean_post(\"s\")) \n",
    "\n",
    "# post\n",
    "# \n",
    "# s"
   ]
  },
  {
   "cell_type": "markdown",
   "id": "63e93849",
   "metadata": {},
   "source": [
    "Problem 6: Post Editor\n",
    "You want to add a creative twist to your posts by reversing the order of characters in each word within your post while still preserving whitespace and the initial word order. Given a string post, use a queue to reverse the order of characters in each word within the sentence."
   ]
  },
  {
   "cell_type": "code",
   "execution_count": 23,
   "id": "35f16c5f",
   "metadata": {},
   "outputs": [
    {
     "name": "stdout",
     "output_type": "stream",
     "text": [
      "tsooB ruoy tnemegagne htiw eseht spit\n",
      "kcehC tuo ym tsetal golv\n"
     ]
    }
   ],
   "source": [
    "from collections import deque\n",
    "\n",
    "def edit_post(post):\n",
    "    queue = deque()\n",
    "    result = []\n",
    "    \n",
    "    for char in post:\n",
    "        if char != ' ':\n",
    "            queue.append(char)  # Enqueue character\n",
    "        else:\n",
    "            while queue:\n",
    "                result.append(queue.pop())  # Dequeue to reverse the word\n",
    "            result.append(' ')  # Add the space back after the word is reversed\n",
    "    \n",
    "    # Handle the last word (if the string doesn't end with a space)\n",
    "    while queue:\n",
    "        result.append(queue.pop())\n",
    "    \n",
    "    return ''.join(result)\n",
    "\n",
    "print(edit_post(\"Boost your engagement with these tips\")) \n",
    "print(edit_post(\"Check out my latest vlog\")) \n",
    "\n",
    "# tsooB ruoy tnemegegna htiw esehT spit\n",
    "# kcehC tuo ym tseval golv"
   ]
  },
  {
   "cell_type": "markdown",
   "id": "c93807c7",
   "metadata": {},
   "source": [
    "Problem 7: Post Compare\n",
    "You often draft your posts and edit them before publishing. Given two draft strings draft1 and draft2, return true if they are equal when both are typed into empty text editors. '#' means a backspace character.\n",
    "\n",
    "Note that after backspacing an empty text, the text will remain empty."
   ]
  },
  {
   "cell_type": "code",
   "execution_count": 24,
   "id": "091a355c",
   "metadata": {},
   "outputs": [
    {
     "name": "stdout",
     "output_type": "stream",
     "text": [
      "True\n",
      "True\n",
      "False\n"
     ]
    }
   ],
   "source": [
    "def post_compare(draft1, draft2):\n",
    "    stack1 = []\n",
    "    stack2 = []\n",
    "\n",
    "    for char in draft1:\n",
    "        if char == \"#\":\n",
    "            stack1.pop()\n",
    "        else:\n",
    "            stack1.append(char)\n",
    "    \n",
    "    for char in draft2:\n",
    "        if char == \"#\":\n",
    "            stack2.pop()\n",
    "        else:\n",
    "            stack2.append(char)\n",
    "    \n",
    "    return stack1 == stack2\n",
    "\n",
    "\n",
    "print(post_compare(\"ab#c\", \"ad#c\"))\n",
    "print(post_compare(\"ab##\", \"c#d#\")) \n",
    "print(post_compare(\"a#c\", \"b\")) \n",
    "\n",
    "# True\n",
    "# True\n",
    "# False"
   ]
  }
 ],
 "metadata": {
  "kernelspec": {
   "display_name": "base",
   "language": "python",
   "name": "python3"
  },
  "language_info": {
   "codemirror_mode": {
    "name": "ipython",
    "version": 3
   },
   "file_extension": ".py",
   "mimetype": "text/x-python",
   "name": "python",
   "nbconvert_exporter": "python",
   "pygments_lexer": "ipython3",
   "version": "3.11.3"
  }
 },
 "nbformat": 4,
 "nbformat_minor": 5
}
