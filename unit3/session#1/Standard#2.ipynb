{
 "cells": [
  {
   "cell_type": "markdown",
   "id": "56aaf1d1",
   "metadata": {},
   "source": [
    "Problem 1: Time Needed to Stream Movies\n",
    "There are n users in a queue waiting to stream their favorite movies, where the 0th user is at the front of the queue and the (n - 1)th user is at the back of the queue.\n",
    "\n",
    "You are given a 0-indexed integer array movies of length n where the number of movies that the ith user would like to stream is movies[i].\n",
    "\n",
    "Each user takes exactly 1 second to stream a movie. A user can only stream 1 movie at a time and has to go back to the end of the queue (which happens instantaneously) in order to stream more movies. If a user does not have any movies left to stream, they will leave the queue.\n",
    "\n",
    "Return the time taken for the user at position k (0-indexed) to finish streaming all their movies."
   ]
  },
  {
   "cell_type": "code",
   "execution_count": 3,
   "id": "272d14dd",
   "metadata": {},
   "outputs": [
    {
     "name": "stdout",
     "output_type": "stream",
     "text": [
      "6\n",
      "8\n"
     ]
    }
   ],
   "source": [
    "from collections import deque\n",
    "def time_required_to_stream(movies, k):\n",
    "    # initialize an empty queue\n",
    "    queue = deque()\n",
    "\n",
    "    # iterate through movies array and append a tuple of index and movie nums\n",
    "    # to the queue \n",
    "    for i in range(len(movies)):\n",
    "        queue.append((i, movies[i]))\n",
    "    \n",
    "    time = 0 \n",
    "    # while there is still tuples inside the queue\n",
    "    while queue:\n",
    "        # pop the left most tuple and increase time count by 1 \n",
    "        index, movie = queue.popleft()\n",
    "        time += 1\n",
    "        # if index is k and it's the last movie of this user\n",
    "        if index == k and movie == 1:\n",
    "            # return time \n",
    "            return time \n",
    "        # else if this user still has more than one movie to play, \n",
    "        # decrease the movie count by 1 and append to the right side of queue\n",
    "        if movie > 1:\n",
    "            queue.append((index, movie - 1))\n",
    "        \n",
    "\n",
    "\n",
    "print(time_required_to_stream([2, 3, 2], 2)) \n",
    "print(time_required_to_stream([5, 1, 1, 1], 0)) \n",
    "\n",
    "# 6\n",
    "# 8\n"
   ]
  },
  {
   "cell_type": "markdown",
   "id": "a39147d9",
   "metadata": {},
   "source": [
    "Problem 2: Reverse Watchlist\n",
    "You are given a list watchlist representing a list of shows sorted by popularity for a particular user. The user wants to discover new shows they haven't heard of before by reversing the list to show the least popular shows first.\n",
    "\n",
    "Using the two-pointer approach, implement a function reverse_watchlist() that reverses the order of the watchlist in-place. This means that the first show in the given list should become the last, the second show should become the second to last, and so on. Return the reversed list.\n",
    "\n",
    "Do not use list slicing (e.g., watchlist[::-1]) to achieve this."
   ]
  },
  {
   "cell_type": "code",
   "execution_count": null,
   "id": "e8172f72",
   "metadata": {},
   "outputs": [
    {
     "name": "stdout",
     "output_type": "stream",
     "text": [
      "['The Witcher', 'The Crown', 'Stranger Things', 'Breaking Bad']\n"
     ]
    },
    {
     "data": {
      "text/plain": [
       "['The Witcher', 'TheCrown', 'Stranger Things', 'Breaking Bad']"
      ]
     },
     "execution_count": 3,
     "metadata": {},
     "output_type": "execute_result"
    }
   ],
   "source": [
    "def reverse_watchlist(watchlist):\n",
    "    # initialize left, right pointer at begin and end of array\n",
    "    i, j = 0, len(watchlist) - 1\n",
    "    # while left pointer is smaller than right pointer \n",
    "    while i < j:\n",
    "    # switch the position of elements at the two pointers \n",
    "        watchlist[i], watchlist[j] = watchlist[j], watchlist[i]\n",
    "    # move left pointer rightward by 1 and move right pointer leftward by 1 \n",
    "        i += 1\n",
    "        j -= 1\n",
    "    # return the reversed array\n",
    "\n",
    "    return watchlist\n",
    "\n",
    "watchlist = [\"Breaking Bad\", \"Stranger Things\", \"The Crown\", \"The Witcher\"]\n",
    "\n",
    "print(reverse_watchlist(watchlist))  \n",
    "\n",
    "# ['The Witcher', 'TheCrown', 'Stranger Things', 'Breaking Bad']"
   ]
  },
  {
   "cell_type": "markdown",
   "id": "60fee13a",
   "metadata": {},
   "source": [
    "Problem 3: Remove All Adjacent Duplicate Shows\n",
    "You are given a string schedule representing the lineup of shows on a streaming platform, where each character in the string represents a different show. A duplicate removal consists of choosing two adjacent and equal shows and removing them from the schedule.\n",
    "\n",
    "We repeatedly make duplicate removals on schedule until no further removals can be made.\n",
    "\n",
    "Return the final schedule after all such duplicate removals have been made. The answer is guaranteed to be unique."
   ]
  },
  {
   "cell_type": "code",
   "execution_count": 4,
   "id": "c3a069fd",
   "metadata": {},
   "outputs": [
    {
     "name": "stdout",
     "output_type": "stream",
     "text": [
      "ca\n",
      "ay\n"
     ]
    }
   ],
   "source": [
    "def remove_duplicate_shows(schedule):\n",
    "    # initialize a stack \n",
    "    stack = [] \n",
    "    # iterate through char in array\n",
    "    for char in schedule:\n",
    "        # if there is nothing in stack, append this char \n",
    "        if not stack:\n",
    "            stack.append(char)\n",
    "        # else check the top of the stack is same as this char \n",
    "        else:\n",
    "            # if so pop top of the stack\n",
    "            if stack[-1] == char:\n",
    "                stack.pop()\n",
    "            # otherwise append char to the stack\n",
    "            else:\n",
    "                stack.append(char)\n",
    "    # return the string by joining the stack\n",
    "\n",
    "    return \"\".join(stack)\n",
    "print(remove_duplicate_shows(\"abbaca\")) \n",
    "print(remove_duplicate_shows(\"azxxzy\")) \n",
    "\n",
    "# ca\n",
    "# ay"
   ]
  },
  {
   "cell_type": "markdown",
   "id": "4ecd1556",
   "metadata": {},
   "source": [
    "Problem 4: Minimum Average of Smallest and Largest View Counts\n",
    "You manage a collection of view counts for different shows on a streaming platform. You are given an array view_counts of n integers, where n is even.\n",
    "\n",
    "You repeat the following procedure n / 2 times:\n",
    "\n",
    "Remove the show with the smallest view count, min_view_count, and the show with the largest view count, max_view_count, from view_counts.\n",
    "Add (min_view_count + max_view_count) / 2 to the list of average view counts average_views.\n",
    "Return the minimum element in average_views."
   ]
  },
  {
   "cell_type": "code",
   "execution_count": 9,
   "id": "dffdd939",
   "metadata": {},
   "outputs": [
    {
     "name": "stdout",
     "output_type": "stream",
     "text": [
      "5.5\n",
      "5.5\n",
      "5.0\n"
     ]
    }
   ],
   "source": [
    "def minimum_average_view_count(view_counts):\n",
    "    # sort the view_counts\n",
    "    view_counts.sort()\n",
    "    # initialize average view list\n",
    "    average_views = []\n",
    "    # Use a copy so we don't modify the input list\n",
    "    temp = view_counts.copy()\n",
    "    # We do this n/2 times\n",
    "    for _ in range(len(view_counts) // 2):\n",
    "        min_view = temp.pop(0)   # smallest\n",
    "        max_view = temp.pop(-1)  # largest\n",
    "        avg = (min_view + max_view) / 2\n",
    "        average_views.append(avg)\n",
    "    # return the min of the average_views\n",
    "    return min(average_views)\n",
    "    \n",
    "\n",
    "print(minimum_average_view_count([7, 8, 3, 4, 15, 13, 4, 1])) \n",
    "print(minimum_average_view_count([1, 9, 8, 3, 10, 5])) \n",
    "print(minimum_average_view_count([1, 2, 3, 7, 8, 9])) \n",
    "\n",
    "# 5.5\n",
    "# 5.5\n",
    "# 5.0"
   ]
  },
  {
   "cell_type": "markdown",
   "id": "77724daa",
   "metadata": {},
   "source": [
    "Problem 5: Minimum Remaining Watchlist After Removing Movies\n",
    "You have a watchlist consisting only of uppercase English letters representing movies. Each movie is represented by a unique letter.\n",
    "\n",
    "You can apply some operations to this watchlist where, in one operation, you can remove any occurrence of one of the movie pairs \"AB\" or \"CD\" from the watchlist.\n",
    "\n",
    "Return the minimum possible length of the modified watchlist that you can obtain.\n",
    "\n",
    "Note that the watchlist concatenates after removing the movie pair and could produce new \"AB\" or \"CD\" pairs."
   ]
  },
  {
   "cell_type": "code",
   "execution_count": 10,
   "id": "aeb9db5f",
   "metadata": {},
   "outputs": [
    {
     "name": "stdout",
     "output_type": "stream",
     "text": [
      "2\n",
      "5\n"
     ]
    }
   ],
   "source": [
    "def min_remaining_watchlist(watchlist):\n",
    "    # use stack to keep track of char \n",
    "    stack = []\n",
    "    # iterate though watchlist \n",
    "    for char in watchlist:\n",
    "    # if there is nothing in stack, append char to stack\n",
    "        if not stack:\n",
    "            stack.append(char)\n",
    "    # else check top of the stack \n",
    "        else:\n",
    "        # if it's A, check if char is B \n",
    "            if stack[-1] == \"A\" and char == \"B\":\n",
    "                stack.pop()\n",
    "        # if it's C, check if char is D \n",
    "            elif stack[-1] == \"C\" and char == \"D\":\n",
    "                stack.pop()\n",
    "        # else append char to the stack\n",
    "            else:\n",
    "                stack.append(char)\n",
    "    # return len of stack\n",
    "    return len(stack)\n",
    "\n",
    "print(min_remaining_watchlist(\"ABFCACDB\")) \n",
    "print(min_remaining_watchlist(\"ACBBD\")) \n",
    "\n",
    "# 2\n",
    "# 5"
   ]
  },
  {
   "cell_type": "markdown",
   "id": "c498fcb9",
   "metadata": {},
   "source": [
    "Problem 6: Apply Operations to Show Ratings\n",
    "You are given a 0-indexed array ratings of size n consisting of non-negative integers. Each integer represents the rating of a show in a streaming service.\n",
    "\n",
    "You need to apply n - 1 operations to this array where, in the ith operation (0-indexed), you will apply the following on the ith element of ratings:\n",
    "\n",
    "If ratings[i] == ratings[i + 1], then multiply ratings[i] by 2 and set ratings[i + 1] to 0. Otherwise, you skip this operation.\n",
    "After performing all the operations, shift all the 0's to the end of the array.\n",
    "\n",
    "For example, the array [1,0,2,0,0,1] after shifting all its 0's to the end, is [1,2,1,0,0,0].\n",
    "\n",
    "Return the resulting array of ratings."
   ]
  },
  {
   "cell_type": "code",
   "execution_count": null,
   "id": "5a43d5bc",
   "metadata": {},
   "outputs": [
    {
     "name": "stdout",
     "output_type": "stream",
     "text": [
      "[1, 4, 0, 2, 0, 0]\n",
      "[1, 0]\n"
     ]
    }
   ],
   "source": [
    "def apply_rating_operations(ratings):\n",
    "    # find len of ratings\n",
    "    n = len(ratings)\n",
    "    # iterate through ratings n - 1 times \n",
    "    for i in range(n - 1):\n",
    "        # check current rating and next rating\n",
    "        # and perform computation\n",
    "        if ratings[i] == ratings[i + 1]:\n",
    "            ratings[i] *= 2\n",
    "            ratings[i + 1] = 0\n",
    "\n",
    "    # use two pointers to move zeros to the end \n",
    "    left, right = 0, len(ratings) -1 \n",
    "    # while left is smaller than right \n",
    "    while left < right:\n",
    "        # check if left char is 0, if so switch it to the right pointer \n",
    "        if ratings[left] == 0:\n",
    "            ratings[left], ratings[right] = ratings[right], ratings[left]\n",
    "            # iterate both pointers \n",
    "            left += 1\n",
    "            right -= 1\n",
    "        # else only iterate the left pointer\n",
    "        else:\n",
    "            left += 1\n",
    "    # return modified ratings \n",
    "    return ratings \n",
    "\n",
    "print(apply_rating_operations([1, 2, 2, 1, 1, 0])) \n",
    "print(apply_rating_operations([0, 1])) \n",
    "\n",
    "# [1, 4, 2, 0, 0, 0]\n",
    "# [1, 0]"
   ]
  },
  {
   "cell_type": "markdown",
   "id": "90ead757",
   "metadata": {},
   "source": [
    "Problem 7: Lexicographically Smallest Watchlist\n",
    "You are managing a watchlist for a streaming service, represented by a string watchlist consisting of lowercase English letters, where each letter represents a different show.\n",
    "\n",
    "You are allowed to perform operations on this watchlist. In one operation, you can replace a show in watchlist with another show (i.e., another lowercase English letter).\n",
    "\n",
    "Your task is to make the watchlist a palindrome with the minimum number of operations possible. If there are multiple palindromes that can be made using the minimum number of operations, make the lexicographically smallest one.\n",
    "\n",
    "A string a is lexicographically smaller than a string b (of the same length) if in the first position where a and b differ, string a has a letter that appears earlier in the alphabet than the corresponding letter in b.\n",
    "\n",
    "Return the resulting watchlist string.\n",
    "\n",
    "Implement the following pseudocode:\n",
    "\n",
    "1. Convert the watchlist string to a list.\n",
    "2. Initialize two pointers:\n",
    "   * Left Pointer: Start at the beginning of the list (index 0).\n",
    "   * Right Pointer: Start at the end of the list (last index).\n",
    "3. While the left pointer is less than the right pointer:\n",
    "   a. Compare the characters at the left and right pointers.\n",
    "   b. If the characters are different:\n",
    "      * Replace the character that is alphabetically later (greater) with the one that is earlier (smaller) to make the string lexicographically smaller.\n",
    "   c. Move the left pointer one step to the right.\n",
    "   d. Move the right pointer one step to the left.\n",
    "4. Convert the list back to a string.\n",
    "5. Return the resulting string."
   ]
  },
  {
   "cell_type": "code",
   "execution_count": 16,
   "id": "e868e85c",
   "metadata": {},
   "outputs": [
    {
     "name": "stdout",
     "output_type": "stream",
     "text": [
      "efcfe\n",
      "abba\n",
      "neven\n"
     ]
    }
   ],
   "source": [
    "def make_smallest_watchlist(watchlist):\n",
    "    #1. Convert the watchlist string to a list.\n",
    "    watch_list = list(watchlist)\n",
    "    # 2. Initialize two pointers:\n",
    "    # * Left Pointer: Start at the beginning of the list (index 0).\n",
    "    # * Right Pointer: Start at the end of the list (last index).\n",
    "    left, right = 0, len(watch_list) - 1\n",
    "    # 3. While the left pointer is less than the right pointer:\n",
    "    while left < right:\n",
    "    # a. Compare the characters at the left and right pointers.\n",
    "    # b. If the characters are different:\n",
    "        if watch_list[left] != watch_list[right]:\n",
    "    #     * Replace the character that is alphabetically later (greater) with the one that is earlier (smaller) to make the string lexicographically smaller.\n",
    "            if watch_list[left] < watch_list[right]:\n",
    "                watch_list[right] = watch_list[left]\n",
    "            else:\n",
    "                watch_list[left] = watch_list[right]\n",
    "        # c. Move the left pointer one step to the right.\n",
    "        left += 1\n",
    "        # d. Move the right pointer one step to the left.\n",
    "        right -= 1\n",
    "    # 4. Convert the list back to a string.\n",
    "    watch_list = \"\".join(watch_list)\n",
    "    # 5. Return the resulting string.\n",
    "    return watch_list\n",
    "\n",
    "print(make_smallest_watchlist(\"egcfe\")) \n",
    "print(make_smallest_watchlist(\"abcd\")) \n",
    "print(make_smallest_watchlist(\"seven\")) \n",
    "\n",
    "# efcfe\n",
    "# abba\n",
    "# neven"
   ]
  }
 ],
 "metadata": {
  "kernelspec": {
   "display_name": "base",
   "language": "python",
   "name": "python3"
  },
  "language_info": {
   "codemirror_mode": {
    "name": "ipython",
    "version": 3
   },
   "file_extension": ".py",
   "mimetype": "text/x-python",
   "name": "python",
   "nbconvert_exporter": "python",
   "pygments_lexer": "ipython3",
   "version": "3.11.3"
  }
 },
 "nbformat": 4,
 "nbformat_minor": 5
}
