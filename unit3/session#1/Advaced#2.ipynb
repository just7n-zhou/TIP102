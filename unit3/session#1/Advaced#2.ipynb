{
 "cells": [
  {
   "cell_type": "markdown",
   "id": "2420ba31",
   "metadata": {},
   "source": [
    "Problem 1: Arrange Guest Arrival Order\n",
    "You are organizing a prestigious event, and you must arrange the order in which guests arrive based on their status. The sequence is dictated by a 0-indexed string arrival_pattern of length n, consisting of the characters 'I' meaning the next guest should have a higher status than the previous one, and 'D' meaning the next guest should have a lower status than the previous one.\n",
    "\n",
    "You need to create a 0-indexed string guest_order of length n + 1 that satisfies the following conditions:\n",
    "\n",
    "guest_order consists of the digits '1' to '9', where each digit represents the guest's status and is used at most once.\n",
    "If arrival_pattern[i] == 'I', then guest_order[i] < guest_order[i + 1].\n",
    "If arrival_pattern[i] == 'D', then guest_order[i] > guest_order[i + 1].\n",
    "Return the lexicographically smallest possible string guest_order that meets the conditions."
   ]
  },
  {
   "cell_type": "code",
   "execution_count": 1,
   "id": "359e08e6",
   "metadata": {},
   "outputs": [
    {
     "name": "stdout",
     "output_type": "stream",
     "text": [
      "123549876\n",
      "4321\n"
     ]
    }
   ],
   "source": [
    "def arrange_guest_arrival_order(arrival_pattern):\n",
    "    n = len(arrival_pattern)\n",
    "    guest_order = []\n",
    "    stack = []\n",
    "\n",
    "    for i in range(n + 1):\n",
    "        stack.append(str(i + 1))\n",
    "        if i == n or arrival_pattern[i] == 'I':\n",
    "            while stack:\n",
    "                guest_order.append(stack.pop())\n",
    "\n",
    "    return ''.join(guest_order)\n",
    "\n",
    "print(arrange_guest_arrival_order(\"IIIDIDDD\"))  \n",
    "print(arrange_guest_arrival_order(\"DDD\"))  \n",
    "\n",
    "# 123549876\n",
    "# 4321"
   ]
  },
  {
   "cell_type": "markdown",
   "id": "4d7d9ee1",
   "metadata": {},
   "source": [
    "Problem 2: Reveal Attendee List in Order\n",
    "You are organizing an event where attendees have unique registration numbers. These numbers are provided in the list attendees. You need to arrange the attendees in a way that, when their registration numbers are revealed one by one, the numbers appear in increasing order.\n",
    "\n",
    "The process of revealing the attendee list follows these steps repeatedly until all registration numbers are revealed:\n",
    "\n",
    "Take the top registration number from the list, reveal it, and remove it from the list.\n",
    "If there are still registration numbers in the list, take the next top registration number and move it to the bottom of the list.\n",
    "If there are still unrevealed registration numbers, go back to step 1. Otherwise, stop.\n",
    "Return an ordering of the registration numbers that would reveal the attendees in increasing order."
   ]
  },
  {
   "cell_type": "code",
   "execution_count": null,
   "id": "7bdd01b3",
   "metadata": {},
   "outputs": [
    {
     "name": "stdout",
     "output_type": "stream",
     "text": [
      "[2, 13, 3, 11, 5, 17, 7]\n",
      "[1, 1000]\n"
     ]
    }
   ],
   "source": [
    "from collections import deque\n",
    "\n",
    "def reveal_attendee_list_in_order(attendees):\n",
    "    sorted_attendees = sorted(attendees)\n",
    "    n = len(attendees)\n",
    "    res = [0] * n\n",
    "    index_queque = deque(n) # [0,1,3,4,5,,,n]\n",
    "\n",
    "\n",
    "    for attendee in sorted_attendees:\n",
    "        res[]\n",
    "\n",
    "print(reveal_attendee_list_in_order([17,13,11,2,3,5,7])) #[2,3,5,7,11,13,17]\n",
    "print(reveal_attendee_list_in_order([1,1000]))  \n",
    "\n",
    "#[2,13,3,11,5,17,7]\n",
    "#[1,1000]"
   ]
  },
  {
   "cell_type": "markdown",
   "id": "cd50f3a5",
   "metadata": {},
   "source": [
    "Problem 3: Arrange Event Attendees by Priority\n",
    "You are organizing a large event and need to arrange the attendees based on their priority levels. You are given a 0-indexed list attendees, where each element represents the priority level of an attendee, and an integer priority that indicates a particular level of priority.\n",
    "\n",
    "Your task is to rearrange the attendees list such that the following conditions are met:\n",
    "\n",
    "Every attendee with a priority less than the specified priority appears before every attendee with a priority greater than the specified priority.\n",
    "Every attendee with a priority equal to the specified priority appears between the attendees with lower and higher priorities.\n",
    "The relative order of the attendees within each priority group (less than, equal to, greater than) must be preserved.\n",
    "Return the attendees list after the rearrangement."
   ]
  },
  {
   "cell_type": "code",
   "execution_count": null,
   "id": "c6fee844",
   "metadata": {},
   "outputs": [],
   "source": [
    "def arrange_attendees_by_priority(attendees, priority):\n",
    "    \n",
    "\n",
    "print(arrange_attendees_by_priority([9,12,5,10,14,3,10], 10)) \n",
    "print(arrange_attendees_by_priority([-3,4,3,2], 2)) \n",
    "\n",
    "[9,5,3,10,10,12,14]\n",
    "[-3,2,4,3]"
   ]
  }
 ],
 "metadata": {
  "kernelspec": {
   "display_name": "base",
   "language": "python",
   "name": "python3"
  },
  "language_info": {
   "codemirror_mode": {
    "name": "ipython",
    "version": 3
   },
   "file_extension": ".py",
   "mimetype": "text/x-python",
   "name": "python",
   "nbconvert_exporter": "python",
   "pygments_lexer": "ipython3",
   "version": "3.11.3"
  }
 },
 "nbformat": 4,
 "nbformat_minor": 5
}
