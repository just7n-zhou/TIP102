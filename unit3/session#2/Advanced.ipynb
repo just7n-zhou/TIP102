{
 "cells": [
  {
   "cell_type": "markdown",
   "id": "2918462f",
   "metadata": {},
   "source": [
    "Problem 1: Blueprint Approval Process\n",
    "You are in charge of overseeing the blueprint approval process for various architectural designs. Each blueprint has a specific complexity level, represented by an integer. Due to the complex nature of the designs, the approval process follows a strict order:\n",
    "\n",
    "Blueprints with lower complexity should be reviewed first.\n",
    "If a blueprint with higher complexity is submitted, it must wait until all simpler blueprints have been approved.\n",
    "Your task is to simulate the blueprint approval process using a queue. You will receive a list of blueprints, each represented by their complexity level in the order they are submitted. Process the blueprints such that the simpler designs (lower numbers) are approved before more complex ones.\n",
    "\n",
    "Return the order in which the blueprints are approved."
   ]
  },
  {
   "cell_type": "code",
   "execution_count": 2,
   "id": "e866c147",
   "metadata": {},
   "outputs": [
    {
     "name": "stdout",
     "output_type": "stream",
     "text": [
      "[1, 2, 3, 4, 5]\n",
      "[2, 4, 5, 6, 7]\n"
     ]
    }
   ],
   "source": [
    "from collections import deque\n",
    "\n",
    "def blueprint_approval(blueprints):\n",
    "    my_deque = deque()\n",
    "\n",
    "    for num in sorted(blueprints):\n",
    "        my_deque.append(num)\n",
    "    \n",
    "    res = []\n",
    "    while my_deque:\n",
    "        res.append(my_deque.popleft())\n",
    "    \n",
    "    return res\n",
    "\n",
    "print(blueprint_approval([3, 5, 2, 1, 4])) \n",
    "print(blueprint_approval([7, 4, 6, 2, 5])) \n",
    "\n",
    "# [1, 2, 3, 4, 5]\n",
    "# [2, 4, 5, 6, 7]\n"
   ]
  },
  {
   "cell_type": "markdown",
   "id": "5aa17117",
   "metadata": {},
   "source": [
    "Problem 2: Build the Tallest Skyscraper\n",
    "You are given an array floors representing the heights of different building floors. Your task is to design a skyscraper using these floors, where each floor must be placed on top of a floor with equal or greater height. However, you can only start a new skyscraper when necessary, meaning when no more floors can be added to the current skyscraper according to the rules.\n",
    "\n",
    "Return the number of skyscrapers you can build using the given floors."
   ]
  },
  {
   "cell_type": "code",
   "execution_count": null,
   "id": "691fe9fd",
   "metadata": {},
   "outputs": [
    {
     "name": "stdout",
     "output_type": "stream",
     "text": [
      "4\n",
      "4\n",
      "2\n",
      "4\n",
      "4\n",
      "2\n"
     ]
    }
   ],
   "source": [
    "def build_skyscrapers(floors):\n",
    "    stack = []\n",
    "    skyscrapers = 0\n",
    "\n",
    "    for floor in floors:\n",
    "        # Stack is empty, start a new skyscraper\n",
    "        if not stack:\n",
    "            stack.append(floor)\n",
    "            skyscrapers += 1\n",
    "        \n",
    "        # Build on top of the same skyscraper when top of stack >= floor\n",
    "        # Do not increment skyscraper in this case\n",
    "        elif stack[-1] >= floor:\n",
    "            stack.append(floor)\n",
    "        \n",
    "        # Pop floors and start new sky scraper when top of stack < floor\n",
    "        elif stack[-1] < floor:\n",
    "            while stack and stack[-1] < floor:\n",
    "                stack.pop()\n",
    "            stack.append(floor) # begin new skyscraper\n",
    "            skyscrapers += 1\n",
    "    return skyscrapers\n",
    "\n",
    "# Example usage\n",
    "print(build_skyscrapers([10, 5, 8, 3, 7, 2, 9]))  # Output: 4\n",
    "# [10,5] [8,3] [7,2] [9]\n",
    "print(build_skyscrapers([7, 3, 7, 3, 5, 1, 6]))  # Output: 4\n",
    "# [7,3] [7,3] [5,1] [6]\n",
    "print(build_skyscrapers([8, 6, 4, 7, 5, 3, 2]))  # Output: 2\n",
    "# [8,6] [7,5,3,2]"
   ]
  },
  {
   "cell_type": "markdown",
   "id": "a953f247",
   "metadata": {},
   "source": [
    "Problem 3: Dream Corridor Design\n",
    "You are an architect designing a corridor for a futuristic dream space. The corridor is represented by a list of integer values where each value represents the width of a segment of the corridor. Your goal is to find two segments such that the corridor formed between them (including the two segments) has the maximum possible area. The area is defined as the minimum width of the two segments multiplied by the distance between them.\n",
    "\n",
    "You need to return the maximum possible area that can be achieved."
   ]
  },
  {
   "cell_type": "code",
   "execution_count": null,
   "id": "bdf14128",
   "metadata": {},
   "outputs": [
    {
     "name": "stdout",
     "output_type": "stream",
     "text": [
      "49\n",
      "1\n"
     ]
    },
    {
     "data": {
      "text/plain": [
       "1"
      ]
     },
     "execution_count": 3,
     "metadata": {},
     "output_type": "execute_result"
    }
   ],
   "source": [
    "def max_corridor_area(segments):\n",
    "    # two pointers at beginning and end of the array \n",
    "    left, right = 0, len(segments) - 1\n",
    "    # get the area of current enclosed corridors\n",
    "    max_area = float('-inf')\n",
    "    while left < right:\n",
    "        curr_area = min(segments[left], segments[right]) * (right - left)\n",
    "        max_area = max(curr_area, max_area)\n",
    "    # check which pointer has a smaller value, then iterate this pointer \n",
    "        if segments[left] < segments[right]:\n",
    "            # trying to find a greater height \n",
    "            left += 1\n",
    "        else:\n",
    "            right -= 1  \n",
    "    # stop the iteration until left pointer meet the right pointer \n",
    "    return max_area\n",
    "\n",
    "# Time: O(n)\n",
    "# Space: O(1)\n",
    "\n",
    "\n",
    "print(max_corridor_area([1, 8, 6, 2, 5, 4, 8, 3, 7])) \n",
    "print(max_corridor_area([1, 1])) \n",
    "\n",
    "49\n",
    "1"
   ]
  }
 ],
 "metadata": {
  "kernelspec": {
   "display_name": "base",
   "language": "python",
   "name": "python3"
  },
  "language_info": {
   "codemirror_mode": {
    "name": "ipython",
    "version": 3
   },
   "file_extension": ".py",
   "mimetype": "text/x-python",
   "name": "python",
   "nbconvert_exporter": "python",
   "pygments_lexer": "ipython3",
   "version": "3.11.3"
  }
 },
 "nbformat": 4,
 "nbformat_minor": 5
}
