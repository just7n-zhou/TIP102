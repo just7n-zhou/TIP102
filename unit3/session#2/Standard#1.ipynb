{
 "cells": [
  {
   "cell_type": "markdown",
   "id": "c07233c5",
   "metadata": {},
   "source": [
    "Problem 1: Manage Performance Stage Changes\n",
    "At a cultural festival, multiple performances are scheduled on a single stage. However, due to last-minute changes, some performances need to be rescheduled or canceled. The festival organizers use a stack to manage these changes efficiently.\n",
    "\n",
    "You are given a list changes of strings where each string represents a change action. The actions can be:\n",
    "\n",
    "\"Schedule X\": Schedule a performance with ID X on the stage.\n",
    "\"Cancel\": Cancel the most recently scheduled performance that hasn't been canceled yet.\n",
    "\"Reschedule\": Reschedule the most recently canceled performance to be the next on stage.\n",
    "Return a list of performance IDs that remain scheduled on the stage after all changes have been applied."
   ]
  },
  {
   "cell_type": "code",
   "execution_count": null,
   "id": "baded86a",
   "metadata": {},
   "outputs": [
    {
     "name": "stdout",
     "output_type": "stream",
     "text": [
      "['Schedule A', 'Schedule C', 'Schedule B', 'Schedule D']\n",
      "[]\n",
      "['Schedule Z']\n"
     ]
    }
   ],
   "source": [
    "def manage_stage_changes(changes):\n",
    "    # use stack to keep track of performance status \n",
    "    stack = []\n",
    "    cancelled = \"\"\n",
    "    # iterate through changes \n",
    "    for change in changes:\n",
    "        # if there is nothing in stack, append current change\n",
    "        if not stack:\n",
    "            stack.append(change)\n",
    "        # else if there is change in stack\n",
    "        else:\n",
    "            # if change is Cancel, pop from top of the stack and keep it to cancelled\n",
    "            if change == \"Cancel\":\n",
    "                cancelled = stack.pop()\n",
    "            # if change is reschedule, append Cancelled to top of the stack\n",
    "            elif change == \"Reschedule\":\n",
    "                stack.append(cancelled)\n",
    "            else:\n",
    "                stack.append(change)\n",
    "\n",
    "    # return the stack after existing for loop\n",
    "    return stack \n",
    "\n",
    "# Time: O(n)\n",
    "# Space: O(n)\n",
    "\n",
    "print(manage_stage_changes([\"Schedule A\", \"Schedule B\", \"Cancel\", \"Schedule C\", \"Reschedule\", \"Schedule D\"]))  \n",
    "print(manage_stage_changes([\"Schedule A\", \"Cancel\", \"Schedule B\", \"Cancel\", \"Reschedule\", \"Cancel\"])) \n",
    "print(manage_stage_changes([\"Schedule X\", \"Schedule Y\", \"Cancel\", \"Cancel\", \"Schedule Z\"])) \n",
    "\n",
    "# [\"A\", \"C\", \"B\", \"D\"]\n",
    "# []\n",
    "# [\"Z\"]"
   ]
  },
  {
   "cell_type": "markdown",
   "id": "c45f7a5c",
   "metadata": {},
   "source": [
    "Problem 2: Queue of Performance Requests\n",
    "You are organizing a festival and want to manage the queue of requests to perform. Each request has a priority. Use a queue to process the performance requests in the order they arrive but ensure that requests with higher priorities are processed before those with lower priorities. Return the order in which performances are processed."
   ]
  },
  {
   "cell_type": "code",
   "execution_count": null,
   "id": "a6717e03",
   "metadata": {},
   "outputs": [
    {
     "name": "stdout",
     "output_type": "stream",
     "text": [
      "['Music', 'Dance', 'Drama']\n",
      "['Concert', 'Stand-up Comedy', 'Poetry', 'Magic Show']\n",
      "['Keynote Speech', 'Panel Discussion', 'Film Screening', 'Workshop', 'Art Exhibition']\n"
     ]
    }
   ],
   "source": [
    "from collections import deque\n",
    "def process_performance_requests(requests):\n",
    "    # initialize a queue to store sorted array\n",
    "    queue = deque(sorted(requests, reverse=True))\n",
    "\n",
    "    res = []\n",
    "\n",
    "    # while there is element in queue\n",
    "    while queue:\n",
    "        # pop the left most element from queue \n",
    "        # which is the highest priority one\n",
    "        priority, performance = queue.popleft()\n",
    "        res.append(performance)\n",
    "\n",
    "    return res\n",
    "\n",
    "# Time: O(n*logn)\n",
    "# Space: O(n)\n",
    "       \n",
    "\n",
    "print(process_performance_requests([(3, 'Dance'), (5, 'Music'), (1, 'Drama')]))\n",
    "print(process_performance_requests([(2, 'Poetry'), (1, 'Magic Show'), (4, 'Concert'), (3, 'Stand-up Comedy')]))\n",
    "print(process_performance_requests([(1, 'Art Exhibition'), (3, 'Film Screening'), (2, 'Workshop'), (5, 'Keynote Speech'), (4, 'Panel Discussion')]))\n",
    "\n",
    " # ['Music', 'Dance', 'Drama']\n",
    " # ['Concert', 'Stand-up Comedy', 'Poetry', 'Magic Show']\n",
    " # ['Keynote Speech', 'Panel Discussion', 'Film Screening', 'Workshop', 'Art Exhibition']\n"
   ]
  },
  {
   "cell_type": "markdown",
   "id": "ea18a356",
   "metadata": {},
   "source": [
    "Problem 3: Collecting Points at Festival Booths\n",
    "At the festival, there are various booths where visitors can collect points. Each booth has a specific number of points available. Use a stack to simulate the process of collecting points and return the total points collected after visiting all booths."
   ]
  },
  {
   "cell_type": "code",
   "execution_count": null,
   "id": "4449b1e1",
   "metadata": {},
   "outputs": [
    {
     "name": "stdout",
     "output_type": "stream",
     "text": [
      "26\n",
      "19\n",
      "25\n"
     ]
    }
   ],
   "source": [
    "def collect_festival_points(points):\n",
    "    # use res to keep track of points\n",
    "    res = 0\n",
    "    # while there is still point \n",
    "    while points:\n",
    "        # pop the top point and add it to res\n",
    "        res += points.pop()\n",
    "\n",
    "    # return res\n",
    "    return res\n",
    "\n",
    "# Time: O(n)\n",
    "# Space: O(1)\n",
    "\n",
    "print(collect_festival_points([5, 8, 3, 10])) \n",
    "print(collect_festival_points([2, 7, 4, 6])) \n",
    "print(collect_festival_points([1, 5, 9, 2, 8])) \n",
    "\n",
    "# 26\n",
    "# 19\n",
    "# 25"
   ]
  },
  {
   "cell_type": "markdown",
   "id": "2589f146",
   "metadata": {},
   "source": [
    "Problem 4: Festival Booth Navigation\n",
    "At the cultural festival, you are managing a treasure hunt where participants need to visit booths in a specific order. The order in which they should visit the booths is defined by a series of clues. However, some clues lead to dead ends, and participants must backtrack to previous booths to continue their journey.\n",
    "\n",
    "You are given a list of clues, where each clue is either a booth number (an integer) to visit or the word \"back\" indicating that the participant should backtrack to the previous booth.\n",
    "\n",
    "Write a function to simulate the participant's journey and return the final sequence of booths visited, in the order they were visited."
   ]
  },
  {
   "cell_type": "code",
   "execution_count": null,
   "id": "5584d2f7",
   "metadata": {},
   "outputs": [
    {
     "name": "stdout",
     "output_type": "stream",
     "text": [
      "[1, 3, 4]\n",
      "[5, 7]\n",
      "[3]\n"
     ]
    }
   ],
   "source": [
    "def booth_navigation(clues):\n",
    "    # use stack to keep track of clue\n",
    "    stack = []\n",
    "    stack.append(clues[0])\n",
    "    # iterate through clues \n",
    "    for clue in clues[1:]:\n",
    "        # append to stack if it's a number \n",
    "        if clue != \"back\":\n",
    "            stack.append(clue)\n",
    "        # if stack is empty, skip\n",
    "        elif not stack:\n",
    "            continue\n",
    "        # pop from top of the stack if it's \"back\"\n",
    "        else:\n",
    "            stack.pop()\n",
    "    # return remaining stack\n",
    "    return stack \n",
    "\n",
    "# Time: O(n)\n",
    "# Space: O(n)\n",
    "\n",
    "clues = [1, 2, \"back\", 3, 4]\n",
    "print(booth_navigation(clues)) \n",
    "\n",
    "clues = [5, 3, 2, \"back\", \"back\", 7]\n",
    "print(booth_navigation(clues)) \n",
    "\n",
    "clues = [1, \"back\", 2, \"back\", \"back\", 3]\n",
    "print(booth_navigation(clues)) \n",
    "\n",
    "# [1, 3, 4]\n",
    "# [5, 7]\n",
    "# [3]"
   ]
  },
  {
   "cell_type": "markdown",
   "id": "d2fec0ab",
   "metadata": {},
   "source": [
    "Problem 5: Merge Performance Schedules\n",
    "You are organizing a cultural festival and have two performance schedules, schedule1 and schedule2, each represented by a string where each character corresponds to a performance slot. Merge the schedules by adding performances in alternating order, starting with schedule1. If one schedule is longer than the other, append the additional performances onto the end of the merged schedule.\n",
    "\n",
    "Return the merged performance schedule."
   ]
  },
  {
   "cell_type": "code",
   "execution_count": null,
   "id": "2beb80a1",
   "metadata": {},
   "outputs": [
    {
     "name": "stdout",
     "output_type": "stream",
     "text": [
      "apbqcr\n",
      "apbqrs\n",
      "apbqcd\n"
     ]
    }
   ],
   "source": [
    "def merge_schedules(schedule1, schedule2):\n",
    "    # find the length of shorter str\n",
    "    n = min(len(schedule1), len(schedule2))\n",
    "    res = \"\"\n",
    "    # iterate both str n times \n",
    "    for i in range(n):\n",
    "    # append both char to res in order \n",
    "        res += schedule1[i]\n",
    "        res += schedule2[i]\n",
    "    # append the remaining of longer str\n",
    "    if n == len(schedule1):\n",
    "        res += schedule2[n:]\n",
    "    else:\n",
    "        res += schedule1[n:]\n",
    "    # return res\n",
    "    return res \n",
    "\n",
    "# Time: O(n + m)\n",
    "# Space: O(n + m)\n",
    "print(merge_schedules(\"abc\", \"pqr\")) \n",
    "print(merge_schedules(\"ab\", \"pqrs\")) \n",
    "print(merge_schedules(\"abcd\", \"pq\")) \n",
    "\n",
    "# apbqcr\n",
    "# apbqrs\n",
    "# apbqcd"
   ]
  },
  {
   "cell_type": "markdown",
   "id": "d4b6b831",
   "metadata": {},
   "source": [
    "Problem 6: Next Greater Event\n",
    "At a cultural festival, you have a schedule of events where each event has a unique popularity score. The schedule is represented by two distinct 0-indexed integer arrays schedule1 and schedule2, where schedule1 is a subset of schedule2.\n",
    "\n",
    "For each event in schedule1, find its position in schedule2 and determine the next event in schedule2 with a higher popularity score. If there is no such event, then the answer for that event is -1.\n",
    "\n",
    "Return an array ans of length schedule1.length such that ans[i] is the next greater event's popularity score as described above."
   ]
  },
  {
   "cell_type": "code",
   "execution_count": null,
   "id": "c5ec159d",
   "metadata": {},
   "outputs": [],
   "source": [
    "def next_greater_event(schedule1, schedule2):\n",
    "    next_greater = {}\n",
    "    stack = []\n",
    "\n",
    "    # Iterate over the events in schedule2\n",
    "    for event in schedule2:\n",
    "        while stack and stack[-1] < event:\n",
    "            next_greater[stack.pop()] = event\n",
    "        stack.append(event)\n",
    "\n",
    "    # For any remaining events in the stack, there is no greater event\n",
    "    for event in stack:\n",
    "        next_greater[event] = -1\n",
    "\n",
    "    # Construct the result list for events in schedule1\n",
    "    return [next_greater[event] for event in schedule1]\n",
    "\n",
    "# Example usage\n",
    "print(next_greater_event([4, 1, 2], [1, 3, 4, 2]))  # Output: [-1, 3, -1]\n",
    "print(next_greater_event([2, 4], [1, 2, 3, 4]))     # Output: [3, -1]    "
   ]
  },
  {
   "cell_type": "markdown",
   "id": "912e6665",
   "metadata": {},
   "source": [
    "Problem 7: Sort Performances by Type\n",
    "You are organizing a cultural festival and have a list of performances represented by an integer array performances. Each performance is classified as either an even type (e.g., dance, music) or an odd type (e.g., drama, poetry).\n",
    "\n",
    "Your task is to rearrange the performances so that all the even-type performances appear at the beginning of the array, followed by all the odd-type performances.\n",
    "\n",
    "Return any array that satisfies this condition."
   ]
  },
  {
   "cell_type": "code",
   "execution_count": 16,
   "id": "cdab8ca6",
   "metadata": {},
   "outputs": [
    {
     "name": "stdout",
     "output_type": "stream",
     "text": [
      "deque([4, 2, 3, 1])\n",
      "deque([0])\n"
     ]
    }
   ],
   "source": [
    "from collections import deque\n",
    "def sort_performances_by_type(performances):\n",
    "    # use queue to keep track of odd and even performance \n",
    "    queue = deque()\n",
    "    # iterate through the array \n",
    "    for performance in performances:\n",
    "        # if it's odd, append to the right side of queue\n",
    "        if performance % 2 == 1:\n",
    "            queue.append(performance)\n",
    "        # if it's even append to the left side of queue \n",
    "        else:\n",
    "            queue.appendleft(performance)\n",
    "        \n",
    "    # return queue\n",
    "    return queue\n",
    "print(sort_performances_by_type([3, 1, 2, 4]))  \n",
    "print(sort_performances_by_type([0]))  \n",
    "\n",
    "# [4, 2, 1, 3]\n",
    "# [0]"
   ]
  }
 ],
 "metadata": {
  "kernelspec": {
   "display_name": "base",
   "language": "python",
   "name": "python3"
  },
  "language_info": {
   "codemirror_mode": {
    "name": "ipython",
    "version": 3
   },
   "file_extension": ".py",
   "mimetype": "text/x-python",
   "name": "python",
   "nbconvert_exporter": "python",
   "pygments_lexer": "ipython3",
   "version": "3.11.3"
  }
 },
 "nbformat": 4,
 "nbformat_minor": 5
}
